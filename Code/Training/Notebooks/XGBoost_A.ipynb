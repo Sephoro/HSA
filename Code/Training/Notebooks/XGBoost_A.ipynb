{
 "cells": [
  {
   "cell_type": "code",
   "execution_count": 1,
   "metadata": {},
   "outputs": [
    {
     "ename": "ModuleNotFoundError",
     "evalue": "No module named 'pandas'",
     "output_type": "error",
     "traceback": [
      "\u001b[0;31m---------------------------------------------------------------------------\u001b[0m",
      "\u001b[0;31mModuleNotFoundError\u001b[0m                       Traceback (most recent call last)",
      "\u001b[0;32m<ipython-input-1-a357bfb602d4>\u001b[0m in \u001b[0;36m<module>\u001b[0;34m\u001b[0m\n\u001b[0;32m----> 1\u001b[0;31m \u001b[0;32mimport\u001b[0m \u001b[0mpandas\u001b[0m \u001b[0;32mas\u001b[0m \u001b[0mpd\u001b[0m\u001b[0;34m\u001b[0m\u001b[0;34m\u001b[0m\u001b[0m\n\u001b[0m\u001b[1;32m      2\u001b[0m \u001b[0;32mimport\u001b[0m \u001b[0mnumpy\u001b[0m \u001b[0;32mas\u001b[0m \u001b[0mnp\u001b[0m\u001b[0;34m\u001b[0m\u001b[0;34m\u001b[0m\u001b[0m\n\u001b[1;32m      3\u001b[0m \u001b[0;32mimport\u001b[0m \u001b[0mmatplotlib\u001b[0m\u001b[0;34m.\u001b[0m\u001b[0mpyplot\u001b[0m \u001b[0;32mas\u001b[0m \u001b[0mplt\u001b[0m\u001b[0;34m\u001b[0m\u001b[0;34m\u001b[0m\u001b[0m\n\u001b[1;32m      4\u001b[0m \u001b[0;32mfrom\u001b[0m \u001b[0mscipy\u001b[0m\u001b[0;34m.\u001b[0m\u001b[0mstats\u001b[0m \u001b[0;32mimport\u001b[0m \u001b[0muniform\u001b[0m\u001b[0;34m,\u001b[0m \u001b[0mrandint\u001b[0m\u001b[0;34m\u001b[0m\u001b[0;34m\u001b[0m\u001b[0m\n\u001b[1;32m      5\u001b[0m \u001b[0;32mimport\u001b[0m \u001b[0mseaborn\u001b[0m \u001b[0;32mas\u001b[0m \u001b[0msns\u001b[0m\u001b[0;34m\u001b[0m\u001b[0;34m\u001b[0m\u001b[0m\n",
      "\u001b[0;31mModuleNotFoundError\u001b[0m: No module named 'pandas'"
     ]
    }
   ],
   "source": [
    "import pandas as pd\n",
    "import numpy as np\n",
    "import matplotlib.pyplot as plt\n",
    "from scipy.stats import uniform, randint\n",
    "import seaborn as sns\n",
    "\n",
    "from xgboost import XGBClassifier\n",
    "import xgboost as xgb\n",
    "\n",
    "from sklearn.model_selection import train_test_split\n",
    "from sklearn.metrics import accuracy_score,confusion_matrix,classification_report, auc, mean_squared_error\n",
    "from sklearn.preprocessing import StandardScaler\n",
    "from sklearn import preprocessing\n",
    "from sklearn.utils import shuffle\n",
    "\n",
    "\n",
    "from sklearn.model_selection import KFold\n",
    "from sklearn.model_selection import StratifiedKFold, GridSearchCV, RandomizedSearchCV\n",
    "from sklearn.model_selection import cross_val_score"
   ]
  },
  {
   "cell_type": "markdown",
   "metadata": {},
   "source": [
    "### Load data"
   ]
  },
  {
   "cell_type": "code",
   "execution_count": 8,
   "metadata": {},
   "outputs": [
    {
     "data": {
      "text/html": [
       "<div>\n",
       "<style scoped>\n",
       "    .dataframe tbody tr th:only-of-type {\n",
       "        vertical-align: middle;\n",
       "    }\n",
       "\n",
       "    .dataframe tbody tr th {\n",
       "        vertical-align: top;\n",
       "    }\n",
       "\n",
       "    .dataframe thead th {\n",
       "        text-align: right;\n",
       "    }\n",
       "</style>\n",
       "<table border=\"1\" class=\"dataframe\">\n",
       "  <thead>\n",
       "    <tr style=\"text-align: right;\">\n",
       "      <th></th>\n",
       "      <th>stdPCA1</th>\n",
       "      <th>stdPCA2</th>\n",
       "      <th>stdPCA3</th>\n",
       "      <th>meanPCA1</th>\n",
       "      <th>meanPCA2</th>\n",
       "      <th>meanPCA3</th>\n",
       "      <th>meanS1</th>\n",
       "      <th>meanS2</th>\n",
       "      <th>stdS1</th>\n",
       "      <th>stdS2</th>\n",
       "      <th>...</th>\n",
       "      <th>minstdS1</th>\n",
       "      <th>maxstdS1</th>\n",
       "      <th>mmstdS1</th>\n",
       "      <th>minstdS2</th>\n",
       "      <th>maxstdS2</th>\n",
       "      <th>mmstdS2</th>\n",
       "      <th>posRatio</th>\n",
       "      <th>stdWavelet</th>\n",
       "      <th>meanWavelet</th>\n",
       "      <th>class</th>\n",
       "    </tr>\n",
       "  </thead>\n",
       "  <tbody>\n",
       "    <tr>\n",
       "      <th>0</th>\n",
       "      <td>2.443969</td>\n",
       "      <td>1.956057</td>\n",
       "      <td>1.419750</td>\n",
       "      <td>-1.130227e-16</td>\n",
       "      <td>2.300462e-17</td>\n",
       "      <td>-3.150633e-17</td>\n",
       "      <td>630.9091</td>\n",
       "      <td>775.6364</td>\n",
       "      <td>27.21196</td>\n",
       "      <td>84.00985</td>\n",
       "      <td>...</td>\n",
       "      <td>23.28590</td>\n",
       "      <td>23.73020</td>\n",
       "      <td>19.31608</td>\n",
       "      <td>62.78225</td>\n",
       "      <td>79.19042</td>\n",
       "      <td>56.28153</td>\n",
       "      <td>0.260870</td>\n",
       "      <td>0.063271</td>\n",
       "      <td>0.006662</td>\n",
       "      <td>Normal</td>\n",
       "    </tr>\n",
       "    <tr>\n",
       "      <th>1</th>\n",
       "      <td>3.258185</td>\n",
       "      <td>1.120398</td>\n",
       "      <td>0.830715</td>\n",
       "      <td>-1.528407e-16</td>\n",
       "      <td>-4.200344e-17</td>\n",
       "      <td>5.618962e-17</td>\n",
       "      <td>2118.5000</td>\n",
       "      <td>2387.6670</td>\n",
       "      <td>258.09400</td>\n",
       "      <td>781.68690</td>\n",
       "      <td>...</td>\n",
       "      <td>258.09400</td>\n",
       "      <td>258.09400</td>\n",
       "      <td>258.09400</td>\n",
       "      <td>943.28040</td>\n",
       "      <td>27.57716</td>\n",
       "      <td>781.68690</td>\n",
       "      <td>0.666667</td>\n",
       "      <td>0.210681</td>\n",
       "      <td>0.006673</td>\n",
       "      <td>Normal</td>\n",
       "    </tr>\n",
       "    <tr>\n",
       "      <th>2</th>\n",
       "      <td>2.647761</td>\n",
       "      <td>1.797890</td>\n",
       "      <td>1.190613</td>\n",
       "      <td>-1.489627e-16</td>\n",
       "      <td>8.707632e-18</td>\n",
       "      <td>-5.675510e-18</td>\n",
       "      <td>1584.6670</td>\n",
       "      <td>1601.0000</td>\n",
       "      <td>445.91960</td>\n",
       "      <td>193.08370</td>\n",
       "      <td>...</td>\n",
       "      <td>511.94530</td>\n",
       "      <td>62.93250</td>\n",
       "      <td>445.91960</td>\n",
       "      <td>210.90600</td>\n",
       "      <td>50.29248</td>\n",
       "      <td>55.15433</td>\n",
       "      <td>0.250000</td>\n",
       "      <td>0.122422</td>\n",
       "      <td>-0.003863</td>\n",
       "      <td>Normal</td>\n",
       "    </tr>\n",
       "    <tr>\n",
       "      <th>3</th>\n",
       "      <td>2.767485</td>\n",
       "      <td>1.699618</td>\n",
       "      <td>1.107745</td>\n",
       "      <td>7.495414e-17</td>\n",
       "      <td>-2.916449e-17</td>\n",
       "      <td>-3.437746e-17</td>\n",
       "      <td>500.1667</td>\n",
       "      <td>687.0000</td>\n",
       "      <td>41.92381</td>\n",
       "      <td>37.17257</td>\n",
       "      <td>...</td>\n",
       "      <td>38.70518</td>\n",
       "      <td>38.58568</td>\n",
       "      <td>35.38503</td>\n",
       "      <td>34.71087</td>\n",
       "      <td>31.92091</td>\n",
       "      <td>29.30491</td>\n",
       "      <td>0.583333</td>\n",
       "      <td>0.516152</td>\n",
       "      <td>0.039785</td>\n",
       "      <td>Normal</td>\n",
       "    </tr>\n",
       "    <tr>\n",
       "      <th>4</th>\n",
       "      <td>2.381787</td>\n",
       "      <td>1.941468</td>\n",
       "      <td>1.482395</td>\n",
       "      <td>2.343804e-17</td>\n",
       "      <td>3.225815e-17</td>\n",
       "      <td>-4.268191e-17</td>\n",
       "      <td>601.9000</td>\n",
       "      <td>928.0909</td>\n",
       "      <td>46.01075</td>\n",
       "      <td>37.85883</td>\n",
       "      <td>...</td>\n",
       "      <td>37.46925</td>\n",
       "      <td>46.21087</td>\n",
       "      <td>37.83965</td>\n",
       "      <td>36.80957</td>\n",
       "      <td>31.54697</td>\n",
       "      <td>30.47039</td>\n",
       "      <td>0.000000</td>\n",
       "      <td>0.040477</td>\n",
       "      <td>0.001033</td>\n",
       "      <td>Normal</td>\n",
       "    </tr>\n",
       "  </tbody>\n",
       "</table>\n",
       "<p>5 rows × 27 columns</p>\n",
       "</div>"
      ],
      "text/plain": [
       "    stdPCA1   stdPCA2   stdPCA3      meanPCA1      meanPCA2      meanPCA3  \\\n",
       "0  2.443969  1.956057  1.419750 -1.130227e-16  2.300462e-17 -3.150633e-17   \n",
       "1  3.258185  1.120398  0.830715 -1.528407e-16 -4.200344e-17  5.618962e-17   \n",
       "2  2.647761  1.797890  1.190613 -1.489627e-16  8.707632e-18 -5.675510e-18   \n",
       "3  2.767485  1.699618  1.107745  7.495414e-17 -2.916449e-17 -3.437746e-17   \n",
       "4  2.381787  1.941468  1.482395  2.343804e-17  3.225815e-17 -4.268191e-17   \n",
       "\n",
       "      meanS1     meanS2      stdS1      stdS2  ...   minstdS1   maxstdS1  \\\n",
       "0   630.9091   775.6364   27.21196   84.00985  ...   23.28590   23.73020   \n",
       "1  2118.5000  2387.6670  258.09400  781.68690  ...  258.09400  258.09400   \n",
       "2  1584.6670  1601.0000  445.91960  193.08370  ...  511.94530   62.93250   \n",
       "3   500.1667   687.0000   41.92381   37.17257  ...   38.70518   38.58568   \n",
       "4   601.9000   928.0909   46.01075   37.85883  ...   37.46925   46.21087   \n",
       "\n",
       "     mmstdS1   minstdS2  maxstdS2    mmstdS2  posRatio  stdWavelet  \\\n",
       "0   19.31608   62.78225  79.19042   56.28153  0.260870    0.063271   \n",
       "1  258.09400  943.28040  27.57716  781.68690  0.666667    0.210681   \n",
       "2  445.91960  210.90600  50.29248   55.15433  0.250000    0.122422   \n",
       "3   35.38503   34.71087  31.92091   29.30491  0.583333    0.516152   \n",
       "4   37.83965   36.80957  31.54697   30.47039  0.000000    0.040477   \n",
       "\n",
       "   meanWavelet   class  \n",
       "0     0.006662  Normal  \n",
       "1     0.006673  Normal  \n",
       "2    -0.003863  Normal  \n",
       "3     0.039785  Normal  \n",
       "4     0.001033  Normal  \n",
       "\n",
       "[5 rows x 27 columns]"
      ]
     },
     "execution_count": 8,
     "metadata": {},
     "output_type": "execute_result"
    }
   ],
   "source": [
    "filename = '../../Dataset/heartbeatFeaturesA4.csv'\n",
    "df = pd.read_csv(filename)\n",
    "\n",
    "# Remove the extra column read\n",
    "\n",
    "toremove = df.shape[1] -1 \n",
    "df = df.iloc[:, 0:toremove]\n",
    "df.head()"
   ]
  },
  {
   "cell_type": "markdown",
   "metadata": {},
   "source": [
    "# Some stats"
   ]
  },
  {
   "cell_type": "code",
   "execution_count": 3,
   "metadata": {},
   "outputs": [
    {
     "data": {
      "text/plain": [
       "(124, 27)"
      ]
     },
     "execution_count": 3,
     "metadata": {},
     "output_type": "execute_result"
    }
   ],
   "source": [
    "df.shape"
   ]
  },
  {
   "cell_type": "code",
   "execution_count": 4,
   "metadata": {},
   "outputs": [
    {
     "data": {
      "image/png": "[encoded data removed]",
      "text/plain": [
       "<Figure size 432x288 with 1 Axes>"
      ]
     },
     "metadata": {
      "needs_background": "light"
     },
     "output_type": "display_data"
    }
   ],
   "source": [
    "plot = sns.countplot(x='class', data=df).set_title('Dataset-B Distribution').get_figure()"
   ]
  },
  {
   "cell_type": "markdown",
   "metadata": {},
   "source": [
    "### Back to reality"
   ]
  },
  {
   "cell_type": "code",
   "execution_count": 5,
   "metadata": {},
   "outputs": [
    {
     "data": {
      "text/html": [
       "<div>\n",
       "<style scoped>\n",
       "    .dataframe tbody tr th:only-of-type {\n",
       "        vertical-align: middle;\n",
       "    }\n",
       "\n",
       "    .dataframe tbody tr th {\n",
       "        vertical-align: top;\n",
       "    }\n",
       "\n",
       "    .dataframe thead th {\n",
       "        text-align: right;\n",
       "    }\n",
       "</style>\n",
       "<table border=\"1\" class=\"dataframe\">\n",
       "  <thead>\n",
       "    <tr style=\"text-align: right;\">\n",
       "      <th></th>\n",
       "      <th>stdPCA1</th>\n",
       "      <th>stdPCA2</th>\n",
       "      <th>stdPCA3</th>\n",
       "      <th>meanPCA1</th>\n",
       "      <th>meanPCA2</th>\n",
       "      <th>meanPCA3</th>\n",
       "      <th>meanS1</th>\n",
       "      <th>meanS2</th>\n",
       "      <th>stdS1</th>\n",
       "      <th>stdS2</th>\n",
       "      <th>...</th>\n",
       "      <th>ratios</th>\n",
       "      <th>stdFFTSHA</th>\n",
       "      <th>lenFFTSHA</th>\n",
       "      <th>stdlenFFTSHA</th>\n",
       "      <th>lenstdFFTSHA</th>\n",
       "      <th>posFFT</th>\n",
       "      <th>maxstdS1</th>\n",
       "      <th>maxstdS2</th>\n",
       "      <th>mmstdS1</th>\n",
       "      <th>mmstdS2</th>\n",
       "    </tr>\n",
       "  </thead>\n",
       "  <tbody>\n",
       "    <tr>\n",
       "      <th>0</th>\n",
       "      <td>0.319128</td>\n",
       "      <td>0.725107</td>\n",
       "      <td>0.834288</td>\n",
       "      <td>0.525408</td>\n",
       "      <td>0.563569</td>\n",
       "      <td>0.483254</td>\n",
       "      <td>0.136398</td>\n",
       "      <td>0.030223</td>\n",
       "      <td>0.013630</td>\n",
       "      <td>0.008166</td>\n",
       "      <td>...</td>\n",
       "      <td>0.471032</td>\n",
       "      <td>0.149668</td>\n",
       "      <td>0.200000</td>\n",
       "      <td>0.099185</td>\n",
       "      <td>0.011421</td>\n",
       "      <td>0.416667</td>\n",
       "      <td>0.016788</td>\n",
       "      <td>0.007698</td>\n",
       "      <td>0.013665</td>\n",
       "      <td>0.005471</td>\n",
       "    </tr>\n",
       "    <tr>\n",
       "      <th>1</th>\n",
       "      <td>0.930489</td>\n",
       "      <td>0.080488</td>\n",
       "      <td>0.288644</td>\n",
       "      <td>0.511140</td>\n",
       "      <td>0.508514</td>\n",
       "      <td>0.600222</td>\n",
       "      <td>0.693966</td>\n",
       "      <td>0.126579</td>\n",
       "      <td>0.129271</td>\n",
       "      <td>0.075983</td>\n",
       "      <td>...</td>\n",
       "      <td>0.553571</td>\n",
       "      <td>0.175355</td>\n",
       "      <td>0.222222</td>\n",
       "      <td>0.101356</td>\n",
       "      <td>0.010620</td>\n",
       "      <td>0.375000</td>\n",
       "      <td>0.182591</td>\n",
       "      <td>0.002681</td>\n",
       "      <td>0.182591</td>\n",
       "      <td>0.075983</td>\n",
       "    </tr>\n",
       "    <tr>\n",
       "      <th>2</th>\n",
       "      <td>0.472147</td>\n",
       "      <td>0.603098</td>\n",
       "      <td>0.622030</td>\n",
       "      <td>0.512529</td>\n",
       "      <td>0.551461</td>\n",
       "      <td>0.517707</td>\n",
       "      <td>0.493878</td>\n",
       "      <td>0.079558</td>\n",
       "      <td>0.223347</td>\n",
       "      <td>0.018768</td>\n",
       "      <td>...</td>\n",
       "      <td>0.531235</td>\n",
       "      <td>0.096125</td>\n",
       "      <td>0.333333</td>\n",
       "      <td>0.080668</td>\n",
       "      <td>0.032069</td>\n",
       "      <td>0.125000</td>\n",
       "      <td>0.044522</td>\n",
       "      <td>0.004889</td>\n",
       "      <td>0.315471</td>\n",
       "      <td>0.005361</td>\n",
       "    </tr>\n",
       "    <tr>\n",
       "      <th>3</th>\n",
       "      <td>0.562043</td>\n",
       "      <td>0.527292</td>\n",
       "      <td>0.545267</td>\n",
       "      <td>0.592769</td>\n",
       "      <td>0.519388</td>\n",
       "      <td>0.479424</td>\n",
       "      <td>0.087394</td>\n",
       "      <td>0.024925</td>\n",
       "      <td>0.020998</td>\n",
       "      <td>0.003613</td>\n",
       "      <td>...</td>\n",
       "      <td>0.720608</td>\n",
       "      <td>0.111594</td>\n",
       "      <td>0.233333</td>\n",
       "      <td>0.087953</td>\n",
       "      <td>0.018741</td>\n",
       "      <td>0.250000</td>\n",
       "      <td>0.027298</td>\n",
       "      <td>0.003103</td>\n",
       "      <td>0.025034</td>\n",
       "      <td>0.002849</td>\n",
       "    </tr>\n",
       "    <tr>\n",
       "      <th>4</th>\n",
       "      <td>0.272438</td>\n",
       "      <td>0.713853</td>\n",
       "      <td>0.892318</td>\n",
       "      <td>0.574308</td>\n",
       "      <td>0.571406</td>\n",
       "      <td>0.468348</td>\n",
       "      <td>0.125525</td>\n",
       "      <td>0.039336</td>\n",
       "      <td>0.023045</td>\n",
       "      <td>0.003680</td>\n",
       "      <td>...</td>\n",
       "      <td>0.339286</td>\n",
       "      <td>0.562892</td>\n",
       "      <td>0.033333</td>\n",
       "      <td>0.784206</td>\n",
       "      <td>0.000460</td>\n",
       "      <td>0.500000</td>\n",
       "      <td>0.032692</td>\n",
       "      <td>0.003066</td>\n",
       "      <td>0.026770</td>\n",
       "      <td>0.002962</td>\n",
       "    </tr>\n",
       "  </tbody>\n",
       "</table>\n",
       "<p>5 rows × 21 columns</p>\n",
       "</div>"
      ],
      "text/plain": [
       "    stdPCA1   stdPCA2   stdPCA3  meanPCA1  meanPCA2  meanPCA3    meanS1  \\\n",
       "0  0.319128  0.725107  0.834288  0.525408  0.563569  0.483254  0.136398   \n",
       "1  0.930489  0.080488  0.288644  0.511140  0.508514  0.600222  0.693966   \n",
       "2  0.472147  0.603098  0.622030  0.512529  0.551461  0.517707  0.493878   \n",
       "3  0.562043  0.527292  0.545267  0.592769  0.519388  0.479424  0.087394   \n",
       "4  0.272438  0.713853  0.892318  0.574308  0.571406  0.468348  0.125525   \n",
       "\n",
       "     meanS2     stdS1     stdS2  ...    ratios  stdFFTSHA  lenFFTSHA  \\\n",
       "0  0.030223  0.013630  0.008166  ...  0.471032   0.149668   0.200000   \n",
       "1  0.126579  0.129271  0.075983  ...  0.553571   0.175355   0.222222   \n",
       "2  0.079558  0.223347  0.018768  ...  0.531235   0.096125   0.333333   \n",
       "3  0.024925  0.020998  0.003613  ...  0.720608   0.111594   0.233333   \n",
       "4  0.039336  0.023045  0.003680  ...  0.339286   0.562892   0.033333   \n",
       "\n",
       "   stdlenFFTSHA  lenstdFFTSHA    posFFT  maxstdS1  maxstdS2   mmstdS1  \\\n",
       "0      0.099185      0.011421  0.416667  0.016788  0.007698  0.013665   \n",
       "1      0.101356      0.010620  0.375000  0.182591  0.002681  0.182591   \n",
       "2      0.080668      0.032069  0.125000  0.044522  0.004889  0.315471   \n",
       "3      0.087953      0.018741  0.250000  0.027298  0.003103  0.025034   \n",
       "4      0.784206      0.000460  0.500000  0.032692  0.003066  0.026770   \n",
       "\n",
       "    mmstdS2  \n",
       "0  0.005471  \n",
       "1  0.075983  \n",
       "2  0.005361  \n",
       "3  0.002849  \n",
       "4  0.002962  \n",
       "\n",
       "[5 rows x 21 columns]"
      ]
     },
     "execution_count": 5,
     "metadata": {},
     "output_type": "execute_result"
    }
   ],
   "source": [
    "# Only take this select set of features from the Dataset A\n",
    "\n",
    "X = df.iloc[:,0:17]\n",
    "X[['maxstdS1', 'maxstdS2', 'mmstdS1', 'mmstdS2']] = df[['maxstdS1', 'maxstdS2','mmstdS1', 'mmstdS2']]\n",
    "\n",
    "# Normalise the features\n",
    "\n",
    "min_max_scaler = preprocessing.MinMaxScaler()\n",
    "x_scaled = min_max_scaler.fit_transform(X)\n",
    "X = pd.DataFrame(x_scaled)\n",
    "x_dim = X.shape[1]\n",
    "\n",
    "# Give the columns back their names....\n",
    "\n",
    "X.columns = [ 'stdPCA1', 'stdPCA2', 'stdPCA3', 'meanPCA1', \n",
    "               'meanPCA2', 'meanPCA3', 'meanS1', 'meanS2', \n",
    "          'stdS1', 'stdS2','rebuilError', 'ratios','stdFFTSHA' ,\n",
    "          'lenFFTSHA', 'stdlenFFTSHA' ,'lenstdFFTSHA' ,'posFFT',\n",
    "         'maxstdS1', 'maxstdS2', 'mmstdS1', 'mmstdS2']\n",
    "X.head()"
   ]
  },
  {
   "cell_type": "code",
   "execution_count": 6,
   "metadata": {},
   "outputs": [],
   "source": [
    "# For testing later on ...\n",
    "\n",
    "P = X.iloc[33:40,:]"
   ]
  },
  {
   "cell_type": "code",
   "execution_count": 9,
   "metadata": {},
   "outputs": [
    {
     "name": "stdout",
     "output_type": "stream",
     "text": [
      "['Normal' 'Murmur' 'ExtraHS' 'Artifact']\n"
     ]
    }
   ],
   "source": [
    "# Get the classes\n",
    "\n",
    "Y = df.iloc[:,toremove-1:toremove]\n",
    "print(Y['class'].unique())"
   ]
  },
  {
   "cell_type": "code",
   "execution_count": 8,
   "metadata": {},
   "outputs": [
    {
     "name": "stderr",
     "output_type": "stream",
     "text": [
      "/usr/local/lib/python3.7/dist-packages/sklearn/preprocessing/label.py:219: DataConversionWarning: A column-vector y was passed when a 1d array was expected. Please change the shape of y to (n_samples, ), for example using ravel().\n",
      "  y = column_or_1d(y, warn=True)\n",
      "/usr/local/lib/python3.7/dist-packages/sklearn/preprocessing/label.py:252: DataConversionWarning: A column-vector y was passed when a 1d array was expected. Please change the shape of y to (n_samples, ), for example using ravel().\n",
      "  y = column_or_1d(y, warn=True)\n"
     ]
    }
   ],
   "source": [
    "encoder = preprocessing.LabelEncoder()\n",
    "encoder.fit(y)\n",
    "Y = encoder.transform(y)"
   ]
  },
  {
   "cell_type": "markdown",
   "metadata": {},
   "source": [
    "### Split data"
   ]
  },
  {
   "cell_type": "code",
   "execution_count": 9,
   "metadata": {},
   "outputs": [],
   "source": [
    "X,Y = shuffle(X,Y,random_state=13)"
   ]
  },
  {
   "cell_type": "code",
   "execution_count": 10,
   "metadata": {},
   "outputs": [],
   "source": [
    "X_train,X_test, Y_train, Y_test = train_test_split(X,Y,test_size=0.20, random_state = 19)\n"
   ]
  },
  {
   "cell_type": "code",
   "execution_count": 11,
   "metadata": {},
   "outputs": [
    {
     "name": "stdout",
     "output_type": "stream",
     "text": [
      "col_0  count\n",
      "row_0       \n",
      "0         31\n",
      "1         20\n",
      "2         26\n",
      "3         22 \n",
      "\n",
      " col_0  count\n",
      "row_0       \n",
      "0          2\n",
      "1          6\n",
      "2          8\n",
      "3          9\n"
     ]
    }
   ],
   "source": [
    "train_outcome = pd.crosstab(index = Y_train, columns = \"count\")\n",
    "test_outcome = pd.crosstab(index = Y_test, columns = \"count\")\n",
    "\n",
    "print(train_outcome,'\\n\\n',test_outcome)"
   ]
  },
  {
   "cell_type": "markdown",
   "metadata": {},
   "source": [
    "## The Model"
   ]
  },
  {
   "cell_type": "code",
   "execution_count": 12,
   "metadata": {},
   "outputs": [],
   "source": [
    "model = XGBClassifier(objective='multi:softmax')"
   ]
  },
  {
   "cell_type": "code",
   "execution_count": 13,
   "metadata": {},
   "outputs": [],
   "source": [
    "# param_test1 = {\n",
    "#  'max_depth':range(3,10,2),\n",
    "#  'min_child_weight':range(1,6,2)\n",
    "# }\n",
    "# gsearch1 = GridSearchCV(model, \n",
    "#  param_grid = param_test1,n_jobs=4,iid=False, cv=5)\n",
    "\n",
    "# gsearch1.fit(X_train,Y_train)\n",
    "# gsearch1.grid_scores_, gsearch1.best_params_, gsearch1.best_score_"
   ]
  },
  {
   "cell_type": "code",
   "execution_count": 14,
   "metadata": {},
   "outputs": [
    {
     "name": "stdout",
     "output_type": "stream",
     "text": [
      "Fitting 3 folds for each of 200 candidates, totalling 600 fits\n"
     ]
    },
    {
     "name": "stderr",
     "output_type": "stream",
     "text": [
      "[Parallel(n_jobs=4)]: Using backend LokyBackend with 4 concurrent workers.\n",
      "[Parallel(n_jobs=4)]: Done  49 tasks      | elapsed:    2.6s\n",
      "[Parallel(n_jobs=4)]: Done 349 tasks      | elapsed:   10.9s\n",
      "[Parallel(n_jobs=4)]: Done 593 out of 600 | elapsed:   17.7s remaining:    0.2s\n",
      "[Parallel(n_jobs=4)]: Done 600 out of 600 | elapsed:   17.8s finished\n",
      "/usr/local/lib/python3.7/dist-packages/sklearn/model_selection/_search.py:813: DeprecationWarning: The default of the `iid` parameter will change from True to False in version 0.22 and will be removed in 0.24. This will change numeric results when test-set sizes are unequal.\n",
      "  DeprecationWarning)\n"
     ]
    },
    {
     "data": {
      "text/plain": [
       "{'colsample_bytree': 0.8265287979191537,\n",
       " 'gamma': 0.3976709189795487,\n",
       " 'learning_rate': 0.2535193644360661,\n",
       " 'max_depth': 9,\n",
       " 'min_child_weight': 5,\n",
       " 'n_estimators': 134,\n",
       " 'subsample': 0.7276401892973022}"
      ]
     },
     "execution_count": 14,
     "metadata": {},
     "output_type": "execute_result"
    }
   ],
   "source": [
    "params = {\n",
    "    \"colsample_bytree\": uniform(0.7, 0.3),\n",
    "    \"gamma\": uniform(0, 0.5),\n",
    "    \"learning_rate\": uniform(0.03, 0.3), # default 0.1 \n",
    "    \"max_depth\":range(3,10,2), # default 3\n",
    "    \"n_estimators\": randint(100, 150), # default 100\n",
    "    \"subsample\": uniform(0.6, 0.4),\n",
    "    'min_child_weight':range(1,6,2)\n",
    "}\n",
    "\n",
    "search = RandomizedSearchCV(model, param_distributions=params, random_state=42, n_iter=200, cv=3, verbose=1, n_jobs=4,return_train_score=True)\n",
    "\n",
    "search.fit(X, Y)\n",
    "\n",
    "search.best_params_"
   ]
  },
  {
   "cell_type": "code",
   "execution_count": 35,
   "metadata": {},
   "outputs": [],
   "source": [
    "model = XGBClassifier(objective='multi:softmax', colsample_bytree=0.7299924747454009,gamma=0.22962444598293358,learning_rate=0.13011258334170656,max_depth=9,min_child_weight= 5, n_estimators=121, subsample =  0.6225646316108401)"
   ]
  },
  {
   "cell_type": "code",
   "execution_count": 36,
   "metadata": {},
   "outputs": [],
   "source": [
    "eval_set = [(X_train, Y_train), (X_test, Y_test)]"
   ]
  },
  {
   "cell_type": "code",
   "execution_count": 17,
   "metadata": {},
   "outputs": [],
   "source": [
    "#Y_train.shape\n",
    "#eval_metric=[\"merror\", \"mlogloss\"],,eval_metric=\"auc\" objective='multi:softmax',"
   ]
  },
  {
   "cell_type": "code",
   "execution_count": 37,
   "metadata": {},
   "outputs": [
    {
     "name": "stdout",
     "output_type": "stream",
     "text": [
      "[0]\tvalidation_0-merror:0.252525\tvalidation_0-mlogloss:1.21496\tvalidation_1-merror:0.52\tvalidation_1-mlogloss:1.27375\n",
      "Multiple eval metrics have been passed: 'validation_1-mlogloss' will be used for early stopping.\n",
      "\n",
      "Will train until validation_1-mlogloss hasn't improved in 5 rounds.\n",
      "[1]\tvalidation_0-merror:0.232323\tvalidation_0-mlogloss:1.10791\tvalidation_1-merror:0.4\tvalidation_1-mlogloss:1.20288\n",
      "[2]\tvalidation_0-merror:0.232323\tvalidation_0-mlogloss:1.01791\tvalidation_1-merror:0.44\tvalidation_1-mlogloss:1.1501\n",
      "[3]\tvalidation_0-merror:0.232323\tvalidation_0-mlogloss:0.944771\tvalidation_1-merror:0.4\tvalidation_1-mlogloss:1.08478\n",
      "[4]\tvalidation_0-merror:0.191919\tvalidation_0-mlogloss:0.877887\tvalidation_1-merror:0.44\tvalidation_1-mlogloss:1.0573\n",
      "[5]\tvalidation_0-merror:0.191919\tvalidation_0-mlogloss:0.799963\tvalidation_1-merror:0.44\tvalidation_1-mlogloss:1.01149\n",
      "[6]\tvalidation_0-merror:0.171717\tvalidation_0-mlogloss:0.75319\tvalidation_1-merror:0.44\tvalidation_1-mlogloss:0.960716\n",
      "[7]\tvalidation_0-merror:0.121212\tvalidation_0-mlogloss:0.698399\tvalidation_1-merror:0.44\tvalidation_1-mlogloss:0.955353\n",
      "[8]\tvalidation_0-merror:0.10101\tvalidation_0-mlogloss:0.667019\tvalidation_1-merror:0.44\tvalidation_1-mlogloss:0.969521\n",
      "[9]\tvalidation_0-merror:0.111111\tvalidation_0-mlogloss:0.630142\tvalidation_1-merror:0.44\tvalidation_1-mlogloss:0.954735\n",
      "[10]\tvalidation_0-merror:0.121212\tvalidation_0-mlogloss:0.594392\tvalidation_1-merror:0.44\tvalidation_1-mlogloss:0.934244\n",
      "[11]\tvalidation_0-merror:0.121212\tvalidation_0-mlogloss:0.564334\tvalidation_1-merror:0.44\tvalidation_1-mlogloss:0.930986\n",
      "[12]\tvalidation_0-merror:0.121212\tvalidation_0-mlogloss:0.534042\tvalidation_1-merror:0.4\tvalidation_1-mlogloss:0.918813\n",
      "[13]\tvalidation_0-merror:0.121212\tvalidation_0-mlogloss:0.512943\tvalidation_1-merror:0.44\tvalidation_1-mlogloss:0.918714\n",
      "[14]\tvalidation_0-merror:0.10101\tvalidation_0-mlogloss:0.493766\tvalidation_1-merror:0.44\tvalidation_1-mlogloss:0.910002\n",
      "[15]\tvalidation_0-merror:0.090909\tvalidation_0-mlogloss:0.473623\tvalidation_1-merror:0.4\tvalidation_1-mlogloss:0.907623\n",
      "[16]\tvalidation_0-merror:0.070707\tvalidation_0-mlogloss:0.458663\tvalidation_1-merror:0.4\tvalidation_1-mlogloss:0.898881\n",
      "[17]\tvalidation_0-merror:0.060606\tvalidation_0-mlogloss:0.43998\tvalidation_1-merror:0.4\tvalidation_1-mlogloss:0.885939\n",
      "[18]\tvalidation_0-merror:0.060606\tvalidation_0-mlogloss:0.426202\tvalidation_1-merror:0.4\tvalidation_1-mlogloss:0.86022\n",
      "[19]\tvalidation_0-merror:0.050505\tvalidation_0-mlogloss:0.417862\tvalidation_1-merror:0.4\tvalidation_1-mlogloss:0.8558\n",
      "[20]\tvalidation_0-merror:0.050505\tvalidation_0-mlogloss:0.404711\tvalidation_1-merror:0.4\tvalidation_1-mlogloss:0.873875\n",
      "[21]\tvalidation_0-merror:0.040404\tvalidation_0-mlogloss:0.393284\tvalidation_1-merror:0.4\tvalidation_1-mlogloss:0.887789\n",
      "[22]\tvalidation_0-merror:0.040404\tvalidation_0-mlogloss:0.383792\tvalidation_1-merror:0.4\tvalidation_1-mlogloss:0.878522\n",
      "[23]\tvalidation_0-merror:0.040404\tvalidation_0-mlogloss:0.376015\tvalidation_1-merror:0.4\tvalidation_1-mlogloss:0.888087\n",
      "[24]\tvalidation_0-merror:0.040404\tvalidation_0-mlogloss:0.368213\tvalidation_1-merror:0.4\tvalidation_1-mlogloss:0.903502\n",
      "Stopping. Best iteration:\n",
      "[19]\tvalidation_0-merror:0.050505\tvalidation_0-mlogloss:0.417862\tvalidation_1-merror:0.4\tvalidation_1-mlogloss:0.8558\n",
      "\n"
     ]
    },
    {
     "data": {
      "text/plain": [
       "XGBClassifier(base_score=0.5, booster='gbtree', colsample_bylevel=1,\n",
       "              colsample_bynode=1, colsample_bytree=0.8265287979191537,\n",
       "              gamma=0.3976709189795487, learning_rate=0.2535193644360661,\n",
       "              max_delta_step=0, max_depth=9, min_child_weight=5, missing=None,\n",
       "              n_estimators=134, n_jobs=1, nthread=None,\n",
       "              objective='multi:softprob', random_state=0, reg_alpha=0,\n",
       "              reg_lambda=1, scale_pos_weight=1, seed=None, silent=None,\n",
       "              subsample=0.7276401892973022, verbosity=1)"
      ]
     },
     "execution_count": 37,
     "metadata": {},
     "output_type": "execute_result"
    }
   ],
   "source": [
    "model.fit(X_train, Y_train , early_stopping_rounds=5, eval_metric=[\"merror\", \"mlogloss\"], eval_set=eval_set)#, verbose=True)"
   ]
  },
  {
   "cell_type": "markdown",
   "metadata": {},
   "source": [
    "# K Fold?"
   ]
  },
  {
   "cell_type": "code",
   "execution_count": 38,
   "metadata": {},
   "outputs": [
    {
     "name": "stdout",
     "output_type": "stream",
     "text": [
      "Accuracy: 61.36% (2.73%)\n",
      "[0.59259259 0.6        0.64       0.58333333 0.65217391]\n"
     ]
    }
   ],
   "source": [
    "kfold = StratifiedKFold(n_splits=5, random_state=7)\n",
    "results = cross_val_score(model, X, Y, cv=kfold)\n",
    "print(\"Accuracy: %.2f%% (%.2f%%)\" % (results.mean()*100, results.std()*100))\n",
    "print(results)"
   ]
  },
  {
   "cell_type": "code",
   "execution_count": 39,
   "metadata": {},
   "outputs": [],
   "source": [
    "## predictions\n",
    "\n",
    "y_pred = model.predict(X_test)\n",
    "predictions = [round(value) for value in y_pred]\n"
   ]
  },
  {
   "cell_type": "code",
   "execution_count": 40,
   "metadata": {},
   "outputs": [],
   "source": [
    "accuracy = accuracy_score(Y_test, predictions)"
   ]
  },
  {
   "cell_type": "code",
   "execution_count": 41,
   "metadata": {},
   "outputs": [
    {
     "name": "stdout",
     "output_type": "stream",
     "text": [
      "Accuracy: 60.00%\n"
     ]
    }
   ],
   "source": [
    "print(\"Accuracy: %.2f%%\" % (accuracy * 100.0))"
   ]
  },
  {
   "cell_type": "code",
   "execution_count": 42,
   "metadata": {},
   "outputs": [
    {
     "name": "stdout",
     "output_type": "stream",
     "text": [
      "[[2 0 0 0]\n",
      " [3 3 0 0]\n",
      " [0 0 6 2]\n",
      " [0 3 2 4]]\n"
     ]
    }
   ],
   "source": [
    "CM = confusion_matrix(Y_test, y_pred)\n",
    "print(CM)"
   ]
  },
  {
   "cell_type": "code",
   "execution_count": 43,
   "metadata": {},
   "outputs": [
    {
     "name": "stdout",
     "output_type": "stream",
     "text": [
      "              precision    recall  f1-score   support\n",
      "\n",
      "           0       0.40      1.00      0.57         2\n",
      "           1       0.50      0.50      0.50         6\n",
      "           2       0.75      0.75      0.75         8\n",
      "           3       0.67      0.44      0.53         9\n",
      "\n",
      "    accuracy                           0.60        25\n",
      "   macro avg       0.58      0.67      0.59        25\n",
      "weighted avg       0.63      0.60      0.60        25\n",
      "\n"
     ]
    }
   ],
   "source": [
    "print(classification_report(Y_test,y_pred))"
   ]
  },
  {
   "cell_type": "code",
   "execution_count": 44,
   "metadata": {},
   "outputs": [],
   "source": [
    "results = model.evals_result()"
   ]
  },
  {
   "cell_type": "code",
   "execution_count": 26,
   "metadata": {},
   "outputs": [],
   "source": [
    "ephocs = len(results['validation_0']['merror'])"
   ]
  },
  {
   "cell_type": "code",
   "execution_count": 27,
   "metadata": {},
   "outputs": [],
   "source": [
    "x_axis = range(0, ephocs)"
   ]
  },
  {
   "cell_type": "code",
   "execution_count": 28,
   "metadata": {},
   "outputs": [],
   "source": [
    "with open('./Models/A_XGB_stats.txt', 'a+') as f:\n",
    "           f.write('\\n=================Saved 13---19 =============================================\\n' + filename  +'\\n\\n' + str(CM) +'\\n\\n' + 'Dimensions: ' + str(x_dim) + '\\n'+ 'Testing Accuracy: ' + str(000) + ' Training Acc: ' + str(000) + '\\nTesting Score: '+ str(accuracy) + '\\n\\n' + classification_report(Y_test,y_pred))"
   ]
  },
  {
   "cell_type": "markdown",
   "metadata": {},
   "source": [
    "### Plots"
   ]
  },
  {
   "cell_type": "code",
   "execution_count": 29,
   "metadata": {},
   "outputs": [
    {
     "data": {
      "text/plain": [
       "Text(0.5, 1.0, 'Log loss')"
      ]
     },
     "execution_count": 29,
     "metadata": {},
     "output_type": "execute_result"
    },
    {
     "data": {
      "image/png": "[encoded data removed]",
      "text/plain": [
       "<Figure size 432x288 with 1 Axes>"
      ]
     },
     "metadata": {
      "needs_background": "light"
     },
     "output_type": "display_data"
    }
   ],
   "source": [
    "fig, ax = plt.subplots()\n",
    "ax.plot(x_axis, results['validation_0']['mlogloss'], label = 'Train')\n",
    "ax.plot(x_axis, results['validation_1']['mlogloss'], label = 'Test')\n",
    "ax.legend()\n",
    "plt.ylabel('Log loss')\n",
    "plt.xlabel('Ephocs')\n",
    "plt.title('Log loss')\n",
    "# model_name_ = './Models/XGB_Dataset_A_68_E57_v4'\n",
    "# plt.savefig(model_name_ + '_lL_'+ '.jpg')\n",
    "# plt.savefig(model_name_ + '_lL_'+ '.png')\n"
   ]
  },
  {
   "cell_type": "code",
   "execution_count": 30,
   "metadata": {},
   "outputs": [
    {
     "data": {
      "text/plain": [
       "Text(0.5, 1.0, 'Classification loss')"
      ]
     },
     "execution_count": 30,
     "metadata": {},
     "output_type": "execute_result"
    },
    {
     "data": {
      "image/png": "[encoded data removed]",
      "text/plain": [
       "<Figure size 432x288 with 1 Axes>"
      ]
     },
     "metadata": {
      "needs_background": "light"
     },
     "output_type": "display_data"
    }
   ],
   "source": [
    "fig, ax = plt.subplots()\n",
    "ax.plot(x_axis, results['validation_0']['merror'], label = 'Train')\n",
    "ax.plot(x_axis, results['validation_1']['merror'], label = 'Test')\n",
    "ax.legend()\n",
    "plt.ylabel('Log loss')\n",
    "plt.xlabel('Ephocs')\n",
    "plt.title('Classification loss')\n",
    "# plt.savefig(model_name_ + '_CL_'+ '.jpg')\n",
    "# plt.savefig(model_name_ + '_CL_'+ '.png')\n",
    "# plt.show()"
   ]
  },
  {
   "cell_type": "code",
   "execution_count": 45,
   "metadata": {},
   "outputs": [
    {
     "data": {
      "image/png": "[encoded data removed]",
      "text/plain": [
       "<Figure size 432x288 with 1 Axes>"
      ]
     },
     "metadata": {
      "needs_background": "light"
     },
     "output_type": "display_data"
    }
   ],
   "source": [
    "a = xgb.plot_importance(model)\n",
    "# a.figure.savefig(model_name_ + '.jpg')\n",
    "# a.figure.savefig(model_name_ + '.png')"
   ]
  },
  {
   "cell_type": "code",
   "execution_count": 32,
   "metadata": {},
   "outputs": [],
   "source": [
    "import pickle"
   ]
  },
  {
   "cell_type": "code",
   "execution_count": 33,
   "metadata": {},
   "outputs": [],
   "source": [
    "# Saving the Model\n",
    "\n",
    "# model_ = open(model_name_ + '.pkl', \"wb\")\n",
    "# pickle.dump(model,model_)\n",
    "# model_pkl = open(model_name_ + '.pkl', \"rb\")\n",
    "# model_test = pickle.load(model_pkl)"
   ]
  },
  {
   "cell_type": "code",
   "execution_count": 34,
   "metadata": {},
   "outputs": [
    {
     "ename": "NameError",
     "evalue": "name 'model_test' is not defined",
     "output_type": "error",
     "traceback": [
      "\u001b[0;31m---------------------------------------------------------------------------\u001b[0m",
      "\u001b[0;31mNameError\u001b[0m                                 Traceback (most recent call last)",
      "\u001b[0;32m<ipython-input-34-fd7bdc28ea96>\u001b[0m in \u001b[0;36m<module>\u001b[0;34m\u001b[0m\n\u001b[0;32m----> 1\u001b[0;31m \u001b[0mmodel_test\u001b[0m\u001b[0;34m.\u001b[0m\u001b[0mpredict\u001b[0m\u001b[0;34m(\u001b[0m\u001b[0mP\u001b[0m\u001b[0;34m)\u001b[0m\u001b[0;34m\u001b[0m\u001b[0;34m\u001b[0m\u001b[0m\n\u001b[0m",
      "\u001b[0;31mNameError\u001b[0m: name 'model_test' is not defined"
     ]
    }
   ],
   "source": [
    "model_test.predict(P)"
   ]
  },
  {
   "cell_type": "code",
   "execution_count": null,
   "metadata": {},
   "outputs": [],
   "source": [
    "importances = model.feature_importances_\n",
    "\n",
    "importances_ = importances.tolist()\n",
    "labels = ['stdPCA1', 'stdPCA2', 'stdPCA3', 'meanPCA1', \n",
    "               'meanPCA2', 'meanPCA3', 'meanS1', 'meanS2', \n",
    "          'stdS1', 'stdS2','rebuilError', 'ratios','stdFFTSHA' ,\n",
    "          'lenFFTSHA', 'stdlenFFTSHA' ,'lenstdFFTSHA' ,'posFFT',\n",
    "         'maxstdS1', 'maxstdS2', 'mmstdS1', 'mmstdS2',\n",
    "         'posRatio','stdWavelet','meanWavelet']\n",
    "\n",
    "labels= pd.DataFrame(labels)\n",
    "importances_ = pd.DataFrame(importances_)\n",
    "\n",
    "FEAT_IMPORT = pd.concat([labels, importances_], axis = 1)\n",
    "\n",
    "FEAT_IMPORT.columns = ['Features', 'Importances']\n",
    "FEAT_IMPORT.sort_values(by=['Importances'], ascending = False)"
   ]
  },
  {
   "cell_type": "code",
   "execution_count": null,
   "metadata": {},
   "outputs": [],
   "source": [
    "b = np.sort(model.feature_importances_)\n",
    "plt.barh(range(len(FEAT_IMPORT)), np.sort(FEAT_IMPORT[\"Importances\"]))\n",
    "plt.ylabel('Features')\n",
    "plt.xlabel('Importances')\n",
    "plt.title(\"Feature Importances\")\n",
    "plt.show()"
   ]
  }
 ],
 "metadata": {
  "kernelspec": {
   "display_name": "Python 3",
   "language": "python",
   "name": "python3"
  },
  "language_info": {
   "codemirror_mode": {
    "name": "ipython",
    "version": 3
   },
   "file_extension": ".py",
   "mimetype": "text/x-python",
   "name": "python",
   "nbconvert_exporter": "python",
   "pygments_lexer": "ipython3",
   "version": "3.8.5"
  }
 },
 "nbformat": 4,
 "nbformat_minor": 2
}
