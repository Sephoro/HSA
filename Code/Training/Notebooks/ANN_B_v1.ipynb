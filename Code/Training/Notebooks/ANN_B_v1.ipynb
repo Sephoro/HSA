{
 "cells": [
  {
   "cell_type": "code",
   "execution_count": 1,
   "metadata": {},
   "outputs": [
    {
     "name": "stderr",
     "output_type": "stream",
     "text": [
      "WARNING (theano.tensor.blas): Using NumPy C-API based implementation for BLAS functions.\n"
     ]
    }
   ],
   "source": [
    "import theano\n",
    "import tensorflow\n",
    "import numpy as np\n",
    "import matplotlib.pyplot as plt\n",
    "import pandas as pd\n",
    "import seaborn as sns\n",
    "from sklearn.utils import shuffle\n",
    "from sklearn.model_selection import cross_val_score\n",
    "from sklearn.model_selection import KFold\n",
    "from sklearn import preprocessing\n",
    "\n",
    "from sklearn.metrics import confusion_matrix,classification_report, accuracy_score"
   ]
  },
  {
   "cell_type": "code",
   "execution_count": 2,
   "metadata": {},
   "outputs": [
    {
     "data": {
      "text/html": [
       "<div>\n",
       "<style scoped>\n",
       "    .dataframe tbody tr th:only-of-type {\n",
       "        vertical-align: middle;\n",
       "    }\n",
       "\n",
       "    .dataframe tbody tr th {\n",
       "        vertical-align: top;\n",
       "    }\n",
       "\n",
       "    .dataframe thead th {\n",
       "        text-align: right;\n",
       "    }\n",
       "</style>\n",
       "<table border=\"1\" class=\"dataframe\">\n",
       "  <thead>\n",
       "    <tr style=\"text-align: right;\">\n",
       "      <th></th>\n",
       "      <th>stdPCA1</th>\n",
       "      <th>stdPCA2</th>\n",
       "      <th>stdPCA3</th>\n",
       "      <th>meanPCA1</th>\n",
       "      <th>meanPCA2</th>\n",
       "      <th>meanPCA3</th>\n",
       "      <th>meanS1</th>\n",
       "      <th>meanS2</th>\n",
       "      <th>stdS1</th>\n",
       "      <th>stdS2</th>\n",
       "      <th>...</th>\n",
       "      <th>minstdS1</th>\n",
       "      <th>maxstdS1</th>\n",
       "      <th>mmstdS1</th>\n",
       "      <th>minstdS2</th>\n",
       "      <th>maxstdS2</th>\n",
       "      <th>mmstdS2</th>\n",
       "      <th>posRatio</th>\n",
       "      <th>stdWavelet</th>\n",
       "      <th>meanWavelet</th>\n",
       "      <th>class</th>\n",
       "    </tr>\n",
       "  </thead>\n",
       "  <tbody>\n",
       "    <tr>\n",
       "      <th>0</th>\n",
       "      <td>2.925073</td>\n",
       "      <td>1.603105</td>\n",
       "      <td>1.107265</td>\n",
       "      <td>-1.327246e-16</td>\n",
       "      <td>-2.224033e-17</td>\n",
       "      <td>2.511005e-18</td>\n",
       "      <td>472.0000</td>\n",
       "      <td>519.0000</td>\n",
       "      <td>26.57066</td>\n",
       "      <td>28.81666</td>\n",
       "      <td>...</td>\n",
       "      <td>24.65675</td>\n",
       "      <td>22.15827</td>\n",
       "      <td>20.00486</td>\n",
       "      <td>23.79636</td>\n",
       "      <td>25.31929</td>\n",
       "      <td>19.62142</td>\n",
       "      <td>0.086957</td>\n",
       "      <td>0.143258</td>\n",
       "      <td>-0.016102</td>\n",
       "      <td>Normal</td>\n",
       "    </tr>\n",
       "    <tr>\n",
       "      <th>1</th>\n",
       "      <td>3.003149</td>\n",
       "      <td>1.398531</td>\n",
       "      <td>1.245671</td>\n",
       "      <td>3.994780e-17</td>\n",
       "      <td>-5.461219e-17</td>\n",
       "      <td>-3.146381e-17</td>\n",
       "      <td>476.2105</td>\n",
       "      <td>480.1579</td>\n",
       "      <td>79.44780</td>\n",
       "      <td>79.73795</td>\n",
       "      <td>...</td>\n",
       "      <td>58.73258</td>\n",
       "      <td>79.29658</td>\n",
       "      <td>58.02636</td>\n",
       "      <td>60.56134</td>\n",
       "      <td>80.77381</td>\n",
       "      <td>61.31806</td>\n",
       "      <td>0.000000</td>\n",
       "      <td>0.164868</td>\n",
       "      <td>0.020342</td>\n",
       "      <td>Normal</td>\n",
       "    </tr>\n",
       "    <tr>\n",
       "      <th>2</th>\n",
       "      <td>2.906362</td>\n",
       "      <td>1.612006</td>\n",
       "      <td>1.189551</td>\n",
       "      <td>-2.873518e-17</td>\n",
       "      <td>4.745659e-17</td>\n",
       "      <td>1.567374e-17</td>\n",
       "      <td>489.6667</td>\n",
       "      <td>509.6250</td>\n",
       "      <td>21.94311</td>\n",
       "      <td>27.64023</td>\n",
       "      <td>...</td>\n",
       "      <td>16.47021</td>\n",
       "      <td>20.52481</td>\n",
       "      <td>14.64988</td>\n",
       "      <td>24.01983</td>\n",
       "      <td>24.41311</td>\n",
       "      <td>20.72116</td>\n",
       "      <td>0.000000</td>\n",
       "      <td>0.291671</td>\n",
       "      <td>-0.025297</td>\n",
       "      <td>Normal</td>\n",
       "    </tr>\n",
       "    <tr>\n",
       "      <th>3</th>\n",
       "      <td>2.915212</td>\n",
       "      <td>1.579173</td>\n",
       "      <td>1.217206</td>\n",
       "      <td>-1.107815e-17</td>\n",
       "      <td>-1.628307e-16</td>\n",
       "      <td>9.801752e-17</td>\n",
       "      <td>477.5000</td>\n",
       "      <td>491.7647</td>\n",
       "      <td>30.51374</td>\n",
       "      <td>17.26097</td>\n",
       "      <td>...</td>\n",
       "      <td>27.18428</td>\n",
       "      <td>28.52656</td>\n",
       "      <td>25.01699</td>\n",
       "      <td>14.72356</td>\n",
       "      <td>15.16122</td>\n",
       "      <td>12.24434</td>\n",
       "      <td>0.000000</td>\n",
       "      <td>0.077379</td>\n",
       "      <td>-0.000735</td>\n",
       "      <td>Normal</td>\n",
       "    </tr>\n",
       "    <tr>\n",
       "      <th>4</th>\n",
       "      <td>3.027328</td>\n",
       "      <td>1.368556</td>\n",
       "      <td>1.143924</td>\n",
       "      <td>-1.072735e-16</td>\n",
       "      <td>1.499522e-17</td>\n",
       "      <td>2.854859e-17</td>\n",
       "      <td>1364.5000</td>\n",
       "      <td>2427.0000</td>\n",
       "      <td>20.50610</td>\n",
       "      <td>0.00000</td>\n",
       "      <td>...</td>\n",
       "      <td>20.50610</td>\n",
       "      <td>20.50610</td>\n",
       "      <td>20.50610</td>\n",
       "      <td>0.00000</td>\n",
       "      <td>0.00000</td>\n",
       "      <td>0.00000</td>\n",
       "      <td>0.750000</td>\n",
       "      <td>0.064384</td>\n",
       "      <td>0.002975</td>\n",
       "      <td>Normal</td>\n",
       "    </tr>\n",
       "  </tbody>\n",
       "</table>\n",
       "<p>5 rows × 27 columns</p>\n",
       "</div>"
      ],
      "text/plain": [
       "    stdPCA1   stdPCA2   stdPCA3      meanPCA1      meanPCA2      meanPCA3  \\\n",
       "0  2.925073  1.603105  1.107265 -1.327246e-16 -2.224033e-17  2.511005e-18   \n",
       "1  3.003149  1.398531  1.245671  3.994780e-17 -5.461219e-17 -3.146381e-17   \n",
       "2  2.906362  1.612006  1.189551 -2.873518e-17  4.745659e-17  1.567374e-17   \n",
       "3  2.915212  1.579173  1.217206 -1.107815e-17 -1.628307e-16  9.801752e-17   \n",
       "4  3.027328  1.368556  1.143924 -1.072735e-16  1.499522e-17  2.854859e-17   \n",
       "\n",
       "      meanS1     meanS2     stdS1     stdS2  ...  minstdS1  maxstdS1  \\\n",
       "0   472.0000   519.0000  26.57066  28.81666  ...  24.65675  22.15827   \n",
       "1   476.2105   480.1579  79.44780  79.73795  ...  58.73258  79.29658   \n",
       "2   489.6667   509.6250  21.94311  27.64023  ...  16.47021  20.52481   \n",
       "3   477.5000   491.7647  30.51374  17.26097  ...  27.18428  28.52656   \n",
       "4  1364.5000  2427.0000  20.50610   0.00000  ...  20.50610  20.50610   \n",
       "\n",
       "    mmstdS1  minstdS2  maxstdS2   mmstdS2  posRatio  stdWavelet  meanWavelet  \\\n",
       "0  20.00486  23.79636  25.31929  19.62142  0.086957    0.143258    -0.016102   \n",
       "1  58.02636  60.56134  80.77381  61.31806  0.000000    0.164868     0.020342   \n",
       "2  14.64988  24.01983  24.41311  20.72116  0.000000    0.291671    -0.025297   \n",
       "3  25.01699  14.72356  15.16122  12.24434  0.000000    0.077379    -0.000735   \n",
       "4  20.50610   0.00000   0.00000   0.00000  0.750000    0.064384     0.002975   \n",
       "\n",
       "    class  \n",
       "0  Normal  \n",
       "1  Normal  \n",
       "2  Normal  \n",
       "3  Normal  \n",
       "4  Normal  \n",
       "\n",
       "[5 rows x 27 columns]"
      ]
     },
     "execution_count": 2,
     "metadata": {},
     "output_type": "execute_result"
    }
   ],
   "source": [
    "filename = '../../Dataset/heartbeatFeaturesB4.csv'\n",
    "df = pd.read_csv(filename)\n",
    "\n",
    "# Remove the extra column read\n",
    "\n",
    "toremove = df.shape[1] -1 \n",
    "df = df.iloc[:, 0:toremove]\n",
    "df.head()"
   ]
  },
  {
   "cell_type": "markdown",
   "metadata": {},
   "source": [
    "# Some nice stats"
   ]
  },
  {
   "cell_type": "code",
   "execution_count": 3,
   "metadata": {},
   "outputs": [
    {
     "data": {
      "text/plain": [
       "(312, 27)"
      ]
     },
     "execution_count": 3,
     "metadata": {},
     "output_type": "execute_result"
    }
   ],
   "source": [
    "# Check the Dimensions of the data\n",
    "\n",
    "df.shape"
   ]
  },
  {
   "cell_type": "code",
   "execution_count": 4,
   "metadata": {
    "scrolled": true
   },
   "outputs": [
    {
     "data": {
      "image/png": "[encoded data removed]",
      "text/plain": [
       "<Figure size 432x288 with 1 Axes>"
      ]
     },
     "metadata": {
      "needs_background": "light"
     },
     "output_type": "display_data"
    }
   ],
   "source": [
    "# Check the sitribution of the dataset\n",
    "\n",
    "plot = sns.countplot(x='class', data=df).set_title('Dataset-B Distribution')"
   ]
  },
  {
   "cell_type": "code",
   "execution_count": 5,
   "metadata": {},
   "outputs": [
    {
     "data": {
      "text/plain": [
       "<seaborn.axisgrid.PairGrid at 0x7fe3b329cef0>"
      ]
     },
     "execution_count": 5,
     "metadata": {},
     "output_type": "execute_result"
    },
    {
     "data": {
      "image/png": "[encoded data removed]",
      "text/plain": [
       "<Figure size 997.5x900 with 30 Axes>"
      ]
     },
     "metadata": {
      "needs_background": "light"
     },
     "output_type": "display_data"
    }
   ],
   "source": [
    "# Check some relationships of the different features\n",
    "\n",
    "sns.pairplot(df, vars=df.columns[12:17], hue='class')"
   ]
  },
  {
   "cell_type": "markdown",
   "metadata": {},
   "source": [
    "## Back to the real stuff - Conditioning the Data"
   ]
  },
  {
   "cell_type": "code",
   "execution_count": 6,
   "metadata": {},
   "outputs": [
    {
     "data": {
      "text/html": [
       "<div>\n",
       "<style scoped>\n",
       "    .dataframe tbody tr th:only-of-type {\n",
       "        vertical-align: middle;\n",
       "    }\n",
       "\n",
       "    .dataframe tbody tr th {\n",
       "        vertical-align: top;\n",
       "    }\n",
       "\n",
       "    .dataframe thead th {\n",
       "        text-align: right;\n",
       "    }\n",
       "</style>\n",
       "<table border=\"1\" class=\"dataframe\">\n",
       "  <thead>\n",
       "    <tr style=\"text-align: right;\">\n",
       "      <th></th>\n",
       "      <th>stdPCA1</th>\n",
       "      <th>stdPCA2</th>\n",
       "      <th>stdPCA3</th>\n",
       "      <th>meanPCA1</th>\n",
       "      <th>meanPCA2</th>\n",
       "      <th>meanPCA3</th>\n",
       "      <th>meanS1</th>\n",
       "      <th>meanS2</th>\n",
       "      <th>stdS1</th>\n",
       "      <th>stdS2</th>\n",
       "      <th>...</th>\n",
       "      <th>stdlenFFTSHA</th>\n",
       "      <th>lenstdFFTSHA</th>\n",
       "      <th>posFFT</th>\n",
       "      <th>maxstdS1</th>\n",
       "      <th>maxstdS2</th>\n",
       "      <th>mmstdS1</th>\n",
       "      <th>mmstdS2</th>\n",
       "      <th>posRatio</th>\n",
       "      <th>stdWavelet</th>\n",
       "      <th>meanWavelet</th>\n",
       "    </tr>\n",
       "  </thead>\n",
       "  <tbody>\n",
       "    <tr>\n",
       "      <th>0</th>\n",
       "      <td>0.638786</td>\n",
       "      <td>0.409461</td>\n",
       "      <td>0.503370</td>\n",
       "      <td>0.263359</td>\n",
       "      <td>0.366913</td>\n",
       "      <td>0.404606</td>\n",
       "      <td>0.063191</td>\n",
       "      <td>0.047157</td>\n",
       "      <td>0.039061</td>\n",
       "      <td>0.026406</td>\n",
       "      <td>...</td>\n",
       "      <td>0.016750</td>\n",
       "      <td>0.028118</td>\n",
       "      <td>0.173913</td>\n",
       "      <td>0.032574</td>\n",
       "      <td>0.029471</td>\n",
       "      <td>0.029409</td>\n",
       "      <td>0.017980</td>\n",
       "      <td>0.096618</td>\n",
       "      <td>0.223323</td>\n",
       "      <td>0.222477</td>\n",
       "    </tr>\n",
       "    <tr>\n",
       "      <th>1</th>\n",
       "      <td>0.727809</td>\n",
       "      <td>0.236116</td>\n",
       "      <td>0.786586</td>\n",
       "      <td>0.446894</td>\n",
       "      <td>0.282429</td>\n",
       "      <td>0.320283</td>\n",
       "      <td>0.064612</td>\n",
       "      <td>0.039029</td>\n",
       "      <td>0.116794</td>\n",
       "      <td>0.073067</td>\n",
       "      <td>...</td>\n",
       "      <td>0.064188</td>\n",
       "      <td>0.006984</td>\n",
       "      <td>0.304348</td>\n",
       "      <td>0.116572</td>\n",
       "      <td>0.094018</td>\n",
       "      <td>0.085303</td>\n",
       "      <td>0.056188</td>\n",
       "      <td>0.000000</td>\n",
       "      <td>0.264409</td>\n",
       "      <td>0.318822</td>\n",
       "    </tr>\n",
       "    <tr>\n",
       "      <th>2</th>\n",
       "      <td>0.617452</td>\n",
       "      <td>0.417003</td>\n",
       "      <td>0.671749</td>\n",
       "      <td>0.373890</td>\n",
       "      <td>0.548808</td>\n",
       "      <td>0.437275</td>\n",
       "      <td>0.069153</td>\n",
       "      <td>0.045195</td>\n",
       "      <td>0.032258</td>\n",
       "      <td>0.025328</td>\n",
       "      <td>...</td>\n",
       "      <td>0.233871</td>\n",
       "      <td>0.001569</td>\n",
       "      <td>0.130435</td>\n",
       "      <td>0.030173</td>\n",
       "      <td>0.028416</td>\n",
       "      <td>0.021536</td>\n",
       "      <td>0.018988</td>\n",
       "      <td>0.000000</td>\n",
       "      <td>0.505492</td>\n",
       "      <td>0.198169</td>\n",
       "    </tr>\n",
       "    <tr>\n",
       "      <th>3</th>\n",
       "      <td>0.627543</td>\n",
       "      <td>0.389182</td>\n",
       "      <td>0.728339</td>\n",
       "      <td>0.392658</td>\n",
       "      <td>0.000000</td>\n",
       "      <td>0.641646</td>\n",
       "      <td>0.065047</td>\n",
       "      <td>0.041458</td>\n",
       "      <td>0.044858</td>\n",
       "      <td>0.015817</td>\n",
       "      <td>...</td>\n",
       "      <td>0.211261</td>\n",
       "      <td>0.001788</td>\n",
       "      <td>0.347826</td>\n",
       "      <td>0.041936</td>\n",
       "      <td>0.017647</td>\n",
       "      <td>0.036777</td>\n",
       "      <td>0.011220</td>\n",
       "      <td>0.000000</td>\n",
       "      <td>0.098073</td>\n",
       "      <td>0.263103</td>\n",
       "    </tr>\n",
       "    <tr>\n",
       "      <th>4</th>\n",
       "      <td>0.755378</td>\n",
       "      <td>0.210717</td>\n",
       "      <td>0.578384</td>\n",
       "      <td>0.290411</td>\n",
       "      <td>0.464090</td>\n",
       "      <td>0.469229</td>\n",
       "      <td>0.364380</td>\n",
       "      <td>0.446460</td>\n",
       "      <td>0.030146</td>\n",
       "      <td>0.000000</td>\n",
       "      <td>...</td>\n",
       "      <td>0.004540</td>\n",
       "      <td>0.105028</td>\n",
       "      <td>0.130435</td>\n",
       "      <td>0.030146</td>\n",
       "      <td>0.000000</td>\n",
       "      <td>0.030146</td>\n",
       "      <td>0.000000</td>\n",
       "      <td>0.833333</td>\n",
       "      <td>0.073366</td>\n",
       "      <td>0.272911</td>\n",
       "    </tr>\n",
       "  </tbody>\n",
       "</table>\n",
       "<p>5 rows × 24 columns</p>\n",
       "</div>"
      ],
      "text/plain": [
       "    stdPCA1   stdPCA2   stdPCA3  meanPCA1  meanPCA2  meanPCA3    meanS1  \\\n",
       "0  0.638786  0.409461  0.503370  0.263359  0.366913  0.404606  0.063191   \n",
       "1  0.727809  0.236116  0.786586  0.446894  0.282429  0.320283  0.064612   \n",
       "2  0.617452  0.417003  0.671749  0.373890  0.548808  0.437275  0.069153   \n",
       "3  0.627543  0.389182  0.728339  0.392658  0.000000  0.641646  0.065047   \n",
       "4  0.755378  0.210717  0.578384  0.290411  0.464090  0.469229  0.364380   \n",
       "\n",
       "     meanS2     stdS1     stdS2  ...  stdlenFFTSHA  lenstdFFTSHA    posFFT  \\\n",
       "0  0.047157  0.039061  0.026406  ...      0.016750      0.028118  0.173913   \n",
       "1  0.039029  0.116794  0.073067  ...      0.064188      0.006984  0.304348   \n",
       "2  0.045195  0.032258  0.025328  ...      0.233871      0.001569  0.130435   \n",
       "3  0.041458  0.044858  0.015817  ...      0.211261      0.001788  0.347826   \n",
       "4  0.446460  0.030146  0.000000  ...      0.004540      0.105028  0.130435   \n",
       "\n",
       "   maxstdS1  maxstdS2   mmstdS1   mmstdS2  posRatio  stdWavelet  meanWavelet  \n",
       "0  0.032574  0.029471  0.029409  0.017980  0.096618    0.223323     0.222477  \n",
       "1  0.116572  0.094018  0.085303  0.056188  0.000000    0.264409     0.318822  \n",
       "2  0.030173  0.028416  0.021536  0.018988  0.000000    0.505492     0.198169  \n",
       "3  0.041936  0.017647  0.036777  0.011220  0.000000    0.098073     0.263103  \n",
       "4  0.030146  0.000000  0.030146  0.000000  0.833333    0.073366     0.272911  \n",
       "\n",
       "[5 rows x 24 columns]"
      ]
     },
     "execution_count": 6,
     "metadata": {},
     "output_type": "execute_result"
    }
   ],
   "source": [
    "# Only take this select set of features from the Dataset A\n",
    "\n",
    "X = df.iloc[:,0:17]\n",
    "X[['maxstdS1', 'maxstdS2', 'mmstdS1', 'mmstdS2']] = df[['maxstdS1', 'maxstdS2','mmstdS1', 'mmstdS2']]\n",
    "X[['posRatio','stdWavelet','meanWavelet']] = df[['posRatio','stdWavelet','meanWavelet']]\n",
    "\n",
    "# Normalise the features\n",
    "\n",
    "min_max_scaler = preprocessing.MinMaxScaler()\n",
    "x_scaled = min_max_scaler.fit_transform(X)\n",
    "X = pd.DataFrame(x_scaled)\n",
    "\n",
    "# Rename the columns\n",
    "\n",
    "X.columns = [ 'stdPCA1', 'stdPCA2', 'stdPCA3', 'meanPCA1', \n",
    "               'meanPCA2', 'meanPCA3', 'meanS1', 'meanS2', \n",
    "          'stdS1', 'stdS2','rebuilError', 'ratios','stdFFTSHA' ,\n",
    "          'lenFFTSHA', 'stdlenFFTSHA' ,'lenstdFFTSHA' ,'posFFT',\n",
    "         'maxstdS1', 'maxstdS2', 'mmstdS1', 'mmstdS2',\n",
    "         'posRatio','stdWavelet','meanWavelet']\n",
    "\n",
    "X.head()"
   ]
  },
  {
   "cell_type": "code",
   "execution_count": 7,
   "metadata": {},
   "outputs": [],
   "source": [
    "# For testing later on ....\n",
    "P = X.values[15:22,:]"
   ]
  },
  {
   "cell_type": "code",
   "execution_count": 8,
   "metadata": {},
   "outputs": [
    {
     "name": "stdout",
     "output_type": "stream",
     "text": [
      "     Extrasystole  Murmur  Normal\n",
      "0               0       0       1\n",
      "1               0       0       1\n",
      "2               0       0       1\n",
      "3               0       0       1\n",
      "4               0       0       1\n",
      "..            ...     ...     ...\n",
      "307             1       0       0\n",
      "308             1       0       0\n",
      "309             1       0       0\n",
      "310             1       0       0\n",
      "311             1       0       0\n",
      "\n",
      "[312 rows x 3 columns]\n"
     ]
    }
   ],
   "source": [
    "# Get the classes\n",
    "\n",
    "y = df.iloc[:,toremove-1:toremove]\n",
    "y.head()\n",
    "\n",
    "Y = pd.get_dummies(y['class'])\n",
    "print(Y)"
   ]
  },
  {
   "cell_type": "code",
   "execution_count": 9,
   "metadata": {},
   "outputs": [],
   "source": [
    "# Randomise the dataset\n",
    "\n",
    "X,Y = shuffle(X,Y,random_state=100)"
   ]
  },
  {
   "cell_type": "code",
   "execution_count": 10,
   "metadata": {},
   "outputs": [
    {
     "data": {
      "text/html": [
       "<div>\n",
       "<style scoped>\n",
       "    .dataframe tbody tr th:only-of-type {\n",
       "        vertical-align: middle;\n",
       "    }\n",
       "\n",
       "    .dataframe tbody tr th {\n",
       "        vertical-align: top;\n",
       "    }\n",
       "\n",
       "    .dataframe thead th {\n",
       "        text-align: right;\n",
       "    }\n",
       "</style>\n",
       "<table border=\"1\" class=\"dataframe\">\n",
       "  <thead>\n",
       "    <tr style=\"text-align: right;\">\n",
       "      <th></th>\n",
       "      <th>stdPCA1</th>\n",
       "      <th>stdPCA2</th>\n",
       "      <th>stdPCA3</th>\n",
       "      <th>meanPCA1</th>\n",
       "      <th>meanPCA2</th>\n",
       "      <th>meanPCA3</th>\n",
       "      <th>meanS1</th>\n",
       "      <th>meanS2</th>\n",
       "      <th>stdS1</th>\n",
       "      <th>stdS2</th>\n",
       "      <th>...</th>\n",
       "      <th>stdlenFFTSHA</th>\n",
       "      <th>lenstdFFTSHA</th>\n",
       "      <th>posFFT</th>\n",
       "      <th>maxstdS1</th>\n",
       "      <th>maxstdS2</th>\n",
       "      <th>mmstdS1</th>\n",
       "      <th>mmstdS2</th>\n",
       "      <th>posRatio</th>\n",
       "      <th>stdWavelet</th>\n",
       "      <th>meanWavelet</th>\n",
       "    </tr>\n",
       "  </thead>\n",
       "  <tbody>\n",
       "    <tr>\n",
       "      <th>309</th>\n",
       "      <td>0.042249</td>\n",
       "      <td>0.849297</td>\n",
       "      <td>0.890956</td>\n",
       "      <td>0.380867</td>\n",
       "      <td>0.410274</td>\n",
       "      <td>0.787674</td>\n",
       "      <td>0.059557</td>\n",
       "      <td>0.040332</td>\n",
       "      <td>0.097761</td>\n",
       "      <td>0.066757</td>\n",
       "      <td>...</td>\n",
       "      <td>0.154809</td>\n",
       "      <td>0.002615</td>\n",
       "      <td>0.173913</td>\n",
       "      <td>0.095597</td>\n",
       "      <td>0.082999</td>\n",
       "      <td>0.045744</td>\n",
       "      <td>0.017026</td>\n",
       "      <td>0.000000</td>\n",
       "      <td>0.055824</td>\n",
       "      <td>0.279593</td>\n",
       "    </tr>\n",
       "    <tr>\n",
       "      <th>169</th>\n",
       "      <td>0.575219</td>\n",
       "      <td>0.468849</td>\n",
       "      <td>0.569741</td>\n",
       "      <td>0.303563</td>\n",
       "      <td>0.750561</td>\n",
       "      <td>0.353813</td>\n",
       "      <td>0.145870</td>\n",
       "      <td>0.236345</td>\n",
       "      <td>0.000000</td>\n",
       "      <td>0.003888</td>\n",
       "      <td>...</td>\n",
       "      <td>0.000610</td>\n",
       "      <td>0.784777</td>\n",
       "      <td>0.043478</td>\n",
       "      <td>0.000000</td>\n",
       "      <td>0.004938</td>\n",
       "      <td>0.000000</td>\n",
       "      <td>0.003888</td>\n",
       "      <td>0.000000</td>\n",
       "      <td>0.076175</td>\n",
       "      <td>0.273732</td>\n",
       "    </tr>\n",
       "    <tr>\n",
       "      <th>1</th>\n",
       "      <td>0.727809</td>\n",
       "      <td>0.236116</td>\n",
       "      <td>0.786586</td>\n",
       "      <td>0.446894</td>\n",
       "      <td>0.282429</td>\n",
       "      <td>0.320283</td>\n",
       "      <td>0.064612</td>\n",
       "      <td>0.039029</td>\n",
       "      <td>0.116794</td>\n",
       "      <td>0.073067</td>\n",
       "      <td>...</td>\n",
       "      <td>0.064188</td>\n",
       "      <td>0.006984</td>\n",
       "      <td>0.304348</td>\n",
       "      <td>0.116572</td>\n",
       "      <td>0.094018</td>\n",
       "      <td>0.085303</td>\n",
       "      <td>0.056188</td>\n",
       "      <td>0.000000</td>\n",
       "      <td>0.264409</td>\n",
       "      <td>0.318822</td>\n",
       "    </tr>\n",
       "    <tr>\n",
       "      <th>27</th>\n",
       "      <td>0.807858</td>\n",
       "      <td>0.188924</td>\n",
       "      <td>0.432289</td>\n",
       "      <td>0.364804</td>\n",
       "      <td>0.355762</td>\n",
       "      <td>0.538205</td>\n",
       "      <td>0.046992</td>\n",
       "      <td>0.029630</td>\n",
       "      <td>0.237846</td>\n",
       "      <td>0.255484</td>\n",
       "      <td>...</td>\n",
       "      <td>0.002436</td>\n",
       "      <td>0.196133</td>\n",
       "      <td>0.086957</td>\n",
       "      <td>0.073036</td>\n",
       "      <td>0.043072</td>\n",
       "      <td>0.045319</td>\n",
       "      <td>0.024622</td>\n",
       "      <td>0.111111</td>\n",
       "      <td>0.265878</td>\n",
       "      <td>0.299967</td>\n",
       "    </tr>\n",
       "    <tr>\n",
       "      <th>126</th>\n",
       "      <td>0.602086</td>\n",
       "      <td>0.376342</td>\n",
       "      <td>0.604083</td>\n",
       "      <td>0.277930</td>\n",
       "      <td>0.364109</td>\n",
       "      <td>0.539179</td>\n",
       "      <td>0.158863</td>\n",
       "      <td>0.152968</td>\n",
       "      <td>0.491549</td>\n",
       "      <td>0.216067</td>\n",
       "      <td>...</td>\n",
       "      <td>0.005486</td>\n",
       "      <td>0.086843</td>\n",
       "      <td>0.130435</td>\n",
       "      <td>0.039015</td>\n",
       "      <td>0.162157</td>\n",
       "      <td>0.030146</td>\n",
       "      <td>0.131037</td>\n",
       "      <td>0.333333</td>\n",
       "      <td>0.159111</td>\n",
       "      <td>0.244806</td>\n",
       "    </tr>\n",
       "  </tbody>\n",
       "</table>\n",
       "<p>5 rows × 24 columns</p>\n",
       "</div>"
      ],
      "text/plain": [
       "      stdPCA1   stdPCA2   stdPCA3  meanPCA1  meanPCA2  meanPCA3    meanS1  \\\n",
       "309  0.042249  0.849297  0.890956  0.380867  0.410274  0.787674  0.059557   \n",
       "169  0.575219  0.468849  0.569741  0.303563  0.750561  0.353813  0.145870   \n",
       "1    0.727809  0.236116  0.786586  0.446894  0.282429  0.320283  0.064612   \n",
       "27   0.807858  0.188924  0.432289  0.364804  0.355762  0.538205  0.046992   \n",
       "126  0.602086  0.376342  0.604083  0.277930  0.364109  0.539179  0.158863   \n",
       "\n",
       "       meanS2     stdS1     stdS2  ...  stdlenFFTSHA  lenstdFFTSHA    posFFT  \\\n",
       "309  0.040332  0.097761  0.066757  ...      0.154809      0.002615  0.173913   \n",
       "169  0.236345  0.000000  0.003888  ...      0.000610      0.784777  0.043478   \n",
       "1    0.039029  0.116794  0.073067  ...      0.064188      0.006984  0.304348   \n",
       "27   0.029630  0.237846  0.255484  ...      0.002436      0.196133  0.086957   \n",
       "126  0.152968  0.491549  0.216067  ...      0.005486      0.086843  0.130435   \n",
       "\n",
       "     maxstdS1  maxstdS2   mmstdS1   mmstdS2  posRatio  stdWavelet  meanWavelet  \n",
       "309  0.095597  0.082999  0.045744  0.017026  0.000000    0.055824     0.279593  \n",
       "169  0.000000  0.004938  0.000000  0.003888  0.000000    0.076175     0.273732  \n",
       "1    0.116572  0.094018  0.085303  0.056188  0.000000    0.264409     0.318822  \n",
       "27   0.073036  0.043072  0.045319  0.024622  0.111111    0.265878     0.299967  \n",
       "126  0.039015  0.162157  0.030146  0.131037  0.333333    0.159111     0.244806  \n",
       "\n",
       "[5 rows x 24 columns]"
      ]
     },
     "execution_count": 10,
     "metadata": {},
     "output_type": "execute_result"
    }
   ],
   "source": [
    "X.head()"
   ]
  },
  {
   "cell_type": "code",
   "execution_count": 11,
   "metadata": {},
   "outputs": [],
   "source": [
    "# Split into training & Testing\n",
    "\n",
    "from sklearn.model_selection import train_test_split\n",
    "X_train,X_test, Y_train, Y_test = train_test_split(X,Y,test_size=0.2, random_state = 100)\n"
   ]
  },
  {
   "cell_type": "code",
   "execution_count": 12,
   "metadata": {},
   "outputs": [
    {
     "name": "stdout",
     "output_type": "stream",
     "text": [
      "[[0 0 1]\n",
      " [0 1 0]\n",
      " [1 0 0]] \n",
      "\n",
      "Training numbers :  [160  51  38] \n",
      "\n"
     ]
    }
   ],
   "source": [
    "# Check the proportions of classes for training\n",
    "\n",
    "classes, count = np.unique(Y_train,axis=0,return_counts=True)\n",
    "\n",
    "print(classes,'\\n')\n",
    "print(\"Training numbers : \",count, '\\n')"
   ]
  },
  {
   "cell_type": "code",
   "execution_count": 13,
   "metadata": {},
   "outputs": [
    {
     "name": "stdout",
     "output_type": "stream",
     "text": [
      "[[0 0 1]\n",
      " [0 1 0]\n",
      " [1 0 0]] \n",
      "\n",
      "Training numbers :  [40 15  8] \n",
      "\n"
     ]
    }
   ],
   "source": [
    "# Check the proportions of classes for testing\n",
    "\n",
    "classes, count = np.unique(Y_test,axis=0,return_counts=True)\n",
    "\n",
    "print(classes,'\\n')\n",
    "print(\"Training numbers : \",count, '\\n')"
   ]
  },
  {
   "cell_type": "markdown",
   "metadata": {},
   "source": [
    "# Training"
   ]
  },
  {
   "cell_type": "code",
   "execution_count": 14,
   "metadata": {},
   "outputs": [
    {
     "name": "stderr",
     "output_type": "stream",
     "text": [
      "Using TensorFlow backend.\n"
     ]
    }
   ],
   "source": [
    "import keras\n",
    "from keras.models import Sequential\n",
    "from keras.layers import Dense\n",
    "from keras.layers.core import Dropout\n",
    "from keras.callbacks import EarlyStopping"
   ]
  },
  {
   "cell_type": "code",
   "execution_count": 15,
   "metadata": {},
   "outputs": [
    {
     "name": "stderr",
     "output_type": "stream",
     "text": [
      "WARNING: Logging before flag parsing goes to stderr.\n",
      "W0915 20:19:01.931990 140617488103232 deprecation_wrapper.py:119] From /usr/local/lib/python3.7/dist-packages/keras/backend/tensorflow_backend.py:74: The name tf.get_default_graph is deprecated. Please use tf.compat.v1.get_default_graph instead.\n",
      "\n"
     ]
    }
   ],
   "source": [
    "# Use sequential model\n",
    "clf = Sequential()"
   ]
  },
  {
   "cell_type": "code",
   "execution_count": 16,
   "metadata": {},
   "outputs": [
    {
     "name": "stdout",
     "output_type": "stream",
     "text": [
      "24 3 13\n"
     ]
    }
   ],
   "source": [
    "# Get dimension of the model from the dataset\n",
    "\n",
    "x_dim = X.shape[1]\n",
    "y_dim = Y.shape[1]\n",
    "\n",
    "n_unit = int(np.floor((x_dim + y_dim)/2))\n",
    "\n",
    "print(x_dim, y_dim,n_unit)"
   ]
  },
  {
   "cell_type": "code",
   "execution_count": 17,
   "metadata": {},
   "outputs": [
    {
     "name": "stderr",
     "output_type": "stream",
     "text": [
      "W0915 20:19:02.102375 140617488103232 deprecation_wrapper.py:119] From /usr/local/lib/python3.7/dist-packages/keras/backend/tensorflow_backend.py:517: The name tf.placeholder is deprecated. Please use tf.compat.v1.placeholder instead.\n",
      "\n",
      "W0915 20:19:02.104893 140617488103232 deprecation_wrapper.py:119] From /usr/local/lib/python3.7/dist-packages/keras/backend/tensorflow_backend.py:4138: The name tf.random_uniform is deprecated. Please use tf.random.uniform instead.\n",
      "\n"
     ]
    }
   ],
   "source": [
    "# Build the model\n",
    "\n",
    "clf.add(Dense(activation = 'relu', input_dim = x_dim, units=n_unit, kernel_initializer= 'uniform'))\n"
   ]
  },
  {
   "cell_type": "code",
   "execution_count": 18,
   "metadata": {},
   "outputs": [],
   "source": [
    "# Only use one hidden layer\n",
    "\n",
    "layers = 1\n",
    "\n",
    "clf.add(Dense(activation= 'relu', units = n_unit, kernel_initializer='uniform'))"
   ]
  },
  {
   "cell_type": "code",
   "execution_count": 19,
   "metadata": {},
   "outputs": [],
   "source": [
    "# Adding the output layer\n",
    "\n",
    "clf.add(Dense(activation = 'softmax', units=y_dim, kernel_initializer='uniform'))"
   ]
  },
  {
   "cell_type": "code",
   "execution_count": 20,
   "metadata": {},
   "outputs": [
    {
     "name": "stderr",
     "output_type": "stream",
     "text": [
      "W0915 20:19:02.368025 140617488103232 deprecation_wrapper.py:119] From /usr/local/lib/python3.7/dist-packages/keras/optimizers.py:790: The name tf.train.Optimizer is deprecated. Please use tf.compat.v1.train.Optimizer instead.\n",
      "\n",
      "W0915 20:19:02.403153 140617488103232 deprecation_wrapper.py:119] From /usr/local/lib/python3.7/dist-packages/keras/backend/tensorflow_backend.py:3376: The name tf.log is deprecated. Please use tf.math.log instead.\n",
      "\n",
      "W0915 20:19:02.408963 140617488103232 deprecation.py:323] From /usr/local/lib/python3.7/dist-packages/tensorflow/python/ops/nn_impl.py:180: add_dispatch_support.<locals>.wrapper (from tensorflow.python.ops.array_ops) is deprecated and will be removed in a future version.\n",
      "Instructions for updating:\n",
      "Use tf.where in 2.0, which has the same broadcast rule as np.where\n"
     ]
    }
   ],
   "source": [
    "# Finalise the model\n",
    "\n",
    "clf.compile(optimizer='adam', loss = 'binary_crossentropy', metrics=['accuracy'])"
   ]
  },
  {
   "cell_type": "code",
   "execution_count": 21,
   "metadata": {},
   "outputs": [
    {
     "name": "stderr",
     "output_type": "stream",
     "text": [
      "W0915 20:19:02.622949 140617488103232 deprecation_wrapper.py:119] From /usr/local/lib/python3.7/dist-packages/keras/backend/tensorflow_backend.py:986: The name tf.assign_add is deprecated. Please use tf.compat.v1.assign_add instead.\n",
      "\n"
     ]
    },
    {
     "name": "stdout",
     "output_type": "stream",
     "text": [
      "Train on 199 samples, validate on 50 samples\n",
      "Epoch 1/100\n",
      "199/199 [==============================] - 0s 1ms/step - loss: 0.6338 - acc: 0.6667 - val_loss: 0.6312 - val_acc: 0.6667\n",
      "Epoch 2/100\n",
      "199/199 [==============================] - 0s 108us/step - loss: 0.6249 - acc: 0.6667 - val_loss: 0.6197 - val_acc: 0.6667\n",
      "Epoch 3/100\n",
      "199/199 [==============================] - 0s 116us/step - loss: 0.6061 - acc: 0.6667 - val_loss: 0.5959 - val_acc: 0.6667\n",
      "Epoch 4/100\n",
      "199/199 [==============================] - 0s 120us/step - loss: 0.5720 - acc: 0.6683 - val_loss: 0.5685 - val_acc: 0.6533\n",
      "Epoch 5/100\n",
      "199/199 [==============================] - 0s 114us/step - loss: 0.5455 - acc: 0.7571 - val_loss: 0.5558 - val_acc: 0.7467\n",
      "Epoch 6/100\n",
      "199/199 [==============================] - 0s 127us/step - loss: 0.5358 - acc: 0.7655 - val_loss: 0.5560 - val_acc: 0.7467\n",
      "Epoch 7/100\n",
      "199/199 [==============================] - 0s 112us/step - loss: 0.5287 - acc: 0.7655 - val_loss: 0.5543 - val_acc: 0.7467\n",
      "Epoch 8/100\n",
      "199/199 [==============================] - 0s 119us/step - loss: 0.5264 - acc: 0.7655 - val_loss: 0.5529 - val_acc: 0.7467\n",
      "Epoch 9/100\n",
      "199/199 [==============================] - 0s 112us/step - loss: 0.5247 - acc: 0.7655 - val_loss: 0.5535 - val_acc: 0.7467\n",
      "Epoch 10/100\n",
      "199/199 [==============================] - 0s 112us/step - loss: 0.5224 - acc: 0.7655 - val_loss: 0.5522 - val_acc: 0.7467\n",
      "Epoch 11/100\n",
      "199/199 [==============================] - 0s 117us/step - loss: 0.5197 - acc: 0.7655 - val_loss: 0.5508 - val_acc: 0.7467\n",
      "Epoch 12/100\n",
      "199/199 [==============================] - 0s 120us/step - loss: 0.5180 - acc: 0.7655 - val_loss: 0.5506 - val_acc: 0.7467\n",
      "Epoch 13/100\n",
      "199/199 [==============================] - 0s 116us/step - loss: 0.5160 - acc: 0.7655 - val_loss: 0.5491 - val_acc: 0.7467\n",
      "Epoch 14/100\n",
      "199/199 [==============================] - 0s 117us/step - loss: 0.5146 - acc: 0.7655 - val_loss: 0.5483 - val_acc: 0.7467\n",
      "Epoch 15/100\n",
      "199/199 [==============================] - 0s 128us/step - loss: 0.5119 - acc: 0.7655 - val_loss: 0.5474 - val_acc: 0.7467\n",
      "Epoch 16/100\n",
      "199/199 [==============================] - 0s 114us/step - loss: 0.5100 - acc: 0.7655 - val_loss: 0.5462 - val_acc: 0.7467\n",
      "Epoch 17/100\n",
      "199/199 [==============================] - 0s 115us/step - loss: 0.5088 - acc: 0.7655 - val_loss: 0.5443 - val_acc: 0.7467\n",
      "Epoch 18/100\n",
      "199/199 [==============================] - 0s 111us/step - loss: 0.5064 - acc: 0.7655 - val_loss: 0.5435 - val_acc: 0.7467\n",
      "Epoch 19/100\n",
      "199/199 [==============================] - 0s 119us/step - loss: 0.5043 - acc: 0.7672 - val_loss: 0.5424 - val_acc: 0.7533\n",
      "Epoch 20/100\n",
      "199/199 [==============================] - 0s 114us/step - loss: 0.5024 - acc: 0.7688 - val_loss: 0.5414 - val_acc: 0.7533\n",
      "Epoch 21/100\n",
      "199/199 [==============================] - 0s 116us/step - loss: 0.5004 - acc: 0.7705 - val_loss: 0.5409 - val_acc: 0.7533\n",
      "Epoch 22/100\n",
      "199/199 [==============================] - 0s 123us/step - loss: 0.4987 - acc: 0.7688 - val_loss: 0.5397 - val_acc: 0.7533\n",
      "Epoch 23/100\n",
      "199/199 [==============================] - 0s 120us/step - loss: 0.4965 - acc: 0.7688 - val_loss: 0.5391 - val_acc: 0.7533\n",
      "Epoch 24/100\n",
      "199/199 [==============================] - 0s 110us/step - loss: 0.4947 - acc: 0.7688 - val_loss: 0.5390 - val_acc: 0.7533\n",
      "Epoch 25/100\n",
      "199/199 [==============================] - 0s 123us/step - loss: 0.4926 - acc: 0.7722 - val_loss: 0.5373 - val_acc: 0.7467\n",
      "Epoch 26/100\n",
      "199/199 [==============================] - 0s 147us/step - loss: 0.4907 - acc: 0.7739 - val_loss: 0.5357 - val_acc: 0.7467\n",
      "Epoch 27/100\n",
      "199/199 [==============================] - 0s 113us/step - loss: 0.4890 - acc: 0.7722 - val_loss: 0.5344 - val_acc: 0.7467\n",
      "Epoch 28/100\n",
      "199/199 [==============================] - 0s 126us/step - loss: 0.4867 - acc: 0.7755 - val_loss: 0.5341 - val_acc: 0.7467\n",
      "Epoch 29/100\n",
      "199/199 [==============================] - 0s 119us/step - loss: 0.4851 - acc: 0.7772 - val_loss: 0.5340 - val_acc: 0.7533\n",
      "Epoch 30/100\n",
      "199/199 [==============================] - 0s 110us/step - loss: 0.4830 - acc: 0.7755 - val_loss: 0.5334 - val_acc: 0.7533\n",
      "Epoch 31/100\n",
      "199/199 [==============================] - 0s 116us/step - loss: 0.4812 - acc: 0.7755 - val_loss: 0.5329 - val_acc: 0.7533\n",
      "Epoch 32/100\n",
      "199/199 [==============================] - 0s 109us/step - loss: 0.4795 - acc: 0.7789 - val_loss: 0.5318 - val_acc: 0.7600\n",
      "Epoch 33/100\n",
      "199/199 [==============================] - 0s 119us/step - loss: 0.4772 - acc: 0.7806 - val_loss: 0.5313 - val_acc: 0.7467\n",
      "Epoch 34/100\n",
      "199/199 [==============================] - 0s 104us/step - loss: 0.4758 - acc: 0.7839 - val_loss: 0.5306 - val_acc: 0.7533\n",
      "Epoch 35/100\n",
      "199/199 [==============================] - 0s 127us/step - loss: 0.4741 - acc: 0.7856 - val_loss: 0.5304 - val_acc: 0.7467\n",
      "Epoch 36/100\n",
      "199/199 [==============================] - 0s 132us/step - loss: 0.4722 - acc: 0.7873 - val_loss: 0.5298 - val_acc: 0.7533\n",
      "Epoch 37/100\n",
      "199/199 [==============================] - 0s 95us/step - loss: 0.4701 - acc: 0.7873 - val_loss: 0.5291 - val_acc: 0.7533\n",
      "Epoch 38/100\n",
      "199/199 [==============================] - 0s 110us/step - loss: 0.4709 - acc: 0.7873 - val_loss: 0.5294 - val_acc: 0.7467\n",
      "Epoch 39/100\n",
      "199/199 [==============================] - 0s 110us/step - loss: 0.4670 - acc: 0.7873 - val_loss: 0.5293 - val_acc: 0.7533\n",
      "Epoch 40/100\n",
      "199/199 [==============================] - 0s 97us/step - loss: 0.4667 - acc: 0.7889 - val_loss: 0.5288 - val_acc: 0.7600\n",
      "Epoch 41/100\n",
      "199/199 [==============================] - 0s 108us/step - loss: 0.4658 - acc: 0.7940 - val_loss: 0.5285 - val_acc: 0.7533\n",
      "Epoch 42/100\n",
      "199/199 [==============================] - 0s 106us/step - loss: 0.4638 - acc: 0.7956 - val_loss: 0.5281 - val_acc: 0.7533\n",
      "Epoch 43/100\n",
      "199/199 [==============================] - 0s 115us/step - loss: 0.4625 - acc: 0.7906 - val_loss: 0.5282 - val_acc: 0.7533\n",
      "Epoch 44/100\n",
      "199/199 [==============================] - 0s 106us/step - loss: 0.4645 - acc: 0.7956 - val_loss: 0.5277 - val_acc: 0.7533\n",
      "Epoch 45/100\n",
      "199/199 [==============================] - 0s 102us/step - loss: 0.4632 - acc: 0.7956 - val_loss: 0.5280 - val_acc: 0.7600\n",
      "Epoch 46/100\n",
      "199/199 [==============================] - 0s 114us/step - loss: 0.4604 - acc: 0.7923 - val_loss: 0.5276 - val_acc: 0.7533\n",
      "Epoch 47/100\n",
      "199/199 [==============================] - 0s 111us/step - loss: 0.4575 - acc: 0.7906 - val_loss: 0.5275 - val_acc: 0.7600\n",
      "Epoch 48/100\n",
      "199/199 [==============================] - 0s 117us/step - loss: 0.4571 - acc: 0.7956 - val_loss: 0.5276 - val_acc: 0.7600\n",
      "Epoch 49/100\n",
      "199/199 [==============================] - 0s 98us/step - loss: 0.4567 - acc: 0.7940 - val_loss: 0.5276 - val_acc: 0.7467\n",
      "Epoch 50/100\n",
      "199/199 [==============================] - 0s 108us/step - loss: 0.4559 - acc: 0.7940 - val_loss: 0.5272 - val_acc: 0.7600\n",
      "Epoch 51/100\n",
      "199/199 [==============================] - 0s 107us/step - loss: 0.4555 - acc: 0.7923 - val_loss: 0.5261 - val_acc: 0.7467\n",
      "Epoch 52/100\n",
      "199/199 [==============================] - 0s 92us/step - loss: 0.4537 - acc: 0.7956 - val_loss: 0.5257 - val_acc: 0.7400\n",
      "Epoch 53/100\n",
      "199/199 [==============================] - 0s 111us/step - loss: 0.4530 - acc: 0.7940 - val_loss: 0.5258 - val_acc: 0.7467\n",
      "Epoch 54/100\n",
      "199/199 [==============================] - 0s 109us/step - loss: 0.4534 - acc: 0.7940 - val_loss: 0.5262 - val_acc: 0.7400\n",
      "Epoch 55/100\n",
      "199/199 [==============================] - 0s 111us/step - loss: 0.4515 - acc: 0.7940 - val_loss: 0.5262 - val_acc: 0.7533\n",
      "Epoch 56/100\n",
      "199/199 [==============================] - 0s 122us/step - loss: 0.4516 - acc: 0.7906 - val_loss: 0.5256 - val_acc: 0.7600\n",
      "Epoch 57/100\n",
      "199/199 [==============================] - 0s 101us/step - loss: 0.4496 - acc: 0.7940 - val_loss: 0.5246 - val_acc: 0.7400\n",
      "Epoch 58/100\n",
      "199/199 [==============================] - 0s 140us/step - loss: 0.4496 - acc: 0.7923 - val_loss: 0.5238 - val_acc: 0.7467\n",
      "Epoch 59/100\n",
      "199/199 [==============================] - 0s 110us/step - loss: 0.4495 - acc: 0.7956 - val_loss: 0.5237 - val_acc: 0.7400\n",
      "Epoch 60/100\n",
      "199/199 [==============================] - 0s 141us/step - loss: 0.4487 - acc: 0.7956 - val_loss: 0.5231 - val_acc: 0.7467\n",
      "Epoch 61/100\n"
     ]
    },
    {
     "name": "stdout",
     "output_type": "stream",
     "text": [
      "199/199 [==============================] - 0s 144us/step - loss: 0.4481 - acc: 0.7873 - val_loss: 0.5219 - val_acc: 0.7600\n",
      "Epoch 62/100\n",
      "199/199 [==============================] - 0s 142us/step - loss: 0.4463 - acc: 0.7923 - val_loss: 0.5213 - val_acc: 0.7467\n",
      "Epoch 63/100\n",
      "199/199 [==============================] - 0s 144us/step - loss: 0.4456 - acc: 0.7940 - val_loss: 0.5204 - val_acc: 0.7467\n",
      "Epoch 64/100\n",
      "199/199 [==============================] - 0s 121us/step - loss: 0.4462 - acc: 0.7889 - val_loss: 0.5210 - val_acc: 0.7533\n",
      "Epoch 65/100\n",
      "199/199 [==============================] - 0s 108us/step - loss: 0.4443 - acc: 0.7923 - val_loss: 0.5206 - val_acc: 0.7533\n",
      "Epoch 66/100\n",
      "199/199 [==============================] - 0s 106us/step - loss: 0.4439 - acc: 0.7940 - val_loss: 0.5209 - val_acc: 0.7600\n",
      "Epoch 67/100\n",
      "199/199 [==============================] - 0s 103us/step - loss: 0.4437 - acc: 0.7956 - val_loss: 0.5190 - val_acc: 0.7667\n",
      "Epoch 68/100\n",
      "199/199 [==============================] - 0s 101us/step - loss: 0.4434 - acc: 0.8023 - val_loss: 0.5198 - val_acc: 0.7800\n",
      "Epoch 69/100\n",
      "199/199 [==============================] - 0s 125us/step - loss: 0.4426 - acc: 0.8023 - val_loss: 0.5194 - val_acc: 0.7733\n",
      "Epoch 70/100\n",
      "199/199 [==============================] - 0s 104us/step - loss: 0.4410 - acc: 0.8023 - val_loss: 0.5193 - val_acc: 0.7733\n",
      "Epoch 71/100\n",
      "199/199 [==============================] - 0s 101us/step - loss: 0.4410 - acc: 0.8023 - val_loss: 0.5187 - val_acc: 0.7733\n",
      "Epoch 72/100\n",
      "199/199 [==============================] - 0s 90us/step - loss: 0.4403 - acc: 0.8090 - val_loss: 0.5190 - val_acc: 0.7667\n",
      "Epoch 73/100\n",
      "199/199 [==============================] - 0s 122us/step - loss: 0.4396 - acc: 0.8040 - val_loss: 0.5183 - val_acc: 0.7800\n",
      "Epoch 74/100\n",
      "199/199 [==============================] - 0s 107us/step - loss: 0.4404 - acc: 0.8007 - val_loss: 0.5185 - val_acc: 0.7733\n",
      "Epoch 75/100\n",
      "199/199 [==============================] - 0s 120us/step - loss: 0.4380 - acc: 0.8124 - val_loss: 0.5168 - val_acc: 0.7733\n",
      "Epoch 76/100\n",
      "199/199 [==============================] - 0s 118us/step - loss: 0.4389 - acc: 0.8124 - val_loss: 0.5181 - val_acc: 0.7733\n",
      "Epoch 77/100\n",
      "199/199 [==============================] - 0s 130us/step - loss: 0.4370 - acc: 0.8141 - val_loss: 0.5172 - val_acc: 0.7800\n",
      "Epoch 78/100\n",
      "199/199 [==============================] - 0s 124us/step - loss: 0.4374 - acc: 0.8107 - val_loss: 0.5174 - val_acc: 0.7733\n",
      "Epoch 79/100\n",
      "199/199 [==============================] - 0s 139us/step - loss: 0.4393 - acc: 0.8124 - val_loss: 0.5161 - val_acc: 0.7800\n",
      "Epoch 80/100\n",
      "199/199 [==============================] - 0s 126us/step - loss: 0.4391 - acc: 0.8141 - val_loss: 0.5169 - val_acc: 0.7867\n",
      "Epoch 81/100\n",
      "199/199 [==============================] - 0s 137us/step - loss: 0.4371 - acc: 0.8174 - val_loss: 0.5147 - val_acc: 0.7867\n",
      "Epoch 82/100\n",
      "199/199 [==============================] - 0s 119us/step - loss: 0.4361 - acc: 0.8141 - val_loss: 0.5160 - val_acc: 0.7867\n",
      "Epoch 83/100\n",
      "199/199 [==============================] - 0s 122us/step - loss: 0.4376 - acc: 0.8174 - val_loss: 0.5155 - val_acc: 0.7733\n",
      "Epoch 84/100\n",
      "199/199 [==============================] - 0s 132us/step - loss: 0.4353 - acc: 0.8174 - val_loss: 0.5140 - val_acc: 0.7933\n",
      "Epoch 85/100\n",
      "199/199 [==============================] - 0s 116us/step - loss: 0.4339 - acc: 0.8174 - val_loss: 0.5155 - val_acc: 0.7867\n",
      "Epoch 86/100\n",
      "199/199 [==============================] - 0s 132us/step - loss: 0.4343 - acc: 0.8224 - val_loss: 0.5140 - val_acc: 0.7800\n",
      "Epoch 87/100\n",
      "199/199 [==============================] - 0s 117us/step - loss: 0.4318 - acc: 0.8208 - val_loss: 0.5143 - val_acc: 0.7933\n",
      "Epoch 88/100\n",
      "199/199 [==============================] - 0s 107us/step - loss: 0.4312 - acc: 0.8208 - val_loss: 0.5143 - val_acc: 0.7867\n",
      "Epoch 89/100\n",
      "199/199 [==============================] - 0s 120us/step - loss: 0.4315 - acc: 0.8241 - val_loss: 0.5137 - val_acc: 0.7867\n",
      "Epoch 90/100\n",
      "199/199 [==============================] - 0s 119us/step - loss: 0.4312 - acc: 0.8208 - val_loss: 0.5139 - val_acc: 0.7933\n",
      "Epoch 91/100\n",
      "199/199 [==============================] - 0s 117us/step - loss: 0.4309 - acc: 0.8208 - val_loss: 0.5134 - val_acc: 0.7800\n",
      "Epoch 92/100\n",
      "199/199 [==============================] - 0s 106us/step - loss: 0.4293 - acc: 0.8208 - val_loss: 0.5133 - val_acc: 0.7933\n",
      "Epoch 93/100\n",
      "199/199 [==============================] - 0s 114us/step - loss: 0.4314 - acc: 0.8258 - val_loss: 0.5132 - val_acc: 0.7867\n",
      "Epoch 94/100\n",
      "199/199 [==============================] - 0s 127us/step - loss: 0.4292 - acc: 0.8224 - val_loss: 0.5128 - val_acc: 0.7800\n",
      "Epoch 95/100\n",
      "199/199 [==============================] - 0s 139us/step - loss: 0.4287 - acc: 0.8258 - val_loss: 0.5124 - val_acc: 0.7867\n",
      "Epoch 96/100\n",
      "199/199 [==============================] - 0s 144us/step - loss: 0.4295 - acc: 0.8241 - val_loss: 0.5139 - val_acc: 0.7933\n",
      "Epoch 97/100\n",
      "199/199 [==============================] - 0s 125us/step - loss: 0.4276 - acc: 0.8208 - val_loss: 0.5127 - val_acc: 0.7867\n",
      "Epoch 98/100\n",
      "199/199 [==============================] - 0s 142us/step - loss: 0.4272 - acc: 0.8241 - val_loss: 0.5116 - val_acc: 0.7933\n",
      "Epoch 99/100\n",
      "199/199 [==============================] - 0s 147us/step - loss: 0.4261 - acc: 0.8224 - val_loss: 0.5118 - val_acc: 0.7867\n",
      "Epoch 100/100\n",
      "199/199 [==============================] - 0s 122us/step - loss: 0.4260 - acc: 0.8258 - val_loss: 0.5114 - val_acc: 0.7933\n"
     ]
    }
   ],
   "source": [
    "# Start training\n",
    "\n",
    "history = clf.fit(X_train, Y_train, batch_size=10, epochs=100, \n",
    " validation_split=0.2  ,shuffle=True)\n",
    "\n",
    "#validation_data=(X_test, Y_test) validation_split=0.2 "
   ]
  },
  {
   "cell_type": "markdown",
   "metadata": {},
   "source": [
    "### Plots"
   ]
  },
  {
   "cell_type": "code",
   "execution_count": 22,
   "metadata": {},
   "outputs": [
    {
     "data": {
      "text/plain": [
       "Text(0.5, 1.0, 'Training and Validation Loss for Dataset B')"
      ]
     },
     "execution_count": 22,
     "metadata": {},
     "output_type": "execute_result"
    },
    {
     "data": {
      "image/png": "[encoded data removed]",
      "text/plain": [
       "<Figure size 576x576 with 2 Axes>"
      ]
     },
     "metadata": {
      "needs_background": "light"
     },
     "output_type": "display_data"
    }
   ],
   "source": [
    "acc = history.history['acc']\n",
    "val_acc = history.history['val_acc']\n",
    "\n",
    "loss = history.history['loss']\n",
    "val_loss = history.history['val_loss']\n",
    "\n",
    "plt.figure(figsize=(8, 8))\n",
    "plt.subplot(2, 1, 1)\n",
    "plt.plot(acc, label='Training Accuracy')\n",
    "plt.plot(val_acc, label='Validation Accuracy')\n",
    "plt.legend(loc='upper right')\n",
    "plt.ylabel('Accuracy')\n",
    "plt.ylim([min(plt.ylim()),1])\n",
    "plt.title('Training and Validation Accuracy for Dataset B')\n",
    "\n",
    "plt.subplot(2, 1, 2)\n",
    "plt.plot(loss, label='Training Loss')\n",
    "plt.plot(val_loss, label='Validation Loss')\n",
    "plt.legend(loc='upper right')\n",
    "plt.ylabel('Cross Entropy')\n",
    "plt.ylim([0,max(plt.ylim())])\n",
    "plt.title('Training and Validation Loss for Dataset B')\n",
    "#plt.savefig('./Models/A_80_81_No_Dropout_Validation_split.png')"
   ]
  },
  {
   "cell_type": "code",
   "execution_count": 23,
   "metadata": {},
   "outputs": [
    {
     "name": "stdout",
     "output_type": "stream",
     "text": [
      "Final Accuracy:  79.333336353302 \tMean Accuracy : 75.7800024867058 \n",
      "\n",
      "Training Accuracy:  82.579566575774 \tMean Training Accuracy : 78.82412231747229\n"
     ]
    }
   ],
   "source": [
    "print('Final Accuracy: ' ,val_acc[99]*100, '\\tMean Accuracy :', np.mean(val_acc)*100, '\\n\\nTraining Accuracy: ', acc[99]*100 ,'\\tMean Training Accuracy :', np.mean(acc)*100, )"
   ]
  },
  {
   "cell_type": "markdown",
   "metadata": {},
   "source": [
    "# Testing 123 Testing"
   ]
  },
  {
   "cell_type": "code",
   "execution_count": 24,
   "metadata": {},
   "outputs": [],
   "source": [
    "Y_pred = clf.predict(X_test)"
   ]
  },
  {
   "cell_type": "code",
   "execution_count": 25,
   "metadata": {},
   "outputs": [],
   "source": [
    "Y_pred = (Y_pred > 0.5)"
   ]
  },
  {
   "cell_type": "code",
   "execution_count": 26,
   "metadata": {},
   "outputs": [
    {
     "name": "stdout",
     "output_type": "stream",
     "text": [
      "[[ 3  0  5]\n",
      " [ 4  9  2]\n",
      " [ 5  2 33]]\n"
     ]
    }
   ],
   "source": [
    "from sklearn.metrics import confusion_matrix\n",
    "cm = confusion_matrix(Y_test.values.argmax(axis=1),Y_pred.argmax(axis=1))\n",
    "print(cm)"
   ]
  },
  {
   "cell_type": "code",
   "execution_count": 27,
   "metadata": {},
   "outputs": [
    {
     "name": "stdout",
     "output_type": "stream",
     "text": [
      "0.7142857142857143\n"
     ]
    }
   ],
   "source": [
    "score = accuracy_score(Y_test.values.argmax(axis=1),Y_pred.argmax(axis=1))\n",
    "print(score)"
   ]
  },
  {
   "cell_type": "code",
   "execution_count": 28,
   "metadata": {},
   "outputs": [
    {
     "name": "stdout",
     "output_type": "stream",
     "text": [
      "              precision    recall  f1-score   support\n",
      "\n",
      "           0       0.25      0.38      0.30         8\n",
      "           1       0.82      0.60      0.69        15\n",
      "           2       0.82      0.82      0.82        40\n",
      "\n",
      "    accuracy                           0.71        63\n",
      "   macro avg       0.63      0.60      0.61        63\n",
      "weighted avg       0.75      0.71      0.73        63\n",
      "\n"
     ]
    }
   ],
   "source": [
    "print(classification_report(Y_test.values.argmax(axis=1),Y_pred.argmax(axis=1)))"
   ]
  },
  {
   "cell_type": "code",
   "execution_count": 29,
   "metadata": {},
   "outputs": [],
   "source": [
    "# Logs..\n",
    "\n",
    "#with open('./Logs/B_ANN_stats.log', 'a+') as f:\n",
    " #           f.write('\\n==============================================================\\n' + '\\n '+ filename  +'\\n\\n' + str(cm) +'\\n\\n' + 'Dimensions: ' + str(x_dim) +' Layers: ' + str(layers) + '\\n'+ 'Testing Accuracy: ' + str(val_acc[99]*100) + ' Training Acc: ' + str(acc[99]*100) + '\\nTesting Score: '+ str(score) + '\\n\\n' + classification_report(Y_test.values.argmax(axis=1),Y_pred.argmax(axis=1)))"
   ]
  },
  {
   "cell_type": "markdown",
   "metadata": {},
   "source": [
    "# Saving The Model\n"
   ]
  },
  {
   "cell_type": "code",
   "execution_count": 30,
   "metadata": {},
   "outputs": [],
   "source": [
    "# import pickle"
   ]
  },
  {
   "cell_type": "code",
   "execution_count": 31,
   "metadata": {},
   "outputs": [],
   "source": [
    "# model_name_ = '../../Models/ANN_Dataset_B_80_81_No_Dropout_Validation_split_v6.pkl'\n",
    "# model = open(model_name_, \"wb\")\n",
    "# pickle.dump(clf,model)\n",
    "# model_pkl = open(model_name_, \"rb\")\n",
    "# model_test = pickle.load(model_pkl)\n",
    "# model_test.summary()"
   ]
  },
  {
   "cell_type": "code",
   "execution_count": 32,
   "metadata": {},
   "outputs": [],
   "source": [
    "# model_test.predict_proba(P)"
   ]
  },
  {
   "cell_type": "markdown",
   "metadata": {},
   "source": [
    "# Another way of Saving"
   ]
  },
  {
   "cell_type": "code",
   "execution_count": 33,
   "metadata": {},
   "outputs": [],
   "source": [
    "# model_name = '../../Models/ANN_Dataset_B_80_81_No_Dropout_Validation_split_v6.h5'\n",
    "# clf.save(model_name)\n",
    "# new_model = keras.models.load_model(model_name)\n",
    "# new_model.summary()"
   ]
  },
  {
   "cell_type": "code",
   "execution_count": 34,
   "metadata": {},
   "outputs": [],
   "source": [
    "# new_predictions = new_model.predict(P)\n",
    "# print(new_predictions )"
   ]
  }
 ],
 "metadata": {
  "kernelspec": {
   "display_name": "Python 3",
   "language": "python",
   "name": "python3"
  },
  "language_info": {
   "codemirror_mode": {
    "name": "ipython",
    "version": 3
   },
   "file_extension": ".py",
   "mimetype": "text/x-python",
   "name": "python",
   "nbconvert_exporter": "python",
   "pygments_lexer": "ipython3",
   "version": "3.8.5"
  }
 },
 "nbformat": 4,
 "nbformat_minor": 2
}
