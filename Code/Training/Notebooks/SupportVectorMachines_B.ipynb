{
 "cells": [
  {
   "cell_type": "code",
   "execution_count": 1,
   "metadata": {},
   "outputs": [],
   "source": [
    "import numpy as np\n",
    "import pandas as pd\n",
    "import seaborn as sns\n",
    "import matplotlib.pyplot as plt\n",
    "from sklearn import svm\n",
    "\n",
    "from sklearn import preprocessing\n",
    "from sklearn.model_selection import train_test_split, learning_curve\n",
    "from sklearn.preprocessing import StandardScaler\n",
    "from sklearn.metrics import confusion_matrix,classification_report,accuracy_score\n",
    "from sklearn.svm import SVC\n",
    "from sklearn.model_selection import cross_val_score, GridSearchCV\n",
    "from sklearn import preprocessing"
   ]
  },
  {
   "cell_type": "markdown",
   "metadata": {},
   "source": [
    "### Loading data"
   ]
  },
  {
   "cell_type": "code",
   "execution_count": 2,
   "metadata": {},
   "outputs": [
    {
     "data": {
      "text/html": [
       "<div>\n",
       "<style scoped>\n",
       "    .dataframe tbody tr th:only-of-type {\n",
       "        vertical-align: middle;\n",
       "    }\n",
       "\n",
       "    .dataframe tbody tr th {\n",
       "        vertical-align: top;\n",
       "    }\n",
       "\n",
       "    .dataframe thead th {\n",
       "        text-align: right;\n",
       "    }\n",
       "</style>\n",
       "<table border=\"1\" class=\"dataframe\">\n",
       "  <thead>\n",
       "    <tr style=\"text-align: right;\">\n",
       "      <th></th>\n",
       "      <th>stdPCA1</th>\n",
       "      <th>stdPCA2</th>\n",
       "      <th>stdPCA3</th>\n",
       "      <th>meanPCA1</th>\n",
       "      <th>meanPCA2</th>\n",
       "      <th>meanPCA3</th>\n",
       "      <th>meanS1</th>\n",
       "      <th>meanS2</th>\n",
       "      <th>stdS1</th>\n",
       "      <th>stdS2</th>\n",
       "      <th>...</th>\n",
       "      <th>minstdS1</th>\n",
       "      <th>maxstdS1</th>\n",
       "      <th>mmstdS1</th>\n",
       "      <th>minstdS2</th>\n",
       "      <th>maxstdS2</th>\n",
       "      <th>mmstdS2</th>\n",
       "      <th>posRatio</th>\n",
       "      <th>stdWavelet</th>\n",
       "      <th>meanWavelet</th>\n",
       "      <th>class</th>\n",
       "    </tr>\n",
       "  </thead>\n",
       "  <tbody>\n",
       "    <tr>\n",
       "      <th>0</th>\n",
       "      <td>2.925073</td>\n",
       "      <td>1.603105</td>\n",
       "      <td>1.107265</td>\n",
       "      <td>-1.327246e-16</td>\n",
       "      <td>-2.224033e-17</td>\n",
       "      <td>2.511005e-18</td>\n",
       "      <td>472.0000</td>\n",
       "      <td>519.0000</td>\n",
       "      <td>26.57066</td>\n",
       "      <td>28.81666</td>\n",
       "      <td>...</td>\n",
       "      <td>24.65675</td>\n",
       "      <td>22.15827</td>\n",
       "      <td>20.00486</td>\n",
       "      <td>23.79636</td>\n",
       "      <td>25.31929</td>\n",
       "      <td>19.62142</td>\n",
       "      <td>0.086957</td>\n",
       "      <td>0.143258</td>\n",
       "      <td>-0.016102</td>\n",
       "      <td>Normal</td>\n",
       "    </tr>\n",
       "    <tr>\n",
       "      <th>1</th>\n",
       "      <td>3.003149</td>\n",
       "      <td>1.398531</td>\n",
       "      <td>1.245671</td>\n",
       "      <td>3.994780e-17</td>\n",
       "      <td>-5.461219e-17</td>\n",
       "      <td>-3.146381e-17</td>\n",
       "      <td>476.2105</td>\n",
       "      <td>480.1579</td>\n",
       "      <td>79.44780</td>\n",
       "      <td>79.73795</td>\n",
       "      <td>...</td>\n",
       "      <td>58.73258</td>\n",
       "      <td>79.29658</td>\n",
       "      <td>58.02636</td>\n",
       "      <td>60.56134</td>\n",
       "      <td>80.77381</td>\n",
       "      <td>61.31806</td>\n",
       "      <td>0.000000</td>\n",
       "      <td>0.164868</td>\n",
       "      <td>0.020342</td>\n",
       "      <td>Normal</td>\n",
       "    </tr>\n",
       "    <tr>\n",
       "      <th>2</th>\n",
       "      <td>2.906362</td>\n",
       "      <td>1.612006</td>\n",
       "      <td>1.189551</td>\n",
       "      <td>-2.873518e-17</td>\n",
       "      <td>4.745659e-17</td>\n",
       "      <td>1.567374e-17</td>\n",
       "      <td>489.6667</td>\n",
       "      <td>509.6250</td>\n",
       "      <td>21.94311</td>\n",
       "      <td>27.64023</td>\n",
       "      <td>...</td>\n",
       "      <td>16.47021</td>\n",
       "      <td>20.52481</td>\n",
       "      <td>14.64988</td>\n",
       "      <td>24.01983</td>\n",
       "      <td>24.41311</td>\n",
       "      <td>20.72116</td>\n",
       "      <td>0.000000</td>\n",
       "      <td>0.291671</td>\n",
       "      <td>-0.025297</td>\n",
       "      <td>Normal</td>\n",
       "    </tr>\n",
       "    <tr>\n",
       "      <th>3</th>\n",
       "      <td>2.915212</td>\n",
       "      <td>1.579173</td>\n",
       "      <td>1.217206</td>\n",
       "      <td>-1.107815e-17</td>\n",
       "      <td>-1.628307e-16</td>\n",
       "      <td>9.801752e-17</td>\n",
       "      <td>477.5000</td>\n",
       "      <td>491.7647</td>\n",
       "      <td>30.51374</td>\n",
       "      <td>17.26097</td>\n",
       "      <td>...</td>\n",
       "      <td>27.18428</td>\n",
       "      <td>28.52656</td>\n",
       "      <td>25.01699</td>\n",
       "      <td>14.72356</td>\n",
       "      <td>15.16122</td>\n",
       "      <td>12.24434</td>\n",
       "      <td>0.000000</td>\n",
       "      <td>0.077379</td>\n",
       "      <td>-0.000735</td>\n",
       "      <td>Normal</td>\n",
       "    </tr>\n",
       "    <tr>\n",
       "      <th>4</th>\n",
       "      <td>3.027328</td>\n",
       "      <td>1.368556</td>\n",
       "      <td>1.143924</td>\n",
       "      <td>-1.072735e-16</td>\n",
       "      <td>1.499522e-17</td>\n",
       "      <td>2.854859e-17</td>\n",
       "      <td>1364.5000</td>\n",
       "      <td>2427.0000</td>\n",
       "      <td>20.50610</td>\n",
       "      <td>0.00000</td>\n",
       "      <td>...</td>\n",
       "      <td>20.50610</td>\n",
       "      <td>20.50610</td>\n",
       "      <td>20.50610</td>\n",
       "      <td>0.00000</td>\n",
       "      <td>0.00000</td>\n",
       "      <td>0.00000</td>\n",
       "      <td>0.750000</td>\n",
       "      <td>0.064384</td>\n",
       "      <td>0.002975</td>\n",
       "      <td>Normal</td>\n",
       "    </tr>\n",
       "  </tbody>\n",
       "</table>\n",
       "<p>5 rows × 27 columns</p>\n",
       "</div>"
      ],
      "text/plain": [
       "    stdPCA1   stdPCA2   stdPCA3      meanPCA1      meanPCA2      meanPCA3  \\\n",
       "0  2.925073  1.603105  1.107265 -1.327246e-16 -2.224033e-17  2.511005e-18   \n",
       "1  3.003149  1.398531  1.245671  3.994780e-17 -5.461219e-17 -3.146381e-17   \n",
       "2  2.906362  1.612006  1.189551 -2.873518e-17  4.745659e-17  1.567374e-17   \n",
       "3  2.915212  1.579173  1.217206 -1.107815e-17 -1.628307e-16  9.801752e-17   \n",
       "4  3.027328  1.368556  1.143924 -1.072735e-16  1.499522e-17  2.854859e-17   \n",
       "\n",
       "      meanS1     meanS2     stdS1     stdS2  ...  minstdS1  maxstdS1  \\\n",
       "0   472.0000   519.0000  26.57066  28.81666  ...  24.65675  22.15827   \n",
       "1   476.2105   480.1579  79.44780  79.73795  ...  58.73258  79.29658   \n",
       "2   489.6667   509.6250  21.94311  27.64023  ...  16.47021  20.52481   \n",
       "3   477.5000   491.7647  30.51374  17.26097  ...  27.18428  28.52656   \n",
       "4  1364.5000  2427.0000  20.50610   0.00000  ...  20.50610  20.50610   \n",
       "\n",
       "    mmstdS1  minstdS2  maxstdS2   mmstdS2  posRatio  stdWavelet  meanWavelet  \\\n",
       "0  20.00486  23.79636  25.31929  19.62142  0.086957    0.143258    -0.016102   \n",
       "1  58.02636  60.56134  80.77381  61.31806  0.000000    0.164868     0.020342   \n",
       "2  14.64988  24.01983  24.41311  20.72116  0.000000    0.291671    -0.025297   \n",
       "3  25.01699  14.72356  15.16122  12.24434  0.000000    0.077379    -0.000735   \n",
       "4  20.50610   0.00000   0.00000   0.00000  0.750000    0.064384     0.002975   \n",
       "\n",
       "    class  \n",
       "0  Normal  \n",
       "1  Normal  \n",
       "2  Normal  \n",
       "3  Normal  \n",
       "4  Normal  \n",
       "\n",
       "[5 rows x 27 columns]"
      ]
     },
     "execution_count": 2,
     "metadata": {},
     "output_type": "execute_result"
    }
   ],
   "source": [
    "filename = '../../Dataset/heartbeatFeaturesB4.csv'\n",
    "df = pd.read_csv(filename)\n",
    "\n",
    "# Remove the extra column read\n",
    "\n",
    "toremove = df.shape[1] -1 \n",
    "df = df.iloc[:, 0:toremove]\n",
    "df.head()"
   ]
  },
  {
   "cell_type": "markdown",
   "metadata": {},
   "source": [
    "# Some stats"
   ]
  },
  {
   "cell_type": "code",
   "execution_count": 3,
   "metadata": {},
   "outputs": [
    {
     "data": {
      "text/plain": [
       "(312, 27)"
      ]
     },
     "execution_count": 3,
     "metadata": {},
     "output_type": "execute_result"
    }
   ],
   "source": [
    "df.shape"
   ]
  },
  {
   "cell_type": "code",
   "execution_count": 4,
   "metadata": {},
   "outputs": [
    {
     "data": {
      "image/png": "[encoded data removed]",
      "text/plain": [
       "<Figure size 432x288 with 1 Axes>"
      ]
     },
     "metadata": {
      "needs_background": "light"
     },
     "output_type": "display_data"
    }
   ],
   "source": [
    "plot = sns.countplot(x='class', data=df).set_title('Dataset-B Distribution').get_figure()"
   ]
  },
  {
   "cell_type": "markdown",
   "metadata": {},
   "source": [
    "### Column Selections - Inputs and Labels"
   ]
  },
  {
   "cell_type": "code",
   "execution_count": 5,
   "metadata": {},
   "outputs": [
    {
     "data": {
      "text/html": [
       "<div>\n",
       "<style scoped>\n",
       "    .dataframe tbody tr th:only-of-type {\n",
       "        vertical-align: middle;\n",
       "    }\n",
       "\n",
       "    .dataframe tbody tr th {\n",
       "        vertical-align: top;\n",
       "    }\n",
       "\n",
       "    .dataframe thead th {\n",
       "        text-align: right;\n",
       "    }\n",
       "</style>\n",
       "<table border=\"1\" class=\"dataframe\">\n",
       "  <thead>\n",
       "    <tr style=\"text-align: right;\">\n",
       "      <th></th>\n",
       "      <th>stdPCA1</th>\n",
       "      <th>stdPCA2</th>\n",
       "      <th>stdPCA3</th>\n",
       "      <th>meanPCA1</th>\n",
       "      <th>meanPCA2</th>\n",
       "      <th>meanPCA3</th>\n",
       "      <th>meanS1</th>\n",
       "      <th>meanS2</th>\n",
       "      <th>stdS1</th>\n",
       "      <th>stdS2</th>\n",
       "      <th>...</th>\n",
       "      <th>stdlenFFTSHA</th>\n",
       "      <th>lenstdFFTSHA</th>\n",
       "      <th>posFFT</th>\n",
       "      <th>maxstdS1</th>\n",
       "      <th>maxstdS2</th>\n",
       "      <th>mmstdS1</th>\n",
       "      <th>mmstdS2</th>\n",
       "      <th>posRatio</th>\n",
       "      <th>stdWavelet</th>\n",
       "      <th>meanWavelet</th>\n",
       "    </tr>\n",
       "  </thead>\n",
       "  <tbody>\n",
       "    <tr>\n",
       "      <th>0</th>\n",
       "      <td>0.638786</td>\n",
       "      <td>0.409461</td>\n",
       "      <td>0.503370</td>\n",
       "      <td>0.263359</td>\n",
       "      <td>0.366913</td>\n",
       "      <td>0.404606</td>\n",
       "      <td>0.063191</td>\n",
       "      <td>0.047157</td>\n",
       "      <td>0.039061</td>\n",
       "      <td>0.026406</td>\n",
       "      <td>...</td>\n",
       "      <td>0.016750</td>\n",
       "      <td>0.028118</td>\n",
       "      <td>0.173913</td>\n",
       "      <td>0.032574</td>\n",
       "      <td>0.029471</td>\n",
       "      <td>0.029409</td>\n",
       "      <td>0.017980</td>\n",
       "      <td>0.096618</td>\n",
       "      <td>0.223323</td>\n",
       "      <td>0.222477</td>\n",
       "    </tr>\n",
       "    <tr>\n",
       "      <th>1</th>\n",
       "      <td>0.727809</td>\n",
       "      <td>0.236116</td>\n",
       "      <td>0.786586</td>\n",
       "      <td>0.446894</td>\n",
       "      <td>0.282429</td>\n",
       "      <td>0.320283</td>\n",
       "      <td>0.064612</td>\n",
       "      <td>0.039029</td>\n",
       "      <td>0.116794</td>\n",
       "      <td>0.073067</td>\n",
       "      <td>...</td>\n",
       "      <td>0.064188</td>\n",
       "      <td>0.006984</td>\n",
       "      <td>0.304348</td>\n",
       "      <td>0.116572</td>\n",
       "      <td>0.094018</td>\n",
       "      <td>0.085303</td>\n",
       "      <td>0.056188</td>\n",
       "      <td>0.000000</td>\n",
       "      <td>0.264409</td>\n",
       "      <td>0.318822</td>\n",
       "    </tr>\n",
       "    <tr>\n",
       "      <th>2</th>\n",
       "      <td>0.617452</td>\n",
       "      <td>0.417003</td>\n",
       "      <td>0.671749</td>\n",
       "      <td>0.373890</td>\n",
       "      <td>0.548808</td>\n",
       "      <td>0.437275</td>\n",
       "      <td>0.069153</td>\n",
       "      <td>0.045195</td>\n",
       "      <td>0.032258</td>\n",
       "      <td>0.025328</td>\n",
       "      <td>...</td>\n",
       "      <td>0.233871</td>\n",
       "      <td>0.001569</td>\n",
       "      <td>0.130435</td>\n",
       "      <td>0.030173</td>\n",
       "      <td>0.028416</td>\n",
       "      <td>0.021536</td>\n",
       "      <td>0.018988</td>\n",
       "      <td>0.000000</td>\n",
       "      <td>0.505492</td>\n",
       "      <td>0.198169</td>\n",
       "    </tr>\n",
       "    <tr>\n",
       "      <th>3</th>\n",
       "      <td>0.627543</td>\n",
       "      <td>0.389182</td>\n",
       "      <td>0.728339</td>\n",
       "      <td>0.392658</td>\n",
       "      <td>0.000000</td>\n",
       "      <td>0.641646</td>\n",
       "      <td>0.065047</td>\n",
       "      <td>0.041458</td>\n",
       "      <td>0.044858</td>\n",
       "      <td>0.015817</td>\n",
       "      <td>...</td>\n",
       "      <td>0.211261</td>\n",
       "      <td>0.001788</td>\n",
       "      <td>0.347826</td>\n",
       "      <td>0.041936</td>\n",
       "      <td>0.017647</td>\n",
       "      <td>0.036777</td>\n",
       "      <td>0.011220</td>\n",
       "      <td>0.000000</td>\n",
       "      <td>0.098073</td>\n",
       "      <td>0.263103</td>\n",
       "    </tr>\n",
       "    <tr>\n",
       "      <th>4</th>\n",
       "      <td>0.755378</td>\n",
       "      <td>0.210717</td>\n",
       "      <td>0.578384</td>\n",
       "      <td>0.290411</td>\n",
       "      <td>0.464090</td>\n",
       "      <td>0.469229</td>\n",
       "      <td>0.364380</td>\n",
       "      <td>0.446460</td>\n",
       "      <td>0.030146</td>\n",
       "      <td>0.000000</td>\n",
       "      <td>...</td>\n",
       "      <td>0.004540</td>\n",
       "      <td>0.105028</td>\n",
       "      <td>0.130435</td>\n",
       "      <td>0.030146</td>\n",
       "      <td>0.000000</td>\n",
       "      <td>0.030146</td>\n",
       "      <td>0.000000</td>\n",
       "      <td>0.833333</td>\n",
       "      <td>0.073366</td>\n",
       "      <td>0.272911</td>\n",
       "    </tr>\n",
       "  </tbody>\n",
       "</table>\n",
       "<p>5 rows × 24 columns</p>\n",
       "</div>"
      ],
      "text/plain": [
       "    stdPCA1   stdPCA2   stdPCA3  meanPCA1  meanPCA2  meanPCA3    meanS1  \\\n",
       "0  0.638786  0.409461  0.503370  0.263359  0.366913  0.404606  0.063191   \n",
       "1  0.727809  0.236116  0.786586  0.446894  0.282429  0.320283  0.064612   \n",
       "2  0.617452  0.417003  0.671749  0.373890  0.548808  0.437275  0.069153   \n",
       "3  0.627543  0.389182  0.728339  0.392658  0.000000  0.641646  0.065047   \n",
       "4  0.755378  0.210717  0.578384  0.290411  0.464090  0.469229  0.364380   \n",
       "\n",
       "     meanS2     stdS1     stdS2  ...  stdlenFFTSHA  lenstdFFTSHA    posFFT  \\\n",
       "0  0.047157  0.039061  0.026406  ...      0.016750      0.028118  0.173913   \n",
       "1  0.039029  0.116794  0.073067  ...      0.064188      0.006984  0.304348   \n",
       "2  0.045195  0.032258  0.025328  ...      0.233871      0.001569  0.130435   \n",
       "3  0.041458  0.044858  0.015817  ...      0.211261      0.001788  0.347826   \n",
       "4  0.446460  0.030146  0.000000  ...      0.004540      0.105028  0.130435   \n",
       "\n",
       "   maxstdS1  maxstdS2   mmstdS1   mmstdS2  posRatio  stdWavelet  meanWavelet  \n",
       "0  0.032574  0.029471  0.029409  0.017980  0.096618    0.223323     0.222477  \n",
       "1  0.116572  0.094018  0.085303  0.056188  0.000000    0.264409     0.318822  \n",
       "2  0.030173  0.028416  0.021536  0.018988  0.000000    0.505492     0.198169  \n",
       "3  0.041936  0.017647  0.036777  0.011220  0.000000    0.098073     0.263103  \n",
       "4  0.030146  0.000000  0.030146  0.000000  0.833333    0.073366     0.272911  \n",
       "\n",
       "[5 rows x 24 columns]"
      ]
     },
     "execution_count": 5,
     "metadata": {},
     "output_type": "execute_result"
    }
   ],
   "source": [
    "# Only take this select set of features from the Dataset A\n",
    "\n",
    "X = df.iloc[:,0:17]\n",
    "X[['maxstdS1', 'maxstdS2', 'mmstdS1', 'mmstdS2']] = df[['maxstdS1', 'maxstdS2','mmstdS1', 'mmstdS2']]\n",
    "X[['posRatio','stdWavelet','meanWavelet']] = df[['posRatio','stdWavelet','meanWavelet']]\n",
    "\n",
    "# Normalise the features\n",
    "\n",
    "min_max_scaler = preprocessing.MinMaxScaler()\n",
    "x_scaled = min_max_scaler.fit_transform(X)\n",
    "X = pd.DataFrame(x_scaled)\n",
    "x_dim = X.shape[1]\n",
    "\n",
    "# Rename the columns\n",
    "\n",
    "X.columns = [ 'stdPCA1', 'stdPCA2', 'stdPCA3', 'meanPCA1', \n",
    "               'meanPCA2', 'meanPCA3', 'meanS1', 'meanS2', \n",
    "          'stdS1', 'stdS2','rebuilError', 'ratios','stdFFTSHA' ,\n",
    "          'lenFFTSHA', 'stdlenFFTSHA' ,'lenstdFFTSHA' ,'posFFT',\n",
    "         'maxstdS1', 'maxstdS2', 'mmstdS1', 'mmstdS2',\n",
    "         'posRatio','stdWavelet','meanWavelet']\n",
    "\n",
    "X.head()"
   ]
  },
  {
   "cell_type": "code",
   "execution_count": 6,
   "metadata": {},
   "outputs": [],
   "source": [
    "# For testing later on ....at In [26]  -- In [27]\n",
    "\n",
    "np.set_printoptions(suppress=True)\n",
    "P = X.values[201:212,:]"
   ]
  },
  {
   "cell_type": "code",
   "execution_count": 7,
   "metadata": {},
   "outputs": [
    {
     "name": "stdout",
     "output_type": "stream",
     "text": [
      "['Normal' 'Murmur' 'Extrasystole']\n"
     ]
    }
   ],
   "source": [
    "# Get the classes\n",
    "\n",
    "Y = df.iloc[:,toremove-1:toremove]\n",
    "print(Y['class'].unique())"
   ]
  },
  {
   "cell_type": "code",
   "execution_count": 8,
   "metadata": {},
   "outputs": [
    {
     "name": "stdout",
     "output_type": "stream",
     "text": [
      "[2 2 2 2 2 2 2 2 2 2 2 2 2 2 2 2 2 2 2 2 2 2 2 2 2 2 2 2 2 2 2 2 2 2 2 2 2\n",
      " 2 2 2 2 2 2 2 2 2 2 2 2 2 2 2 2 2 2 2 2 2 2 2 2 2 2 2 2 2 2 2 2 2 2 2 2 2\n",
      " 2 2 2 2 2 2 2 2 2 2 2 2 2 2 2 2 2 2 2 2 2 2 2 2 2 2 2 2 2 2 2 2 2 2 2 2 2\n",
      " 2 2 2 2 2 2 2 2 2 2 2 2 2 2 2 2 2 2 2 2 2 2 2 2 2 2 2 2 2 2 2 2 2 2 2 2 2\n",
      " 2 2 2 2 2 2 2 2 2 2 2 2 2 2 2 2 2 2 2 2 2 2 2 2 2 2 2 2 2 2 2 2 2 2 2 2 2\n",
      " 2 2 2 2 2 2 2 2 2 2 2 2 2 2 2 1 1 1 1 1 1 1 1 1 1 1 1 1 1 1 1 1 1 1 1 1 1\n",
      " 1 1 1 1 1 1 1 1 1 1 1 1 1 1 1 1 1 1 1 1 1 1 1 1 1 1 1 1 1 1 1 1 1 1 1 1 1\n",
      " 1 1 1 1 1 1 1 0 0 0 0 0 0 0 0 0 0 0 0 0 0 0 0 0 0 0 0 0 0 0 0 0 0 0 0 0 0\n",
      " 0 0 0 0 0 0 0 0 0 0 0 0 0 0 0 0]\n"
     ]
    },
    {
     "name": "stderr",
     "output_type": "stream",
     "text": [
      "/usr/local/lib/python3.7/dist-packages/sklearn/preprocessing/label.py:219: DataConversionWarning: A column-vector y was passed when a 1d array was expected. Please change the shape of y to (n_samples, ), for example using ravel().\n",
      "  y = column_or_1d(y, warn=True)\n",
      "/usr/local/lib/python3.7/dist-packages/sklearn/preprocessing/label.py:252: DataConversionWarning: A column-vector y was passed when a 1d array was expected. Please change the shape of y to (n_samples, ), for example using ravel().\n",
      "  y = column_or_1d(y, warn=True)\n"
     ]
    }
   ],
   "source": [
    "# Condition the classes for Training\n",
    "\n",
    "encoder = preprocessing.LabelEncoder()\n",
    "encoder.fit(Y)\n",
    "Y = encoder.transform(Y)\n",
    "print(Y)"
   ]
  },
  {
   "cell_type": "markdown",
   "metadata": {},
   "source": [
    "### Data Split - Training and Testing Sets"
   ]
  },
  {
   "cell_type": "code",
   "execution_count": 9,
   "metadata": {},
   "outputs": [],
   "source": [
    "s_rand_state = 'NULL'\n",
    "\n",
    "# X,Y = shuffle(X,Y,random_state=s_rand_state)"
   ]
  },
  {
   "cell_type": "code",
   "execution_count": 10,
   "metadata": {},
   "outputs": [],
   "source": [
    "tt_rand_state = 0\n",
    "\n",
    "X_train,X_test, Y_train,Y_test = train_test_split(X, Y, test_size = 0.2, random_state = tt_rand_state)\n"
   ]
  },
  {
   "cell_type": "markdown",
   "metadata": {},
   "source": [
    "## Frequency Distribution of classes"
   ]
  },
  {
   "cell_type": "code",
   "execution_count": 11,
   "metadata": {},
   "outputs": [
    {
     "name": "stdout",
     "output_type": "stream",
     "text": [
      "Train distribution:  \n",
      " col_0  count\n",
      "row_0       \n",
      "0         43\n",
      "1         45\n",
      "2        161 \n",
      "\n",
      "\t\n",
      "\n",
      " Test distribution:  \n",
      " col_0  count\n",
      "row_0       \n",
      "0          3\n",
      "1         21\n",
      "2         39\n"
     ]
    }
   ],
   "source": [
    "train_outcome = pd.crosstab(index = Y_train, columns = \"count\")\n",
    "test_outcome = pd.crosstab(index = Y_test, columns = \"count\")\n",
    "\n",
    "print('Train distribution: ','\\n',train_outcome,'\\n\\n\\t\\n\\n','Test distribution: ','\\n',test_outcome)"
   ]
  },
  {
   "cell_type": "code",
   "execution_count": 12,
   "metadata": {},
   "outputs": [
    {
     "name": "stdout",
     "output_type": "stream",
     "text": [
      "Dimension of Train set (249, 24)\n",
      "Dimension of Test set (63, 24) \n",
      "\n"
     ]
    }
   ],
   "source": [
    "# Dimension of Train and Test set \n",
    "\n",
    "print(\"Dimension of Train set\",X_train.shape)\n",
    "print(\"Dimension of Test set\",X_test.shape,\"\\n\")\n"
   ]
  },
  {
   "cell_type": "code",
   "execution_count": 13,
   "metadata": {},
   "outputs": [
    {
     "name": "stdout",
     "output_type": "stream",
     "text": [
      "Number of numeric features: 24\n"
     ]
    }
   ],
   "source": [
    "#Total Number of Continous and Categorical features in the training set\n",
    "\n",
    "num_cols = X_train._get_numeric_data().columns\n",
    "print(\"Number of numeric features:\",num_cols.size)"
   ]
  },
  {
   "cell_type": "markdown",
   "metadata": {},
   "source": [
    "## Parameter Tuning"
   ]
  },
  {
   "cell_type": "code",
   "execution_count": 14,
   "metadata": {},
   "outputs": [],
   "source": [
    "# Hyperparameter tuning using grid search and cross validation\n",
    "\n",
    "params_grid = [{'kernel': ['rbf'], 'gamma': [1e-3, 1e-4],\n",
    "                     'C': [1, 10, 100, 1000]},\n",
    "                    {'kernel': ['linear'], 'C': [1, 10, 100, 1000]}]"
   ]
  },
  {
   "cell_type": "markdown",
   "metadata": {},
   "source": [
    "### Training SVM model using radial kernel"
   ]
  },
  {
   "cell_type": "code",
   "execution_count": 15,
   "metadata": {},
   "outputs": [
    {
     "name": "stderr",
     "output_type": "stream",
     "text": [
      "/usr/local/lib/python3.7/dist-packages/sklearn/model_selection/_search.py:813: DeprecationWarning: The default of the `iid` parameter will change from True to False in version 0.22 and will be removed in 0.24. This will change numeric results when test-set sizes are unequal.\n",
      "  DeprecationWarning)\n"
     ]
    },
    {
     "data": {
      "text/plain": [
       "GridSearchCV(cv=5, error_score='raise-deprecating',\n",
       "             estimator=SVC(C=1.0, cache_size=200, class_weight=None, coef0=0.0,\n",
       "                           decision_function_shape='ovr', degree=3,\n",
       "                           gamma='auto_deprecated', kernel='rbf', max_iter=-1,\n",
       "                           probability=True, random_state=None, shrinking=True,\n",
       "                           tol=0.001, verbose=False),\n",
       "             iid='warn', n_jobs=None,\n",
       "             param_grid=[{'C': [1, 10, 100, 1000], 'gamma': [0.001, 0.0001],\n",
       "                          'kernel': ['rbf']},\n",
       "                         {'C': [1, 10, 100, 1000], 'kernel': ['linear']}],\n",
       "             pre_dispatch='2*n_jobs', refit=True, return_train_score=False,\n",
       "             scoring=None, verbose=0)"
      ]
     },
     "execution_count": 15,
     "metadata": {},
     "output_type": "execute_result"
    }
   ],
   "source": [
    "svm_model = GridSearchCV(SVC(probability=True), params_grid, cv = 5)\n",
    "#svm_model = SVC()\n",
    "#train_sizes, train_scores, valid_scores = learning_curve(SVC(kernel = 'linear'),X_train, Y_train, cv = 5)\n",
    "svm_model.fit(X_train, Y_train)\n"
   ]
  },
  {
   "cell_type": "code",
   "execution_count": 16,
   "metadata": {},
   "outputs": [
    {
     "name": "stdout",
     "output_type": "stream",
     "text": [
      "Best C: 10 \n",
      "\n",
      "Best Kernel: linear \n",
      "\n",
      "Best Gamma: auto_deprecated \n",
      "\n"
     ]
    }
   ],
   "source": [
    "# View the best parameters for the model found using grid search\n",
    "\n",
    "print('Best C:',svm_model.best_estimator_.C,\"\\n\") \n",
    "print('Best Kernel:',svm_model.best_estimator_.kernel,\"\\n\")\n",
    "print('Best Gamma:',svm_model.best_estimator_.gamma,\"\\n\")\n"
   ]
  },
  {
   "cell_type": "code",
   "execution_count": 17,
   "metadata": {},
   "outputs": [],
   "source": [
    "# Build the final model\n",
    "\n",
    "final_model = svm_model.best_estimator_"
   ]
  },
  {
   "cell_type": "markdown",
   "metadata": {},
   "source": [
    "## Confusion Matrix and Accuracy score"
   ]
  },
  {
   "cell_type": "code",
   "execution_count": 18,
   "metadata": {},
   "outputs": [
    {
     "name": "stdout",
     "output_type": "stream",
     "text": [
      "0.7777777777777778\n"
     ]
    }
   ],
   "source": [
    "# Get the predicted scores\n",
    "\n",
    "Y_pred = final_model.predict(X_test)\n",
    "print(accuracy_score(Y_test,Y_pred))"
   ]
  },
  {
   "cell_type": "code",
   "execution_count": 19,
   "metadata": {},
   "outputs": [
    {
     "name": "stdout",
     "output_type": "stream",
     "text": [
      "[[ 0  0  3]\n",
      " [ 0 13  8]\n",
      " [ 1  2 36]]\n",
      "\n",
      "\n",
      "              precision    recall  f1-score   support\n",
      "\n",
      "           0       0.00      0.00      0.00         3\n",
      "           1       0.87      0.62      0.72        21\n",
      "           2       0.77      0.92      0.84        39\n",
      "\n",
      "    accuracy                           0.78        63\n",
      "   macro avg       0.54      0.51      0.52        63\n",
      "weighted avg       0.76      0.78      0.76        63\n",
      "\n",
      "Training set score for SVM: 0.726908\n",
      "Testing  set score for SVM: 0.777778\n"
     ]
    },
    {
     "data": {
      "text/plain": [
       "<bound method BaseSearchCV.score of GridSearchCV(cv=5, error_score='raise-deprecating',\n",
       "             estimator=SVC(C=1.0, cache_size=200, class_weight=None, coef0=0.0,\n",
       "                           decision_function_shape='ovr', degree=3,\n",
       "                           gamma='auto_deprecated', kernel='rbf', max_iter=-1,\n",
       "                           probability=True, random_state=None, shrinking=True,\n",
       "                           tol=0.001, verbose=False),\n",
       "             iid='warn', n_jobs=None,\n",
       "             param_grid=[{'C': [1, 10, 100, 1000], 'gamma': [0.001, 0.0001],\n",
       "                          'kernel': ['rbf']},\n",
       "                         {'C': [1, 10, 100, 1000], 'kernel': ['linear']}],\n",
       "             pre_dispatch='2*n_jobs', refit=True, return_train_score=False,\n",
       "             scoring=None, verbose=0)>"
      ]
     },
     "execution_count": 19,
     "metadata": {},
     "output_type": "execute_result"
    }
   ],
   "source": [
    "# Making the Confusion Matrix\n",
    "\n",
    "print(confusion_matrix(Y_test,Y_pred))\n",
    "print(\"\\n\")\n",
    "print(classification_report(Y_test,Y_pred))\n",
    "\n",
    "Training_score = final_model.score(X_train , Y_train)\n",
    "Testing_score  = final_model.score(X_test  , Y_test )\n",
    "\n",
    "print(\"Training set score for SVM: %f\" % Training_score)\n",
    "print(\"Testing  set score for SVM: %f\" % Testing_score)\n",
    "\n",
    "svm_model.score"
   ]
  },
  {
   "cell_type": "code",
   "execution_count": 20,
   "metadata": {},
   "outputs": [],
   "source": [
    "# Loggin runs....\n",
    "\n",
    "with open('./Logs/B_SVM_stats.log', 'a+') as f:\n",
    "            f.write('\\n==============================================================\\n' + filename  +'\\n\\n' + 'Shuffle rand state: '+ str(s_rand_state)+'\\n'+ 'Test Train rand state : '+ str(tt_rand_state) +'\\n\\n'+ str(confusion_matrix(Y_test,Y_pred)) +'\\n\\n' + 'Dimensions: ' + str(x_dim) + '\\n'+ 'Testing Accuracy: ' + str(final_model.score(X_test  , Y_test )) + ' Training Acc: ' + str(final_model.score(X_train , Y_train)) + '\\nTesting Score: '+ str(accuracy_score(Y_test,Y_pred)) + '\\n\\n' + classification_report(Y_test,Y_pred))"
   ]
  },
  {
   "cell_type": "markdown",
   "metadata": {},
   "source": [
    "# Saving The Model\n"
   ]
  },
  {
   "cell_type": "code",
   "execution_count": 21,
   "metadata": {},
   "outputs": [],
   "source": [
    "import pickle"
   ]
  },
  {
   "cell_type": "code",
   "execution_count": 22,
   "metadata": {},
   "outputs": [],
   "source": [
    "trs = str(int(Training_score*100))\n",
    "tss = str(int(Testing_score*100))"
   ]
  },
  {
   "cell_type": "code",
   "execution_count": 23,
   "metadata": {},
   "outputs": [
    {
     "name": "stdout",
     "output_type": "stream",
     "text": [
      "../../Models/B_SVM_tss_77_trs_72\n"
     ]
    }
   ],
   "source": [
    "model_name_ = '../../Models/B_SVM_tss_' + tss + '_trs_' + trs\n",
    "print(model_name_)"
   ]
  },
  {
   "cell_type": "code",
   "execution_count": 24,
   "metadata": {
    "scrolled": true
   },
   "outputs": [],
   "source": [
    "model = open(model_name_ + '.pkl', \"wb\")\n",
    "pickle.dump(svm_model,model)\n",
    "model_pkl = open(model_name_ + '.pkl', \"rb\")\n",
    "model_test = pickle.load(model_pkl)"
   ]
  },
  {
   "cell_type": "code",
   "execution_count": 25,
   "metadata": {},
   "outputs": [],
   "source": [
    "# model_test.predict_proba(P)"
   ]
  },
  {
   "cell_type": "code",
   "execution_count": 26,
   "metadata": {},
   "outputs": [
    {
     "data": {
      "text/plain": [
       "array([2, 1, 1, 1, 2, 2, 2, 1, 1, 1, 1])"
      ]
     },
     "execution_count": 26,
     "metadata": {},
     "output_type": "execute_result"
    }
   ],
   "source": [
    "model_test.predict(P)"
   ]
  }
 ],
 "metadata": {
  "kernelspec": {
   "display_name": "Python 3",
   "language": "python",
   "name": "python3"
  },
  "language_info": {
   "codemirror_mode": {
    "name": "ipython",
    "version": 3
   },
   "file_extension": ".py",
   "mimetype": "text/x-python",
   "name": "python",
   "nbconvert_exporter": "python",
   "pygments_lexer": "ipython3",
   "version": "3.7.3"
  }
 },
 "nbformat": 4,
 "nbformat_minor": 2
}
