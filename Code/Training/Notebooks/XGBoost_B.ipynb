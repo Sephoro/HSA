{
 "cells": [
  {
   "cell_type": "code",
   "execution_count": 1,
   "metadata": {},
   "outputs": [],
   "source": [
    "import pandas as pd\n",
    "import numpy as np\n",
    "import matplotlib.pyplot as plt\n",
    "from scipy.stats import uniform, randint\n",
    "import seaborn as sns\n",
    "\n",
    "from xgboost import XGBClassifier\n",
    "import xgboost as xgb\n",
    "\n",
    "from sklearn.model_selection import train_test_split\n",
    "from sklearn.metrics import accuracy_score,confusion_matrix,classification_report, auc, mean_squared_error\n",
    "from sklearn.preprocessing import StandardScaler\n",
    "from sklearn import preprocessing\n",
    "from sklearn.utils import shuffle\n",
    "\n",
    "\n",
    "from sklearn.model_selection import KFold\n",
    "from sklearn.model_selection import StratifiedKFold, GridSearchCV, RandomizedSearchCV\n",
    "from sklearn.model_selection import cross_val_score"
   ]
  },
  {
   "cell_type": "markdown",
   "metadata": {},
   "source": [
    "### Load data"
   ]
  },
  {
   "cell_type": "code",
   "execution_count": 2,
   "metadata": {},
   "outputs": [
    {
     "data": {
      "text/html": [
       "<div>\n",
       "<style scoped>\n",
       "    .dataframe tbody tr th:only-of-type {\n",
       "        vertical-align: middle;\n",
       "    }\n",
       "\n",
       "    .dataframe tbody tr th {\n",
       "        vertical-align: top;\n",
       "    }\n",
       "\n",
       "    .dataframe thead th {\n",
       "        text-align: right;\n",
       "    }\n",
       "</style>\n",
       "<table border=\"1\" class=\"dataframe\">\n",
       "  <thead>\n",
       "    <tr style=\"text-align: right;\">\n",
       "      <th></th>\n",
       "      <th>stdPCA1</th>\n",
       "      <th>stdPCA2</th>\n",
       "      <th>stdPCA3</th>\n",
       "      <th>meanPCA1</th>\n",
       "      <th>meanPCA2</th>\n",
       "      <th>meanPCA3</th>\n",
       "      <th>meanS1</th>\n",
       "      <th>meanS2</th>\n",
       "      <th>stdS1</th>\n",
       "      <th>stdS2</th>\n",
       "      <th>...</th>\n",
       "      <th>minstdS1</th>\n",
       "      <th>maxstdS1</th>\n",
       "      <th>mmstdS1</th>\n",
       "      <th>minstdS2</th>\n",
       "      <th>maxstdS2</th>\n",
       "      <th>mmstdS2</th>\n",
       "      <th>posRatio</th>\n",
       "      <th>stdWavelet</th>\n",
       "      <th>meanWavelet</th>\n",
       "      <th>class</th>\n",
       "    </tr>\n",
       "  </thead>\n",
       "  <tbody>\n",
       "    <tr>\n",
       "      <th>0</th>\n",
       "      <td>2.925073</td>\n",
       "      <td>1.603105</td>\n",
       "      <td>1.107265</td>\n",
       "      <td>-1.327246e-16</td>\n",
       "      <td>-2.224033e-17</td>\n",
       "      <td>2.511005e-18</td>\n",
       "      <td>472.0000</td>\n",
       "      <td>519.0000</td>\n",
       "      <td>26.57066</td>\n",
       "      <td>28.81666</td>\n",
       "      <td>...</td>\n",
       "      <td>24.65675</td>\n",
       "      <td>22.15827</td>\n",
       "      <td>20.00486</td>\n",
       "      <td>23.79636</td>\n",
       "      <td>25.31929</td>\n",
       "      <td>19.62142</td>\n",
       "      <td>0.086957</td>\n",
       "      <td>0.143258</td>\n",
       "      <td>-0.016102</td>\n",
       "      <td>Normal</td>\n",
       "    </tr>\n",
       "    <tr>\n",
       "      <th>1</th>\n",
       "      <td>3.003149</td>\n",
       "      <td>1.398531</td>\n",
       "      <td>1.245671</td>\n",
       "      <td>3.994780e-17</td>\n",
       "      <td>-5.461219e-17</td>\n",
       "      <td>-3.146381e-17</td>\n",
       "      <td>476.2105</td>\n",
       "      <td>480.1579</td>\n",
       "      <td>79.44780</td>\n",
       "      <td>79.73795</td>\n",
       "      <td>...</td>\n",
       "      <td>58.73258</td>\n",
       "      <td>79.29658</td>\n",
       "      <td>58.02636</td>\n",
       "      <td>60.56134</td>\n",
       "      <td>80.77381</td>\n",
       "      <td>61.31806</td>\n",
       "      <td>0.000000</td>\n",
       "      <td>0.164868</td>\n",
       "      <td>0.020342</td>\n",
       "      <td>Normal</td>\n",
       "    </tr>\n",
       "    <tr>\n",
       "      <th>2</th>\n",
       "      <td>2.906362</td>\n",
       "      <td>1.612006</td>\n",
       "      <td>1.189551</td>\n",
       "      <td>-2.873518e-17</td>\n",
       "      <td>4.745659e-17</td>\n",
       "      <td>1.567374e-17</td>\n",
       "      <td>489.6667</td>\n",
       "      <td>509.6250</td>\n",
       "      <td>21.94311</td>\n",
       "      <td>27.64023</td>\n",
       "      <td>...</td>\n",
       "      <td>16.47021</td>\n",
       "      <td>20.52481</td>\n",
       "      <td>14.64988</td>\n",
       "      <td>24.01983</td>\n",
       "      <td>24.41311</td>\n",
       "      <td>20.72116</td>\n",
       "      <td>0.000000</td>\n",
       "      <td>0.291671</td>\n",
       "      <td>-0.025297</td>\n",
       "      <td>Normal</td>\n",
       "    </tr>\n",
       "    <tr>\n",
       "      <th>3</th>\n",
       "      <td>2.915212</td>\n",
       "      <td>1.579173</td>\n",
       "      <td>1.217206</td>\n",
       "      <td>-1.107815e-17</td>\n",
       "      <td>-1.628307e-16</td>\n",
       "      <td>9.801752e-17</td>\n",
       "      <td>477.5000</td>\n",
       "      <td>491.7647</td>\n",
       "      <td>30.51374</td>\n",
       "      <td>17.26097</td>\n",
       "      <td>...</td>\n",
       "      <td>27.18428</td>\n",
       "      <td>28.52656</td>\n",
       "      <td>25.01699</td>\n",
       "      <td>14.72356</td>\n",
       "      <td>15.16122</td>\n",
       "      <td>12.24434</td>\n",
       "      <td>0.000000</td>\n",
       "      <td>0.077379</td>\n",
       "      <td>-0.000735</td>\n",
       "      <td>Normal</td>\n",
       "    </tr>\n",
       "    <tr>\n",
       "      <th>4</th>\n",
       "      <td>3.027328</td>\n",
       "      <td>1.368556</td>\n",
       "      <td>1.143924</td>\n",
       "      <td>-1.072735e-16</td>\n",
       "      <td>1.499522e-17</td>\n",
       "      <td>2.854859e-17</td>\n",
       "      <td>1364.5000</td>\n",
       "      <td>2427.0000</td>\n",
       "      <td>20.50610</td>\n",
       "      <td>0.00000</td>\n",
       "      <td>...</td>\n",
       "      <td>20.50610</td>\n",
       "      <td>20.50610</td>\n",
       "      <td>20.50610</td>\n",
       "      <td>0.00000</td>\n",
       "      <td>0.00000</td>\n",
       "      <td>0.00000</td>\n",
       "      <td>0.750000</td>\n",
       "      <td>0.064384</td>\n",
       "      <td>0.002975</td>\n",
       "      <td>Normal</td>\n",
       "    </tr>\n",
       "  </tbody>\n",
       "</table>\n",
       "<p>5 rows × 27 columns</p>\n",
       "</div>"
      ],
      "text/plain": [
       "    stdPCA1   stdPCA2   stdPCA3      meanPCA1      meanPCA2      meanPCA3  \\\n",
       "0  2.925073  1.603105  1.107265 -1.327246e-16 -2.224033e-17  2.511005e-18   \n",
       "1  3.003149  1.398531  1.245671  3.994780e-17 -5.461219e-17 -3.146381e-17   \n",
       "2  2.906362  1.612006  1.189551 -2.873518e-17  4.745659e-17  1.567374e-17   \n",
       "3  2.915212  1.579173  1.217206 -1.107815e-17 -1.628307e-16  9.801752e-17   \n",
       "4  3.027328  1.368556  1.143924 -1.072735e-16  1.499522e-17  2.854859e-17   \n",
       "\n",
       "      meanS1     meanS2     stdS1     stdS2  ...  minstdS1  maxstdS1  \\\n",
       "0   472.0000   519.0000  26.57066  28.81666  ...  24.65675  22.15827   \n",
       "1   476.2105   480.1579  79.44780  79.73795  ...  58.73258  79.29658   \n",
       "2   489.6667   509.6250  21.94311  27.64023  ...  16.47021  20.52481   \n",
       "3   477.5000   491.7647  30.51374  17.26097  ...  27.18428  28.52656   \n",
       "4  1364.5000  2427.0000  20.50610   0.00000  ...  20.50610  20.50610   \n",
       "\n",
       "    mmstdS1  minstdS2  maxstdS2   mmstdS2  posRatio  stdWavelet  meanWavelet  \\\n",
       "0  20.00486  23.79636  25.31929  19.62142  0.086957    0.143258    -0.016102   \n",
       "1  58.02636  60.56134  80.77381  61.31806  0.000000    0.164868     0.020342   \n",
       "2  14.64988  24.01983  24.41311  20.72116  0.000000    0.291671    -0.025297   \n",
       "3  25.01699  14.72356  15.16122  12.24434  0.000000    0.077379    -0.000735   \n",
       "4  20.50610   0.00000   0.00000   0.00000  0.750000    0.064384     0.002975   \n",
       "\n",
       "    class  \n",
       "0  Normal  \n",
       "1  Normal  \n",
       "2  Normal  \n",
       "3  Normal  \n",
       "4  Normal  \n",
       "\n",
       "[5 rows x 27 columns]"
      ]
     },
     "execution_count": 2,
     "metadata": {},
     "output_type": "execute_result"
    }
   ],
   "source": [
    "filename = '../../Dataset/heartbeatFeaturesB4.csv'\n",
    "df = pd.read_csv(filename)\n",
    "toremove = df.shape[1] -1 \n",
    "df = df.iloc[:, 0:toremove]\n",
    "df.head()"
   ]
  },
  {
   "cell_type": "markdown",
   "metadata": {},
   "source": [
    "# Some stats"
   ]
  },
  {
   "cell_type": "code",
   "execution_count": 3,
   "metadata": {},
   "outputs": [
    {
     "data": {
      "text/plain": [
       "(312, 27)"
      ]
     },
     "execution_count": 3,
     "metadata": {},
     "output_type": "execute_result"
    }
   ],
   "source": [
    "df.shape"
   ]
  },
  {
   "cell_type": "code",
   "execution_count": 4,
   "metadata": {},
   "outputs": [
    {
     "data": {
      "image/png": "[encoded data removed]",
      "text/plain": [
       "<Figure size 432x288 with 1 Axes>"
      ]
     },
     "metadata": {
      "needs_background": "light"
     },
     "output_type": "display_data"
    }
   ],
   "source": [
    "plot = sns.countplot(x='class', data=df).set_title('Dataset-B Distribution').get_figure()"
   ]
  },
  {
   "cell_type": "markdown",
   "metadata": {},
   "source": [
    "### Back to reality"
   ]
  },
  {
   "cell_type": "code",
   "execution_count": 52,
   "metadata": {},
   "outputs": [
    {
     "data": {
      "text/html": [
       "<div>\n",
       "<style scoped>\n",
       "    .dataframe tbody tr th:only-of-type {\n",
       "        vertical-align: middle;\n",
       "    }\n",
       "\n",
       "    .dataframe tbody tr th {\n",
       "        vertical-align: top;\n",
       "    }\n",
       "\n",
       "    .dataframe thead th {\n",
       "        text-align: right;\n",
       "    }\n",
       "</style>\n",
       "<table border=\"1\" class=\"dataframe\">\n",
       "  <thead>\n",
       "    <tr style=\"text-align: right;\">\n",
       "      <th></th>\n",
       "      <th>stdPCA1</th>\n",
       "      <th>stdPCA2</th>\n",
       "      <th>stdPCA3</th>\n",
       "      <th>meanPCA1</th>\n",
       "      <th>meanPCA2</th>\n",
       "      <th>meanPCA3</th>\n",
       "      <th>meanS1</th>\n",
       "      <th>meanS2</th>\n",
       "      <th>stdS1</th>\n",
       "      <th>stdS2</th>\n",
       "      <th>...</th>\n",
       "      <th>stdlenFFTSHA</th>\n",
       "      <th>lenstdFFTSHA</th>\n",
       "      <th>posFFT</th>\n",
       "      <th>maxstdS1</th>\n",
       "      <th>maxstdS2</th>\n",
       "      <th>mmstdS1</th>\n",
       "      <th>mmstdS2</th>\n",
       "      <th>posRatio</th>\n",
       "      <th>stdWavelet</th>\n",
       "      <th>meanWavelet</th>\n",
       "    </tr>\n",
       "  </thead>\n",
       "  <tbody>\n",
       "    <tr>\n",
       "      <th>0</th>\n",
       "      <td>0.638786</td>\n",
       "      <td>0.409461</td>\n",
       "      <td>0.503370</td>\n",
       "      <td>0.263359</td>\n",
       "      <td>0.366913</td>\n",
       "      <td>0.404606</td>\n",
       "      <td>0.063191</td>\n",
       "      <td>0.047157</td>\n",
       "      <td>0.039061</td>\n",
       "      <td>0.026406</td>\n",
       "      <td>...</td>\n",
       "      <td>0.016750</td>\n",
       "      <td>0.028118</td>\n",
       "      <td>0.173913</td>\n",
       "      <td>0.032574</td>\n",
       "      <td>0.029471</td>\n",
       "      <td>0.029409</td>\n",
       "      <td>0.017980</td>\n",
       "      <td>0.096618</td>\n",
       "      <td>0.223323</td>\n",
       "      <td>0.222477</td>\n",
       "    </tr>\n",
       "    <tr>\n",
       "      <th>1</th>\n",
       "      <td>0.727809</td>\n",
       "      <td>0.236116</td>\n",
       "      <td>0.786586</td>\n",
       "      <td>0.446894</td>\n",
       "      <td>0.282429</td>\n",
       "      <td>0.320283</td>\n",
       "      <td>0.064612</td>\n",
       "      <td>0.039029</td>\n",
       "      <td>0.116794</td>\n",
       "      <td>0.073067</td>\n",
       "      <td>...</td>\n",
       "      <td>0.064188</td>\n",
       "      <td>0.006984</td>\n",
       "      <td>0.304348</td>\n",
       "      <td>0.116572</td>\n",
       "      <td>0.094018</td>\n",
       "      <td>0.085303</td>\n",
       "      <td>0.056188</td>\n",
       "      <td>0.000000</td>\n",
       "      <td>0.264409</td>\n",
       "      <td>0.318822</td>\n",
       "    </tr>\n",
       "    <tr>\n",
       "      <th>2</th>\n",
       "      <td>0.617452</td>\n",
       "      <td>0.417003</td>\n",
       "      <td>0.671749</td>\n",
       "      <td>0.373890</td>\n",
       "      <td>0.548808</td>\n",
       "      <td>0.437275</td>\n",
       "      <td>0.069153</td>\n",
       "      <td>0.045195</td>\n",
       "      <td>0.032258</td>\n",
       "      <td>0.025328</td>\n",
       "      <td>...</td>\n",
       "      <td>0.233871</td>\n",
       "      <td>0.001569</td>\n",
       "      <td>0.130435</td>\n",
       "      <td>0.030173</td>\n",
       "      <td>0.028416</td>\n",
       "      <td>0.021536</td>\n",
       "      <td>0.018988</td>\n",
       "      <td>0.000000</td>\n",
       "      <td>0.505492</td>\n",
       "      <td>0.198169</td>\n",
       "    </tr>\n",
       "    <tr>\n",
       "      <th>3</th>\n",
       "      <td>0.627543</td>\n",
       "      <td>0.389182</td>\n",
       "      <td>0.728339</td>\n",
       "      <td>0.392658</td>\n",
       "      <td>0.000000</td>\n",
       "      <td>0.641646</td>\n",
       "      <td>0.065047</td>\n",
       "      <td>0.041458</td>\n",
       "      <td>0.044858</td>\n",
       "      <td>0.015817</td>\n",
       "      <td>...</td>\n",
       "      <td>0.211261</td>\n",
       "      <td>0.001788</td>\n",
       "      <td>0.347826</td>\n",
       "      <td>0.041936</td>\n",
       "      <td>0.017647</td>\n",
       "      <td>0.036777</td>\n",
       "      <td>0.011220</td>\n",
       "      <td>0.000000</td>\n",
       "      <td>0.098073</td>\n",
       "      <td>0.263103</td>\n",
       "    </tr>\n",
       "    <tr>\n",
       "      <th>4</th>\n",
       "      <td>0.755378</td>\n",
       "      <td>0.210717</td>\n",
       "      <td>0.578384</td>\n",
       "      <td>0.290411</td>\n",
       "      <td>0.464090</td>\n",
       "      <td>0.469229</td>\n",
       "      <td>0.364380</td>\n",
       "      <td>0.446460</td>\n",
       "      <td>0.030146</td>\n",
       "      <td>0.000000</td>\n",
       "      <td>...</td>\n",
       "      <td>0.004540</td>\n",
       "      <td>0.105028</td>\n",
       "      <td>0.130435</td>\n",
       "      <td>0.030146</td>\n",
       "      <td>0.000000</td>\n",
       "      <td>0.030146</td>\n",
       "      <td>0.000000</td>\n",
       "      <td>0.833333</td>\n",
       "      <td>0.073366</td>\n",
       "      <td>0.272911</td>\n",
       "    </tr>\n",
       "  </tbody>\n",
       "</table>\n",
       "<p>5 rows × 24 columns</p>\n",
       "</div>"
      ],
      "text/plain": [
       "    stdPCA1   stdPCA2   stdPCA3  meanPCA1  meanPCA2  meanPCA3    meanS1  \\\n",
       "0  0.638786  0.409461  0.503370  0.263359  0.366913  0.404606  0.063191   \n",
       "1  0.727809  0.236116  0.786586  0.446894  0.282429  0.320283  0.064612   \n",
       "2  0.617452  0.417003  0.671749  0.373890  0.548808  0.437275  0.069153   \n",
       "3  0.627543  0.389182  0.728339  0.392658  0.000000  0.641646  0.065047   \n",
       "4  0.755378  0.210717  0.578384  0.290411  0.464090  0.469229  0.364380   \n",
       "\n",
       "     meanS2     stdS1     stdS2  ...  stdlenFFTSHA  lenstdFFTSHA    posFFT  \\\n",
       "0  0.047157  0.039061  0.026406  ...      0.016750      0.028118  0.173913   \n",
       "1  0.039029  0.116794  0.073067  ...      0.064188      0.006984  0.304348   \n",
       "2  0.045195  0.032258  0.025328  ...      0.233871      0.001569  0.130435   \n",
       "3  0.041458  0.044858  0.015817  ...      0.211261      0.001788  0.347826   \n",
       "4  0.446460  0.030146  0.000000  ...      0.004540      0.105028  0.130435   \n",
       "\n",
       "   maxstdS1  maxstdS2   mmstdS1   mmstdS2  posRatio  stdWavelet  meanWavelet  \n",
       "0  0.032574  0.029471  0.029409  0.017980  0.096618    0.223323     0.222477  \n",
       "1  0.116572  0.094018  0.085303  0.056188  0.000000    0.264409     0.318822  \n",
       "2  0.030173  0.028416  0.021536  0.018988  0.000000    0.505492     0.198169  \n",
       "3  0.041936  0.017647  0.036777  0.011220  0.000000    0.098073     0.263103  \n",
       "4  0.030146  0.000000  0.030146  0.000000  0.833333    0.073366     0.272911  \n",
       "\n",
       "[5 rows x 24 columns]"
      ]
     },
     "execution_count": 52,
     "metadata": {},
     "output_type": "execute_result"
    }
   ],
   "source": [
    "X = df.iloc[:,0:17]\n",
    "X[['maxstdS1', 'maxstdS2', 'mmstdS1', 'mmstdS2']] = df[['maxstdS1', 'maxstdS2','mmstdS1', 'mmstdS2']]\n",
    "X[['posRatio','stdWavelet','meanWavelet']] = df[['posRatio','stdWavelet','meanWavelet']]\n",
    "#X[['posRatio']] = df[['posRatio']]\n",
    "min_max_scaler = preprocessing.MinMaxScaler()\n",
    "x_scaled = min_max_scaler.fit_transform(X)\n",
    "X = pd.DataFrame(x_scaled)\n",
    "x_dim = X.shape[1]\n",
    "\n",
    "#X.columns = ['stdPCA1', 'stdPCA2', 'stdPCA3', 'meanPCA1', \n",
    "#               'meanPCA2', 'meanPCA3', 'meanS1', 'meanS2', 'stdS1', 'stdS2','rebuilError', 'ratios','stdFFTSHA' ,'lenFFTSHA', 'stdlenFFTSHA' ,'lenstdFFTSHA' ,'posFFT'] \n",
    "X.columns = [ 'stdPCA1', 'stdPCA2', 'stdPCA3', 'meanPCA1', \n",
    "               'meanPCA2', 'meanPCA3', 'meanS1', 'meanS2', \n",
    "          'stdS1', 'stdS2','rebuilError', 'ratios','stdFFTSHA' ,\n",
    "          'lenFFTSHA', 'stdlenFFTSHA' ,'lenstdFFTSHA' ,'posFFT',\n",
    "         'maxstdS1', 'maxstdS2', 'mmstdS1', 'mmstdS2',\n",
    "         'posRatio','stdWavelet','meanWavelet']\n",
    "X.head()"
   ]
  },
  {
   "cell_type": "code",
   "execution_count": 53,
   "metadata": {},
   "outputs": [
    {
     "name": "stdout",
     "output_type": "stream",
     "text": [
      "      stdPCA1   stdPCA2   stdPCA3  meanPCA1  meanPCA2  meanPCA3    meanS1  \\\n",
      "201  0.605587  0.440405  0.590961  0.497328  0.591634  0.377398  0.207027   \n",
      "202  0.667965  0.333823  0.611073  0.263962  0.283690  0.334091  0.193833   \n",
      "203  0.642047  0.365956  0.536380  0.445646  0.550433  0.365013  0.107298   \n",
      "204  0.361043  0.643139  0.743146  0.506113  0.423515  0.653605  0.196296   \n",
      "205  0.319600  0.682034  0.691328  0.429948  0.381655  0.286227  0.115498   \n",
      "206  0.853685  0.116358  0.431276  0.213921  0.407205  0.323405  0.195056   \n",
      "207  0.875026  0.112118  0.512734  0.330905  0.499508  0.531885  0.136295   \n",
      "208  0.401275  0.631718  0.779641  0.399817  0.759952  1.000000  0.091819   \n",
      "209  0.402381  0.604836  0.787658  0.415252  0.217976  0.574510  0.079895   \n",
      "210  0.502751  0.517177  0.737842  0.428118  0.500556  0.501176  0.131253   \n",
      "211  0.030662  1.000000  0.464186  0.317863  0.579161  0.880384  0.695267   \n",
      "\n",
      "       meanS2     stdS1     stdS2  ...  stdlenFFTSHA  lenstdFFTSHA    posFFT  \\\n",
      "201  0.200302  0.446838  0.336988  ...      0.079390      0.005555  0.086957   \n",
      "202  0.121796  0.458697  0.293095  ...      0.099400      0.004340  0.478261   \n",
      "203  0.110673  0.164289  0.113013  ...      0.082811      0.005305  0.391304   \n",
      "204  0.124131  0.351044  0.232580  ...      0.039484      0.011653  0.347826   \n",
      "205  0.107220  0.059907  0.055131  ...      0.089294      0.004885  0.217391   \n",
      "206  0.128064  0.603888  0.159207  ...      0.059799      0.007531  0.173913   \n",
      "207  0.125132  0.193026  0.318970  ...      0.046579      0.009805  0.347826   \n",
      "208  0.060237  0.302921  0.202606  ...      0.129032      0.003233  0.173913   \n",
      "209  0.062654  0.097323  0.072189  ...      0.031992      0.014494  0.347826   \n",
      "210  0.082856  0.425027  0.252582  ...      0.019893      0.023600  0.478261   \n",
      "211  0.429508  0.925960  0.396241  ...      0.020741      0.022616  1.000000   \n",
      "\n",
      "     maxstdS1  maxstdS2   mmstdS1   mmstdS2  posRatio  stdWavelet  meanWavelet  \n",
      "201  0.262875  0.229662  0.235329  0.172326  0.000000    0.138174     0.277101  \n",
      "202  0.390134  0.336193  0.396084  0.265952  0.032680    0.108915     0.279590  \n",
      "203  0.180075  0.077229  0.031614  0.058179  0.687831    0.172357     0.235431  \n",
      "204  0.318754  0.243275  0.315682  0.191035  0.859539    0.237191     0.312420  \n",
      "205  0.049298  0.064431  0.039427  0.046167  0.625000    0.354203     0.345068  \n",
      "206  0.268168  0.028959  0.308732  0.018027  1.000000    0.239122     0.277133  \n",
      "207  0.178468  0.164952  0.177424  0.123039  0.686275    0.216852     0.274878  \n",
      "208  0.255448  0.151703  0.192412  0.112097  0.256410    0.292080     0.241272  \n",
      "209  0.083319  0.081326  0.074397  0.061077  0.271003    0.167597     0.232259  \n",
      "210  0.254824  0.231232  0.251905  0.177638  0.370370    0.406871     0.279467  \n",
      "211  0.214868  0.227953  0.197788  0.103403  0.793651    0.058849     0.262350  \n",
      "\n",
      "[11 rows x 24 columns]\n"
     ]
    }
   ],
   "source": [
    "P = X.iloc[201:212,:]\n",
    "print(P)"
   ]
  },
  {
   "cell_type": "code",
   "execution_count": 7,
   "metadata": {},
   "outputs": [
    {
     "data": {
      "text/html": [
       "<div>\n",
       "<style scoped>\n",
       "    .dataframe tbody tr th:only-of-type {\n",
       "        vertical-align: middle;\n",
       "    }\n",
       "\n",
       "    .dataframe tbody tr th {\n",
       "        vertical-align: top;\n",
       "    }\n",
       "\n",
       "    .dataframe thead th {\n",
       "        text-align: right;\n",
       "    }\n",
       "</style>\n",
       "<table border=\"1\" class=\"dataframe\">\n",
       "  <thead>\n",
       "    <tr style=\"text-align: right;\">\n",
       "      <th></th>\n",
       "      <th>class</th>\n",
       "    </tr>\n",
       "  </thead>\n",
       "  <tbody>\n",
       "    <tr>\n",
       "      <th>0</th>\n",
       "      <td>Normal</td>\n",
       "    </tr>\n",
       "    <tr>\n",
       "      <th>1</th>\n",
       "      <td>Normal</td>\n",
       "    </tr>\n",
       "    <tr>\n",
       "      <th>2</th>\n",
       "      <td>Normal</td>\n",
       "    </tr>\n",
       "    <tr>\n",
       "      <th>3</th>\n",
       "      <td>Normal</td>\n",
       "    </tr>\n",
       "    <tr>\n",
       "      <th>4</th>\n",
       "      <td>Normal</td>\n",
       "    </tr>\n",
       "  </tbody>\n",
       "</table>\n",
       "</div>"
      ],
      "text/plain": [
       "    class\n",
       "0  Normal\n",
       "1  Normal\n",
       "2  Normal\n",
       "3  Normal\n",
       "4  Normal"
      ]
     },
     "execution_count": 7,
     "metadata": {},
     "output_type": "execute_result"
    }
   ],
   "source": [
    "y = df.iloc[:,toremove-1:toremove]\n",
    "y.head()\n",
    "#Y = pd.get_dummies(y['class'])\n",
    "\n",
    "#Y.columns = ['Art','Normal', 'Murmur', 'Extr']\n",
    "#Y.columns = ['Normal', 'Murmur', 'Extr']\n",
    "#print(Y)"
   ]
  },
  {
   "cell_type": "code",
   "execution_count": 8,
   "metadata": {},
   "outputs": [
    {
     "name": "stderr",
     "output_type": "stream",
     "text": [
      "/usr/local/lib/python3.7/dist-packages/sklearn/preprocessing/label.py:219: DataConversionWarning: A column-vector y was passed when a 1d array was expected. Please change the shape of y to (n_samples, ), for example using ravel().\n",
      "  y = column_or_1d(y, warn=True)\n",
      "/usr/local/lib/python3.7/dist-packages/sklearn/preprocessing/label.py:252: DataConversionWarning: A column-vector y was passed when a 1d array was expected. Please change the shape of y to (n_samples, ), for example using ravel().\n",
      "  y = column_or_1d(y, warn=True)\n"
     ]
    }
   ],
   "source": [
    "encoder = preprocessing.LabelEncoder()\n",
    "encoder.fit(y)\n",
    "Y = encoder.transform(y)"
   ]
  },
  {
   "cell_type": "markdown",
   "metadata": {},
   "source": [
    "### Split data"
   ]
  },
  {
   "cell_type": "code",
   "execution_count": 9,
   "metadata": {},
   "outputs": [],
   "source": [
    "X,Y = shuffle(X,Y,random_state=12)"
   ]
  },
  {
   "cell_type": "code",
   "execution_count": 10,
   "metadata": {},
   "outputs": [],
   "source": [
    "X_train,X_test, Y_train, Y_test = train_test_split(X,Y,test_size=0.20, random_state = 10)\n"
   ]
  },
  {
   "cell_type": "code",
   "execution_count": 11,
   "metadata": {},
   "outputs": [
    {
     "name": "stdout",
     "output_type": "stream",
     "text": [
      "col_0  count\n",
      "row_0       \n",
      "0         42\n",
      "1         52\n",
      "2        155 \n",
      "\n",
      " col_0  count\n",
      "row_0       \n",
      "0          4\n",
      "1         14\n",
      "2         45\n"
     ]
    }
   ],
   "source": [
    "train_outcome = pd.crosstab(index = Y_train, columns = \"count\")\n",
    "test_outcome = pd.crosstab(index = Y_test, columns = \"count\")\n",
    "\n",
    "print(train_outcome,'\\n\\n',test_outcome)"
   ]
  },
  {
   "cell_type": "code",
   "execution_count": 12,
   "metadata": {},
   "outputs": [],
   "source": [
    "# Scaling\n",
    "\n",
    "# from sklearn.preprocessing import StandardScaler\n",
    "# sc = StandardScaler()\n",
    "# X_train = sc.fit_transform(X_train)\n",
    "# X_test = sc.transform(X_test)"
   ]
  },
  {
   "cell_type": "code",
   "execution_count": 13,
   "metadata": {},
   "outputs": [
    {
     "data": {
      "text/html": [
       "<div>\n",
       "<style scoped>\n",
       "    .dataframe tbody tr th:only-of-type {\n",
       "        vertical-align: middle;\n",
       "    }\n",
       "\n",
       "    .dataframe tbody tr th {\n",
       "        vertical-align: top;\n",
       "    }\n",
       "\n",
       "    .dataframe thead th {\n",
       "        text-align: right;\n",
       "    }\n",
       "</style>\n",
       "<table border=\"1\" class=\"dataframe\">\n",
       "  <thead>\n",
       "    <tr style=\"text-align: right;\">\n",
       "      <th></th>\n",
       "      <th>stdPCA1</th>\n",
       "      <th>stdPCA2</th>\n",
       "      <th>stdPCA3</th>\n",
       "      <th>meanPCA1</th>\n",
       "      <th>meanPCA2</th>\n",
       "      <th>meanPCA3</th>\n",
       "      <th>meanS1</th>\n",
       "      <th>meanS2</th>\n",
       "      <th>stdS1</th>\n",
       "      <th>stdS2</th>\n",
       "      <th>...</th>\n",
       "      <th>stdlenFFTSHA</th>\n",
       "      <th>lenstdFFTSHA</th>\n",
       "      <th>posFFT</th>\n",
       "      <th>maxstdS1</th>\n",
       "      <th>maxstdS2</th>\n",
       "      <th>mmstdS1</th>\n",
       "      <th>mmstdS2</th>\n",
       "      <th>posRatio</th>\n",
       "      <th>stdWavelet</th>\n",
       "      <th>meanWavelet</th>\n",
       "    </tr>\n",
       "  </thead>\n",
       "  <tbody>\n",
       "    <tr>\n",
       "      <th>146</th>\n",
       "      <td>0.738730</td>\n",
       "      <td>0.254923</td>\n",
       "      <td>0.713839</td>\n",
       "      <td>0.579899</td>\n",
       "      <td>0.337349</td>\n",
       "      <td>0.521000</td>\n",
       "      <td>0.085126</td>\n",
       "      <td>0.109104</td>\n",
       "      <td>0.000000</td>\n",
       "      <td>0.032398</td>\n",
       "      <td>...</td>\n",
       "      <td>0.007228</td>\n",
       "      <td>0.065795</td>\n",
       "      <td>0.086957</td>\n",
       "      <td>0.000000</td>\n",
       "      <td>0.041152</td>\n",
       "      <td>0.000000</td>\n",
       "      <td>0.032398</td>\n",
       "      <td>0.000000</td>\n",
       "      <td>0.210870</td>\n",
       "      <td>0.156784</td>\n",
       "    </tr>\n",
       "    <tr>\n",
       "      <th>176</th>\n",
       "      <td>0.712087</td>\n",
       "      <td>0.372787</td>\n",
       "      <td>0.422174</td>\n",
       "      <td>0.356526</td>\n",
       "      <td>0.551233</td>\n",
       "      <td>0.047152</td>\n",
       "      <td>0.094997</td>\n",
       "      <td>0.102197</td>\n",
       "      <td>0.010069</td>\n",
       "      <td>0.094171</td>\n",
       "      <td>...</td>\n",
       "      <td>0.011358</td>\n",
       "      <td>0.041696</td>\n",
       "      <td>0.086957</td>\n",
       "      <td>0.008097</td>\n",
       "      <td>0.074068</td>\n",
       "      <td>0.009356</td>\n",
       "      <td>0.068683</td>\n",
       "      <td>0.123457</td>\n",
       "      <td>0.208246</td>\n",
       "      <td>0.203514</td>\n",
       "    </tr>\n",
       "    <tr>\n",
       "      <th>239</th>\n",
       "      <td>0.623460</td>\n",
       "      <td>0.336125</td>\n",
       "      <td>0.835758</td>\n",
       "      <td>0.437062</td>\n",
       "      <td>0.466014</td>\n",
       "      <td>0.399644</td>\n",
       "      <td>0.097162</td>\n",
       "      <td>0.156243</td>\n",
       "      <td>0.015442</td>\n",
       "      <td>0.330703</td>\n",
       "      <td>...</td>\n",
       "      <td>0.004075</td>\n",
       "      <td>0.117059</td>\n",
       "      <td>0.130435</td>\n",
       "      <td>0.011435</td>\n",
       "      <td>0.024052</td>\n",
       "      <td>0.015442</td>\n",
       "      <td>0.007127</td>\n",
       "      <td>0.277778</td>\n",
       "      <td>0.072809</td>\n",
       "      <td>0.280042</td>\n",
       "    </tr>\n",
       "    <tr>\n",
       "      <th>207</th>\n",
       "      <td>0.875026</td>\n",
       "      <td>0.112118</td>\n",
       "      <td>0.512734</td>\n",
       "      <td>0.330905</td>\n",
       "      <td>0.499508</td>\n",
       "      <td>0.531885</td>\n",
       "      <td>0.136295</td>\n",
       "      <td>0.125132</td>\n",
       "      <td>0.193026</td>\n",
       "      <td>0.318970</td>\n",
       "      <td>...</td>\n",
       "      <td>0.046579</td>\n",
       "      <td>0.009805</td>\n",
       "      <td>0.347826</td>\n",
       "      <td>0.178468</td>\n",
       "      <td>0.164952</td>\n",
       "      <td>0.177424</td>\n",
       "      <td>0.123039</td>\n",
       "      <td>0.686275</td>\n",
       "      <td>0.216852</td>\n",
       "      <td>0.274878</td>\n",
       "    </tr>\n",
       "    <tr>\n",
       "      <th>117</th>\n",
       "      <td>0.174614</td>\n",
       "      <td>0.738971</td>\n",
       "      <td>0.766150</td>\n",
       "      <td>0.195366</td>\n",
       "      <td>0.315445</td>\n",
       "      <td>0.374508</td>\n",
       "      <td>0.079474</td>\n",
       "      <td>0.091873</td>\n",
       "      <td>0.021518</td>\n",
       "      <td>0.046565</td>\n",
       "      <td>...</td>\n",
       "      <td>0.032375</td>\n",
       "      <td>0.014317</td>\n",
       "      <td>0.086957</td>\n",
       "      <td>0.018361</td>\n",
       "      <td>0.071605</td>\n",
       "      <td>0.018711</td>\n",
       "      <td>0.046565</td>\n",
       "      <td>0.138889</td>\n",
       "      <td>0.140781</td>\n",
       "      <td>0.247876</td>\n",
       "    </tr>\n",
       "  </tbody>\n",
       "</table>\n",
       "<p>5 rows × 24 columns</p>\n",
       "</div>"
      ],
      "text/plain": [
       "      stdPCA1   stdPCA2   stdPCA3  meanPCA1  meanPCA2  meanPCA3    meanS1  \\\n",
       "146  0.738730  0.254923  0.713839  0.579899  0.337349  0.521000  0.085126   \n",
       "176  0.712087  0.372787  0.422174  0.356526  0.551233  0.047152  0.094997   \n",
       "239  0.623460  0.336125  0.835758  0.437062  0.466014  0.399644  0.097162   \n",
       "207  0.875026  0.112118  0.512734  0.330905  0.499508  0.531885  0.136295   \n",
       "117  0.174614  0.738971  0.766150  0.195366  0.315445  0.374508  0.079474   \n",
       "\n",
       "       meanS2     stdS1     stdS2  ...  stdlenFFTSHA  lenstdFFTSHA    posFFT  \\\n",
       "146  0.109104  0.000000  0.032398  ...      0.007228      0.065795  0.086957   \n",
       "176  0.102197  0.010069  0.094171  ...      0.011358      0.041696  0.086957   \n",
       "239  0.156243  0.015442  0.330703  ...      0.004075      0.117059  0.130435   \n",
       "207  0.125132  0.193026  0.318970  ...      0.046579      0.009805  0.347826   \n",
       "117  0.091873  0.021518  0.046565  ...      0.032375      0.014317  0.086957   \n",
       "\n",
       "     maxstdS1  maxstdS2   mmstdS1   mmstdS2  posRatio  stdWavelet  meanWavelet  \n",
       "146  0.000000  0.041152  0.000000  0.032398  0.000000    0.210870     0.156784  \n",
       "176  0.008097  0.074068  0.009356  0.068683  0.123457    0.208246     0.203514  \n",
       "239  0.011435  0.024052  0.015442  0.007127  0.277778    0.072809     0.280042  \n",
       "207  0.178468  0.164952  0.177424  0.123039  0.686275    0.216852     0.274878  \n",
       "117  0.018361  0.071605  0.018711  0.046565  0.138889    0.140781     0.247876  \n",
       "\n",
       "[5 rows x 24 columns]"
      ]
     },
     "execution_count": 13,
     "metadata": {},
     "output_type": "execute_result"
    }
   ],
   "source": [
    "X_train.head()"
   ]
  },
  {
   "cell_type": "markdown",
   "metadata": {},
   "source": [
    "## The Model"
   ]
  },
  {
   "cell_type": "code",
   "execution_count": 14,
   "metadata": {},
   "outputs": [],
   "source": [
    "model = XGBClassifier(objective='multi:softmax')"
   ]
  },
  {
   "cell_type": "code",
   "execution_count": 15,
   "metadata": {},
   "outputs": [],
   "source": [
    "# param_test1 = {\n",
    "#  'max_depth':range(3,10,2),\n",
    "#  'min_child_weight':range(1,6,2)\n",
    "# }\n",
    "# gsearch1 = GridSearchCV(model, \n",
    "#  param_grid = param_test1,n_jobs=4,iid=False, cv=5)\n",
    "\n",
    "# gsearch1.fit(X_train,Y_train)\n",
    "# gsearch1.grid_scores_, gsearch1.best_params_, gsearch1.best_score_"
   ]
  },
  {
   "cell_type": "code",
   "execution_count": 16,
   "metadata": {},
   "outputs": [],
   "source": [
    "# params = {\n",
    "#     \"colsample_bytree\": uniform(0.7, 0.3),\n",
    "#     \"gamma\": uniform(0, 0.5),\n",
    "#     \"learning_rate\": uniform(0.03, 0.3), # default 0.1 \n",
    "#     \"max_depth\":range(3,10,2), # default 3\n",
    "#     \"n_estimators\": randint(100, 150), # default 100\n",
    "#     \"subsample\": uniform(0.6, 0.4),\n",
    "#     'min_child_weight':range(1,6,2)\n",
    "# }\n",
    "\n",
    "# search = RandomizedSearchCV(model, param_distributions=params, random_state=42, n_iter=200, cv=3, verbose=1, n_jobs=4,return_train_score=True)\n",
    "\n",
    "# search.fit(X, Y)\n",
    "\n",
    "# search.best_params_"
   ]
  },
  {
   "cell_type": "code",
   "execution_count": 17,
   "metadata": {},
   "outputs": [],
   "source": [
    "# report_best_scores(search.cv_results_, 1)"
   ]
  },
  {
   "cell_type": "code",
   "execution_count": 18,
   "metadata": {},
   "outputs": [],
   "source": [
    "# search.best_params_"
   ]
  },
  {
   "cell_type": "code",
   "execution_count": 19,
   "metadata": {},
   "outputs": [],
   "source": [
    "model = XGBClassifier(objective='multi:softmax', colsample_bytree=0.9441385059120846,gamma= 0.34236558627693964,learning_rate=0.07878508180346738,max_depth=5,min_child_weight= 5, n_estimators=105, subsample = 0.9799199653167696)"
   ]
  },
  {
   "cell_type": "code",
   "execution_count": 20,
   "metadata": {},
   "outputs": [],
   "source": [
    "eval_set = [(X_train, Y_train), (X_test, Y_test)]"
   ]
  },
  {
   "cell_type": "code",
   "execution_count": 21,
   "metadata": {},
   "outputs": [],
   "source": [
    "#Y_train.shape\n",
    "#eval_metric=[\"merror\", \"mlogloss\"],,eval_metric=\"auc\" objective='multi:softmax',"
   ]
  },
  {
   "cell_type": "code",
   "execution_count": 22,
   "metadata": {},
   "outputs": [
    {
     "name": "stdout",
     "output_type": "stream",
     "text": [
      "[0]\tvalidation_0-merror:0.172691\tvalidation_0-mlogloss:1.04106\tvalidation_1-merror:0.31746\tvalidation_1-mlogloss:1.05614\n",
      "Multiple eval metrics have been passed: 'validation_1-mlogloss' will be used for early stopping.\n",
      "\n",
      "Will train until validation_1-mlogloss hasn't improved in 5 rounds.\n",
      "[1]\tvalidation_0-merror:0.144578\tvalidation_0-mlogloss:0.989944\tvalidation_1-merror:0.31746\tvalidation_1-mlogloss:1.01625\n",
      "[2]\tvalidation_0-merror:0.15261\tvalidation_0-mlogloss:0.94482\tvalidation_1-merror:0.285714\tvalidation_1-mlogloss:0.980335\n",
      "[3]\tvalidation_0-merror:0.156627\tvalidation_0-mlogloss:0.902533\tvalidation_1-merror:0.301587\tvalidation_1-mlogloss:0.953025\n",
      "[4]\tvalidation_0-merror:0.148594\tvalidation_0-mlogloss:0.864761\tvalidation_1-merror:0.285714\tvalidation_1-mlogloss:0.928821\n",
      "[5]\tvalidation_0-merror:0.15261\tvalidation_0-mlogloss:0.827998\tvalidation_1-merror:0.253968\tvalidation_1-mlogloss:0.904559\n",
      "[6]\tvalidation_0-merror:0.156627\tvalidation_0-mlogloss:0.79766\tvalidation_1-merror:0.285714\tvalidation_1-mlogloss:0.885183\n",
      "[7]\tvalidation_0-merror:0.156627\tvalidation_0-mlogloss:0.767253\tvalidation_1-merror:0.285714\tvalidation_1-mlogloss:0.866832\n",
      "[8]\tvalidation_0-merror:0.136546\tvalidation_0-mlogloss:0.739961\tvalidation_1-merror:0.285714\tvalidation_1-mlogloss:0.847769\n",
      "[9]\tvalidation_0-merror:0.136546\tvalidation_0-mlogloss:0.714126\tvalidation_1-merror:0.285714\tvalidation_1-mlogloss:0.831317\n",
      "[10]\tvalidation_0-merror:0.13253\tvalidation_0-mlogloss:0.688302\tvalidation_1-merror:0.285714\tvalidation_1-mlogloss:0.812079\n",
      "[11]\tvalidation_0-merror:0.13253\tvalidation_0-mlogloss:0.664572\tvalidation_1-merror:0.301587\tvalidation_1-mlogloss:0.797255\n",
      "[12]\tvalidation_0-merror:0.13253\tvalidation_0-mlogloss:0.642518\tvalidation_1-merror:0.301587\tvalidation_1-mlogloss:0.78182\n",
      "[13]\tvalidation_0-merror:0.13253\tvalidation_0-mlogloss:0.623994\tvalidation_1-merror:0.269841\tvalidation_1-mlogloss:0.769984\n",
      "[14]\tvalidation_0-merror:0.140562\tvalidation_0-mlogloss:0.602708\tvalidation_1-merror:0.301587\tvalidation_1-mlogloss:0.759093\n",
      "[15]\tvalidation_0-merror:0.108434\tvalidation_0-mlogloss:0.58613\tvalidation_1-merror:0.301587\tvalidation_1-mlogloss:0.747913\n",
      "[16]\tvalidation_0-merror:0.100402\tvalidation_0-mlogloss:0.566543\tvalidation_1-merror:0.301587\tvalidation_1-mlogloss:0.739713\n",
      "[17]\tvalidation_0-merror:0.088353\tvalidation_0-mlogloss:0.548787\tvalidation_1-merror:0.285714\tvalidation_1-mlogloss:0.729772\n",
      "[18]\tvalidation_0-merror:0.092369\tvalidation_0-mlogloss:0.535387\tvalidation_1-merror:0.269841\tvalidation_1-mlogloss:0.721426\n",
      "[19]\tvalidation_0-merror:0.080321\tvalidation_0-mlogloss:0.521293\tvalidation_1-merror:0.253968\tvalidation_1-mlogloss:0.712645\n",
      "[20]\tvalidation_0-merror:0.084337\tvalidation_0-mlogloss:0.507239\tvalidation_1-merror:0.238095\tvalidation_1-mlogloss:0.706396\n",
      "[21]\tvalidation_0-merror:0.080321\tvalidation_0-mlogloss:0.494797\tvalidation_1-merror:0.253968\tvalidation_1-mlogloss:0.700582\n",
      "[22]\tvalidation_0-merror:0.084337\tvalidation_0-mlogloss:0.480823\tvalidation_1-merror:0.238095\tvalidation_1-mlogloss:0.696345\n",
      "[23]\tvalidation_0-merror:0.076305\tvalidation_0-mlogloss:0.468573\tvalidation_1-merror:0.238095\tvalidation_1-mlogloss:0.689276\n",
      "[24]\tvalidation_0-merror:0.076305\tvalidation_0-mlogloss:0.455644\tvalidation_1-merror:0.238095\tvalidation_1-mlogloss:0.683685\n",
      "[25]\tvalidation_0-merror:0.068273\tvalidation_0-mlogloss:0.441277\tvalidation_1-merror:0.253968\tvalidation_1-mlogloss:0.676343\n",
      "[26]\tvalidation_0-merror:0.064257\tvalidation_0-mlogloss:0.428939\tvalidation_1-merror:0.238095\tvalidation_1-mlogloss:0.671388\n",
      "[27]\tvalidation_0-merror:0.064257\tvalidation_0-mlogloss:0.417986\tvalidation_1-merror:0.238095\tvalidation_1-mlogloss:0.667471\n",
      "[28]\tvalidation_0-merror:0.060241\tvalidation_0-mlogloss:0.40844\tvalidation_1-merror:0.238095\tvalidation_1-mlogloss:0.664622\n",
      "[29]\tvalidation_0-merror:0.060241\tvalidation_0-mlogloss:0.398012\tvalidation_1-merror:0.222222\tvalidation_1-mlogloss:0.659152\n",
      "[30]\tvalidation_0-merror:0.060241\tvalidation_0-mlogloss:0.389429\tvalidation_1-merror:0.222222\tvalidation_1-mlogloss:0.654764\n",
      "[31]\tvalidation_0-merror:0.056225\tvalidation_0-mlogloss:0.381787\tvalidation_1-merror:0.222222\tvalidation_1-mlogloss:0.652018\n",
      "[32]\tvalidation_0-merror:0.056225\tvalidation_0-mlogloss:0.373306\tvalidation_1-merror:0.222222\tvalidation_1-mlogloss:0.64807\n",
      "[33]\tvalidation_0-merror:0.048193\tvalidation_0-mlogloss:0.364094\tvalidation_1-merror:0.222222\tvalidation_1-mlogloss:0.644451\n",
      "[34]\tvalidation_0-merror:0.048193\tvalidation_0-mlogloss:0.356663\tvalidation_1-merror:0.222222\tvalidation_1-mlogloss:0.643187\n",
      "[35]\tvalidation_0-merror:0.044177\tvalidation_0-mlogloss:0.349891\tvalidation_1-merror:0.206349\tvalidation_1-mlogloss:0.641716\n",
      "[36]\tvalidation_0-merror:0.048193\tvalidation_0-mlogloss:0.343378\tvalidation_1-merror:0.206349\tvalidation_1-mlogloss:0.641137\n",
      "[37]\tvalidation_0-merror:0.044177\tvalidation_0-mlogloss:0.336154\tvalidation_1-merror:0.206349\tvalidation_1-mlogloss:0.641061\n",
      "[38]\tvalidation_0-merror:0.044177\tvalidation_0-mlogloss:0.329804\tvalidation_1-merror:0.206349\tvalidation_1-mlogloss:0.641589\n",
      "[39]\tvalidation_0-merror:0.040161\tvalidation_0-mlogloss:0.323769\tvalidation_1-merror:0.206349\tvalidation_1-mlogloss:0.642462\n",
      "[40]\tvalidation_0-merror:0.040161\tvalidation_0-mlogloss:0.317474\tvalidation_1-merror:0.206349\tvalidation_1-mlogloss:0.639167\n",
      "[41]\tvalidation_0-merror:0.040161\tvalidation_0-mlogloss:0.312034\tvalidation_1-merror:0.206349\tvalidation_1-mlogloss:0.640378\n",
      "[42]\tvalidation_0-merror:0.040161\tvalidation_0-mlogloss:0.306405\tvalidation_1-merror:0.206349\tvalidation_1-mlogloss:0.63686\n",
      "[43]\tvalidation_0-merror:0.040161\tvalidation_0-mlogloss:0.30037\tvalidation_1-merror:0.206349\tvalidation_1-mlogloss:0.633375\n",
      "[44]\tvalidation_0-merror:0.040161\tvalidation_0-mlogloss:0.294471\tvalidation_1-merror:0.206349\tvalidation_1-mlogloss:0.633847\n",
      "[45]\tvalidation_0-merror:0.040161\tvalidation_0-mlogloss:0.28924\tvalidation_1-merror:0.206349\tvalidation_1-mlogloss:0.631304\n",
      "[46]\tvalidation_0-merror:0.040161\tvalidation_0-mlogloss:0.284189\tvalidation_1-merror:0.206349\tvalidation_1-mlogloss:0.627186\n",
      "[47]\tvalidation_0-merror:0.036145\tvalidation_0-mlogloss:0.279377\tvalidation_1-merror:0.206349\tvalidation_1-mlogloss:0.625246\n",
      "[48]\tvalidation_0-merror:0.036145\tvalidation_0-mlogloss:0.27406\tvalidation_1-merror:0.222222\tvalidation_1-mlogloss:0.62566\n",
      "[49]\tvalidation_0-merror:0.036145\tvalidation_0-mlogloss:0.270034\tvalidation_1-merror:0.206349\tvalidation_1-mlogloss:0.626339\n",
      "[50]\tvalidation_0-merror:0.036145\tvalidation_0-mlogloss:0.265812\tvalidation_1-merror:0.206349\tvalidation_1-mlogloss:0.6273\n",
      "[51]\tvalidation_0-merror:0.036145\tvalidation_0-mlogloss:0.262029\tvalidation_1-merror:0.222222\tvalidation_1-mlogloss:0.62871\n",
      "[52]\tvalidation_0-merror:0.032129\tvalidation_0-mlogloss:0.25817\tvalidation_1-merror:0.206349\tvalidation_1-mlogloss:0.627753\n",
      "Stopping. Best iteration:\n",
      "[47]\tvalidation_0-merror:0.036145\tvalidation_0-mlogloss:0.279377\tvalidation_1-merror:0.206349\tvalidation_1-mlogloss:0.625246\n",
      "\n"
     ]
    },
    {
     "data": {
      "text/plain": [
       "XGBClassifier(base_score=0.5, booster='gbtree', colsample_bylevel=1,\n",
       "              colsample_bynode=1, colsample_bytree=0.9441385059120846,\n",
       "              gamma=0.34236558627693964, learning_rate=0.07878508180346738,\n",
       "              max_delta_step=0, max_depth=5, min_child_weight=5, missing=None,\n",
       "              n_estimators=105, n_jobs=1, nthread=None,\n",
       "              objective='multi:softprob', random_state=0, reg_alpha=0,\n",
       "              reg_lambda=1, scale_pos_weight=1, seed=None, silent=None,\n",
       "              subsample=0.9799199653167696, verbosity=1)"
      ]
     },
     "execution_count": 22,
     "metadata": {},
     "output_type": "execute_result"
    }
   ],
   "source": [
    "model.fit(X_train, Y_train , early_stopping_rounds=5, eval_metric=[\"merror\", \"mlogloss\"], eval_set=eval_set)#, verbose=True)"
   ]
  },
  {
   "cell_type": "markdown",
   "metadata": {},
   "source": [
    "# K Fold?"
   ]
  },
  {
   "cell_type": "code",
   "execution_count": 23,
   "metadata": {},
   "outputs": [
    {
     "name": "stdout",
     "output_type": "stream",
     "text": [
      "Accuracy: 71.75% (5.02%)\n",
      "[0.78125    0.66129032 0.67741935 0.69354839 0.77419355]\n"
     ]
    }
   ],
   "source": [
    "kfold = StratifiedKFold(n_splits=5, random_state=7)\n",
    "results = cross_val_score(model, X, Y, cv=kfold)\n",
    "print(\"Accuracy: %.2f%% (%.2f%%)\" % (results.mean()*100, results.std()*100))\n",
    "print(results)"
   ]
  },
  {
   "cell_type": "code",
   "execution_count": 24,
   "metadata": {},
   "outputs": [
    {
     "name": "stdout",
     "output_type": "stream",
     "text": [
      "[2 2 1 2 1 1 2 1 2 0 2 1 2 2 2 1 2 2 1 2 2 2 2 0 1 2 2 2 2 1 2 2 2 2 2 2 2\n",
      " 2 0 2 2 2 2 1 2 2 2 2 2 2 2 2 2 1 2 0 0 2 0 2 2 1 2]\n"
     ]
    }
   ],
   "source": [
    "## predictions\n",
    "\n",
    "y_pred = model.predict(X_test)\n",
    "predictions = [round(value) for value in y_pred]\n",
    "print(y_pred)"
   ]
  },
  {
   "cell_type": "code",
   "execution_count": 25,
   "metadata": {},
   "outputs": [],
   "source": [
    "accuracy = accuracy_score(Y_test, predictions)"
   ]
  },
  {
   "cell_type": "code",
   "execution_count": 26,
   "metadata": {},
   "outputs": [
    {
     "name": "stdout",
     "output_type": "stream",
     "text": [
      "Accuracy: 79.37%\n"
     ]
    }
   ],
   "source": [
    "print(\"Accuracy: %.2f%%\" % (accuracy * 100.0))"
   ]
  },
  {
   "cell_type": "code",
   "execution_count": 27,
   "metadata": {},
   "outputs": [
    {
     "name": "stdout",
     "output_type": "stream",
     "text": [
      "[2 0 1 2 0 1 2 2 2 0 2 1 2 2 2 1 2 2 1 2 2 2 2 1 1 2 2 2 2 1 2 2 1 2 2 2 2\n",
      " 2 2 2 1 2 2 1 2 2 2 2 2 2 2 2 2 0 1 2 2 2 2 1 2 1 2]\n"
     ]
    }
   ],
   "source": [
    "print(Y_test)"
   ]
  },
  {
   "cell_type": "code",
   "execution_count": 28,
   "metadata": {},
   "outputs": [
    {
     "name": "stdout",
     "output_type": "stream",
     "text": [
      "[[ 1  2  1]\n",
      " [ 1  9  4]\n",
      " [ 4  1 40]]\n"
     ]
    }
   ],
   "source": [
    "CM = confusion_matrix(Y_test, y_pred)\n",
    "print(CM)"
   ]
  },
  {
   "cell_type": "code",
   "execution_count": 29,
   "metadata": {},
   "outputs": [
    {
     "name": "stdout",
     "output_type": "stream",
     "text": [
      "              precision    recall  f1-score   support\n",
      "\n",
      "           0       0.17      0.25      0.20         4\n",
      "           1       0.75      0.64      0.69        14\n",
      "           2       0.89      0.89      0.89        45\n",
      "\n",
      "    accuracy                           0.79        63\n",
      "   macro avg       0.60      0.59      0.59        63\n",
      "weighted avg       0.81      0.79      0.80        63\n",
      "\n"
     ]
    }
   ],
   "source": [
    "print(classification_report(Y_test,y_pred))"
   ]
  },
  {
   "cell_type": "code",
   "execution_count": 30,
   "metadata": {},
   "outputs": [],
   "source": [
    "results = model.evals_result()"
   ]
  },
  {
   "cell_type": "code",
   "execution_count": 31,
   "metadata": {},
   "outputs": [],
   "source": [
    "ephocs = len(results['validation_0']['merror'])"
   ]
  },
  {
   "cell_type": "code",
   "execution_count": 32,
   "metadata": {},
   "outputs": [],
   "source": [
    "x_axis = range(0, ephocs)"
   ]
  },
  {
   "cell_type": "code",
   "execution_count": 49,
   "metadata": {},
   "outputs": [],
   "source": [
    "with open('./Logs/B_XGB_stats.log', 'a+') as f:\n",
    "           f.write('\\n======================12---10 Saved!========================================\\n' + filename  +'\\n\\n' + str(CM) +'\\n\\n' + 'Dimensions: ' + str(x_dim) + '\\n'+ 'Testing Accuracy: ' + str(000) + ' Training Acc: ' + str(000) + '\\nTesting Score: '+ str(accuracy) + '\\n\\n' + classification_report(Y_test,y_pred))"
   ]
  },
  {
   "cell_type": "markdown",
   "metadata": {},
   "source": [
    "### Plots"
   ]
  },
  {
   "cell_type": "code",
   "execution_count": 41,
   "metadata": {},
   "outputs": [
    {
     "data": {
      "image/png": "[encoded data removed]",
      "text/plain": [
       "<Figure size 432x288 with 1 Axes>"
      ]
     },
     "metadata": {
      "needs_background": "light"
     },
     "output_type": "display_data"
    }
   ],
   "source": [
    "fig, ax = plt.subplots()\n",
    "ax.plot(x_axis, results['validation_0']['mlogloss'], label = 'Train')\n",
    "ax.plot(x_axis, results['validation_1']['mlogloss'], label = 'Test')\n",
    "ax.legend()\n",
    "plt.ylabel('Log loss')\n",
    "plt.xlabel('Ephocs')\n",
    "plt.title('Log loss')\n",
    "# model_name_ = '../../Models/XGB_Dataset_B_79_E17_V1'\n",
    "# plt.savefig(model_name_ + '_lL_'+ '.jpg')\n",
    "# plt.savefig(model_name_ + '_lL_'+ '.png')\n"
   ]
  },
  {
   "cell_type": "code",
   "execution_count": 42,
   "metadata": {},
   "outputs": [
    {
     "data": {
      "image/png": "[encoded data removed]",
      "text/plain": [
       "<Figure size 432x288 with 1 Axes>"
      ]
     },
     "metadata": {
      "needs_background": "light"
     },
     "output_type": "display_data"
    }
   ],
   "source": [
    "fig, ax = plt.subplots()\n",
    "ax.plot(x_axis, results['validation_0']['merror'], label = 'Train')\n",
    "ax.plot(x_axis, results['validation_1']['merror'], label = 'Test')\n",
    "ax.legend()\n",
    "plt.ylabel('Log loss')\n",
    "plt.xlabel('Ephocs')\n",
    "plt.title('Classification loss')\n",
    "# plt.savefig(model_name_ + '_CL_'+ '.jpg')\n",
    "# plt.savefig(model_name_ + '_CL_'+ '.png')\n",
    "# plt.show()"
   ]
  },
  {
   "cell_type": "code",
   "execution_count": 43,
   "metadata": {},
   "outputs": [
    {
     "data": {
      "image/png": "[encoded data removed]",
      "text/plain": [
       "<Figure size 432x288 with 1 Axes>"
      ]
     },
     "metadata": {
      "needs_background": "light"
     },
     "output_type": "display_data"
    }
   ],
   "source": [
    "a = xgb.plot_importance(model)\n",
    "# a.figure.savefig(model_name_ + '.jpg')\n",
    "# a.figure.savefig(model_name_ + '.png')"
   ]
  },
  {
   "cell_type": "code",
   "execution_count": 37,
   "metadata": {},
   "outputs": [],
   "source": [
    "import pickle"
   ]
  },
  {
   "cell_type": "code",
   "execution_count": 45,
   "metadata": {},
   "outputs": [],
   "source": [
    "# # Saving the Model\n",
    "\n",
    "# model_ = open(model_name_ + '.pkl', \"wb\")\n",
    "# pickle.dump(model,model_)\n",
    "# model_pkl = open(model_name_ + '.pkl', \"rb\")\n",
    "# model_test = pickle.load(model_pkl)"
   ]
  },
  {
   "cell_type": "code",
   "execution_count": 55,
   "metadata": {},
   "outputs": [
    {
     "data": {
      "text/plain": [
       "array([1, 1, 1, 1, 1, 1, 1, 1, 1, 1, 1])"
      ]
     },
     "execution_count": 55,
     "metadata": {},
     "output_type": "execute_result"
    }
   ],
   "source": [
    "model_test.predict(P)"
   ]
  },
  {
   "cell_type": "code",
   "execution_count": 46,
   "metadata": {},
   "outputs": [
    {
     "data": {
      "text/html": [
       "<div>\n",
       "<style scoped>\n",
       "    .dataframe tbody tr th:only-of-type {\n",
       "        vertical-align: middle;\n",
       "    }\n",
       "\n",
       "    .dataframe tbody tr th {\n",
       "        vertical-align: top;\n",
       "    }\n",
       "\n",
       "    .dataframe thead th {\n",
       "        text-align: right;\n",
       "    }\n",
       "</style>\n",
       "<table border=\"1\" class=\"dataframe\">\n",
       "  <thead>\n",
       "    <tr style=\"text-align: right;\">\n",
       "      <th></th>\n",
       "      <th>Features</th>\n",
       "      <th>Importances</th>\n",
       "    </tr>\n",
       "  </thead>\n",
       "  <tbody>\n",
       "    <tr>\n",
       "      <th>2</th>\n",
       "      <td>stdPCA3</td>\n",
       "      <td>0.075800</td>\n",
       "    </tr>\n",
       "    <tr>\n",
       "      <th>0</th>\n",
       "      <td>stdPCA1</td>\n",
       "      <td>0.068115</td>\n",
       "    </tr>\n",
       "    <tr>\n",
       "      <th>10</th>\n",
       "      <td>rebuilError</td>\n",
       "      <td>0.064187</td>\n",
       "    </tr>\n",
       "    <tr>\n",
       "      <th>21</th>\n",
       "      <td>posRatio</td>\n",
       "      <td>0.056096</td>\n",
       "    </tr>\n",
       "    <tr>\n",
       "      <th>16</th>\n",
       "      <td>posFFT</td>\n",
       "      <td>0.045842</td>\n",
       "    </tr>\n",
       "    <tr>\n",
       "      <th>11</th>\n",
       "      <td>ratios</td>\n",
       "      <td>0.044549</td>\n",
       "    </tr>\n",
       "    <tr>\n",
       "      <th>9</th>\n",
       "      <td>stdS2</td>\n",
       "      <td>0.041932</td>\n",
       "    </tr>\n",
       "    <tr>\n",
       "      <th>12</th>\n",
       "      <td>stdFFTSHA</td>\n",
       "      <td>0.041457</td>\n",
       "    </tr>\n",
       "    <tr>\n",
       "      <th>14</th>\n",
       "      <td>stdlenFFTSHA</td>\n",
       "      <td>0.040287</td>\n",
       "    </tr>\n",
       "    <tr>\n",
       "      <th>15</th>\n",
       "      <td>lenstdFFTSHA</td>\n",
       "      <td>0.039567</td>\n",
       "    </tr>\n",
       "    <tr>\n",
       "      <th>1</th>\n",
       "      <td>stdPCA2</td>\n",
       "      <td>0.039361</td>\n",
       "    </tr>\n",
       "    <tr>\n",
       "      <th>7</th>\n",
       "      <td>meanS2</td>\n",
       "      <td>0.038558</td>\n",
       "    </tr>\n",
       "    <tr>\n",
       "      <th>8</th>\n",
       "      <td>stdS1</td>\n",
       "      <td>0.037565</td>\n",
       "    </tr>\n",
       "    <tr>\n",
       "      <th>6</th>\n",
       "      <td>meanS1</td>\n",
       "      <td>0.036037</td>\n",
       "    </tr>\n",
       "    <tr>\n",
       "      <th>3</th>\n",
       "      <td>meanPCA1</td>\n",
       "      <td>0.035384</td>\n",
       "    </tr>\n",
       "    <tr>\n",
       "      <th>19</th>\n",
       "      <td>mmstdS1</td>\n",
       "      <td>0.035021</td>\n",
       "    </tr>\n",
       "    <tr>\n",
       "      <th>23</th>\n",
       "      <td>meanWavelet</td>\n",
       "      <td>0.034422</td>\n",
       "    </tr>\n",
       "    <tr>\n",
       "      <th>5</th>\n",
       "      <td>meanPCA3</td>\n",
       "      <td>0.034381</td>\n",
       "    </tr>\n",
       "    <tr>\n",
       "      <th>13</th>\n",
       "      <td>lenFFTSHA</td>\n",
       "      <td>0.034315</td>\n",
       "    </tr>\n",
       "    <tr>\n",
       "      <th>4</th>\n",
       "      <td>meanPCA2</td>\n",
       "      <td>0.033936</td>\n",
       "    </tr>\n",
       "    <tr>\n",
       "      <th>17</th>\n",
       "      <td>maxstdS1</td>\n",
       "      <td>0.033601</td>\n",
       "    </tr>\n",
       "    <tr>\n",
       "      <th>18</th>\n",
       "      <td>maxstdS2</td>\n",
       "      <td>0.032969</td>\n",
       "    </tr>\n",
       "    <tr>\n",
       "      <th>22</th>\n",
       "      <td>stdWavelet</td>\n",
       "      <td>0.030399</td>\n",
       "    </tr>\n",
       "    <tr>\n",
       "      <th>20</th>\n",
       "      <td>mmstdS2</td>\n",
       "      <td>0.026219</td>\n",
       "    </tr>\n",
       "  </tbody>\n",
       "</table>\n",
       "</div>"
      ],
      "text/plain": [
       "        Features  Importances\n",
       "2        stdPCA3     0.075800\n",
       "0        stdPCA1     0.068115\n",
       "10   rebuilError     0.064187\n",
       "21      posRatio     0.056096\n",
       "16        posFFT     0.045842\n",
       "11        ratios     0.044549\n",
       "9          stdS2     0.041932\n",
       "12     stdFFTSHA     0.041457\n",
       "14  stdlenFFTSHA     0.040287\n",
       "15  lenstdFFTSHA     0.039567\n",
       "1        stdPCA2     0.039361\n",
       "7         meanS2     0.038558\n",
       "8          stdS1     0.037565\n",
       "6         meanS1     0.036037\n",
       "3       meanPCA1     0.035384\n",
       "19       mmstdS1     0.035021\n",
       "23   meanWavelet     0.034422\n",
       "5       meanPCA3     0.034381\n",
       "13     lenFFTSHA     0.034315\n",
       "4       meanPCA2     0.033936\n",
       "17      maxstdS1     0.033601\n",
       "18      maxstdS2     0.032969\n",
       "22    stdWavelet     0.030399\n",
       "20       mmstdS2     0.026219"
      ]
     },
     "execution_count": 46,
     "metadata": {},
     "output_type": "execute_result"
    }
   ],
   "source": [
    "importances = model.feature_importances_\n",
    "\n",
    "importances_ = importances.tolist()\n",
    "labels = ['stdPCA1', 'stdPCA2', 'stdPCA3', 'meanPCA1', \n",
    "               'meanPCA2', 'meanPCA3', 'meanS1', 'meanS2', \n",
    "          'stdS1', 'stdS2','rebuilError', 'ratios','stdFFTSHA' ,\n",
    "          'lenFFTSHA', 'stdlenFFTSHA' ,'lenstdFFTSHA' ,'posFFT',\n",
    "         'maxstdS1', 'maxstdS2', 'mmstdS1', 'mmstdS2',\n",
    "         'posRatio','stdWavelet','meanWavelet']\n",
    "\n",
    "labels= pd.DataFrame(labels)\n",
    "importances_ = pd.DataFrame(importances_)\n",
    "\n",
    "FEAT_IMPORT = pd.concat([labels, importances_], axis = 1)\n",
    "\n",
    "FEAT_IMPORT.columns = ['Features', 'Importances']\n",
    "FEAT_IMPORT.sort_values(by=['Importances'], ascending = False)"
   ]
  },
  {
   "cell_type": "code",
   "execution_count": 47,
   "metadata": {},
   "outputs": [
    {
     "data": {
      "image/png": "[encoded data removed]",
      "text/plain": [
       "<Figure size 432x288 with 1 Axes>"
      ]
     },
     "metadata": {
      "needs_background": "light"
     },
     "output_type": "display_data"
    }
   ],
   "source": [
    "b = np.sort(model.feature_importances_)\n",
    "plt.barh(range(len(FEAT_IMPORT)), np.sort(FEAT_IMPORT[\"Importances\"]))\n",
    "plt.ylabel('Features')\n",
    "plt.xlabel('Importances')\n",
    "plt.title(\"Feature Importances\")\n",
    "plt.show()"
   ]
  },
  {
   "cell_type": "code",
   "execution_count": null,
   "metadata": {},
   "outputs": [],
   "source": []
  }
 ],
 "metadata": {
  "kernelspec": {
   "display_name": "Python 3",
   "language": "python",
   "name": "python3"
  },
  "language_info": {
   "codemirror_mode": {
    "name": "ipython",
    "version": 3
   },
   "file_extension": ".py",
   "mimetype": "text/x-python",
   "name": "python",
   "nbconvert_exporter": "python",
   "pygments_lexer": "ipython3",
   "version": "3.8.5"
  }
 },
 "nbformat": 4,
 "nbformat_minor": 2
}