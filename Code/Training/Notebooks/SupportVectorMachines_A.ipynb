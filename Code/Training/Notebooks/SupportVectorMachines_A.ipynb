{
 "cells": [
  {
   "cell_type": "code",
   "execution_count": 1,
   "metadata": {},
   "outputs": [],
   "source": [
    "import numpy as np\n",
    "import pandas as pd\n",
    "import seaborn as sns\n",
    "import matplotlib.pyplot as plt\n",
    "from sklearn import svm\n",
    "\n",
    "from sklearn import preprocessing\n",
    "from sklearn.model_selection import train_test_split, learning_curve\n",
    "from sklearn.preprocessing import StandardScaler\n",
    "from sklearn.metrics import confusion_matrix,classification_report,accuracy_score\n",
    "from sklearn.svm import SVC\n",
    "from sklearn.model_selection import cross_val_score, GridSearchCV\n",
    "from sklearn.utils import shuffle"
   ]
  },
  {
   "cell_type": "markdown",
   "metadata": {},
   "source": [
    "### Loading data"
   ]
  },
  {
   "cell_type": "code",
   "execution_count": 2,
   "metadata": {},
   "outputs": [
    {
     "data": {
      "text/html": [
       "<div>\n",
       "<style scoped>\n",
       "    .dataframe tbody tr th:only-of-type {\n",
       "        vertical-align: middle;\n",
       "    }\n",
       "\n",
       "    .dataframe tbody tr th {\n",
       "        vertical-align: top;\n",
       "    }\n",
       "\n",
       "    .dataframe thead th {\n",
       "        text-align: right;\n",
       "    }\n",
       "</style>\n",
       "<table border=\"1\" class=\"dataframe\">\n",
       "  <thead>\n",
       "    <tr style=\"text-align: right;\">\n",
       "      <th></th>\n",
       "      <th>stdPCA1</th>\n",
       "      <th>stdPCA2</th>\n",
       "      <th>stdPCA3</th>\n",
       "      <th>meanPCA1</th>\n",
       "      <th>meanPCA2</th>\n",
       "      <th>meanPCA3</th>\n",
       "      <th>meanS1</th>\n",
       "      <th>meanS2</th>\n",
       "      <th>stdS1</th>\n",
       "      <th>stdS2</th>\n",
       "      <th>...</th>\n",
       "      <th>minstdS1</th>\n",
       "      <th>maxstdS1</th>\n",
       "      <th>mmstdS1</th>\n",
       "      <th>minstdS2</th>\n",
       "      <th>maxstdS2</th>\n",
       "      <th>mmstdS2</th>\n",
       "      <th>posRatio</th>\n",
       "      <th>stdWavelet</th>\n",
       "      <th>meanWavelet</th>\n",
       "      <th>class</th>\n",
       "    </tr>\n",
       "  </thead>\n",
       "  <tbody>\n",
       "    <tr>\n",
       "      <th>0</th>\n",
       "      <td>2.443969</td>\n",
       "      <td>1.956057</td>\n",
       "      <td>1.419750</td>\n",
       "      <td>-1.130227e-16</td>\n",
       "      <td>2.300462e-17</td>\n",
       "      <td>-3.150633e-17</td>\n",
       "      <td>630.9091</td>\n",
       "      <td>775.6364</td>\n",
       "      <td>27.21196</td>\n",
       "      <td>84.00985</td>\n",
       "      <td>...</td>\n",
       "      <td>23.28590</td>\n",
       "      <td>23.73020</td>\n",
       "      <td>19.31608</td>\n",
       "      <td>62.78225</td>\n",
       "      <td>79.19042</td>\n",
       "      <td>56.28153</td>\n",
       "      <td>0.260870</td>\n",
       "      <td>0.063271</td>\n",
       "      <td>0.006662</td>\n",
       "      <td>Normal</td>\n",
       "    </tr>\n",
       "    <tr>\n",
       "      <th>1</th>\n",
       "      <td>3.258185</td>\n",
       "      <td>1.120398</td>\n",
       "      <td>0.830715</td>\n",
       "      <td>-1.528407e-16</td>\n",
       "      <td>-4.200344e-17</td>\n",
       "      <td>5.618962e-17</td>\n",
       "      <td>2118.5000</td>\n",
       "      <td>2387.6670</td>\n",
       "      <td>258.09400</td>\n",
       "      <td>781.68690</td>\n",
       "      <td>...</td>\n",
       "      <td>258.09400</td>\n",
       "      <td>258.09400</td>\n",
       "      <td>258.09400</td>\n",
       "      <td>943.28040</td>\n",
       "      <td>27.57716</td>\n",
       "      <td>781.68690</td>\n",
       "      <td>0.666667</td>\n",
       "      <td>0.210681</td>\n",
       "      <td>0.006673</td>\n",
       "      <td>Normal</td>\n",
       "    </tr>\n",
       "    <tr>\n",
       "      <th>2</th>\n",
       "      <td>2.647761</td>\n",
       "      <td>1.797890</td>\n",
       "      <td>1.190613</td>\n",
       "      <td>-1.489627e-16</td>\n",
       "      <td>8.707632e-18</td>\n",
       "      <td>-5.675510e-18</td>\n",
       "      <td>1584.6670</td>\n",
       "      <td>1601.0000</td>\n",
       "      <td>445.91960</td>\n",
       "      <td>193.08370</td>\n",
       "      <td>...</td>\n",
       "      <td>511.94530</td>\n",
       "      <td>62.93250</td>\n",
       "      <td>445.91960</td>\n",
       "      <td>210.90600</td>\n",
       "      <td>50.29248</td>\n",
       "      <td>55.15433</td>\n",
       "      <td>0.250000</td>\n",
       "      <td>0.122422</td>\n",
       "      <td>-0.003863</td>\n",
       "      <td>Normal</td>\n",
       "    </tr>\n",
       "    <tr>\n",
       "      <th>3</th>\n",
       "      <td>2.767485</td>\n",
       "      <td>1.699618</td>\n",
       "      <td>1.107745</td>\n",
       "      <td>7.495414e-17</td>\n",
       "      <td>-2.916449e-17</td>\n",
       "      <td>-3.437746e-17</td>\n",
       "      <td>500.1667</td>\n",
       "      <td>687.0000</td>\n",
       "      <td>41.92381</td>\n",
       "      <td>37.17257</td>\n",
       "      <td>...</td>\n",
       "      <td>38.70518</td>\n",
       "      <td>38.58568</td>\n",
       "      <td>35.38503</td>\n",
       "      <td>34.71087</td>\n",
       "      <td>31.92091</td>\n",
       "      <td>29.30491</td>\n",
       "      <td>0.583333</td>\n",
       "      <td>0.516152</td>\n",
       "      <td>0.039785</td>\n",
       "      <td>Normal</td>\n",
       "    </tr>\n",
       "    <tr>\n",
       "      <th>4</th>\n",
       "      <td>2.381787</td>\n",
       "      <td>1.941468</td>\n",
       "      <td>1.482395</td>\n",
       "      <td>2.343804e-17</td>\n",
       "      <td>3.225815e-17</td>\n",
       "      <td>-4.268191e-17</td>\n",
       "      <td>601.9000</td>\n",
       "      <td>928.0909</td>\n",
       "      <td>46.01075</td>\n",
       "      <td>37.85883</td>\n",
       "      <td>...</td>\n",
       "      <td>37.46925</td>\n",
       "      <td>46.21087</td>\n",
       "      <td>37.83965</td>\n",
       "      <td>36.80957</td>\n",
       "      <td>31.54697</td>\n",
       "      <td>30.47039</td>\n",
       "      <td>0.000000</td>\n",
       "      <td>0.040477</td>\n",
       "      <td>0.001033</td>\n",
       "      <td>Normal</td>\n",
       "    </tr>\n",
       "  </tbody>\n",
       "</table>\n",
       "<p>5 rows × 27 columns</p>\n",
       "</div>"
      ],
      "text/plain": [
       "    stdPCA1   stdPCA2   stdPCA3      meanPCA1      meanPCA2      meanPCA3  \\\n",
       "0  2.443969  1.956057  1.419750 -1.130227e-16  2.300462e-17 -3.150633e-17   \n",
       "1  3.258185  1.120398  0.830715 -1.528407e-16 -4.200344e-17  5.618962e-17   \n",
       "2  2.647761  1.797890  1.190613 -1.489627e-16  8.707632e-18 -5.675510e-18   \n",
       "3  2.767485  1.699618  1.107745  7.495414e-17 -2.916449e-17 -3.437746e-17   \n",
       "4  2.381787  1.941468  1.482395  2.343804e-17  3.225815e-17 -4.268191e-17   \n",
       "\n",
       "      meanS1     meanS2      stdS1      stdS2  ...   minstdS1   maxstdS1  \\\n",
       "0   630.9091   775.6364   27.21196   84.00985  ...   23.28590   23.73020   \n",
       "1  2118.5000  2387.6670  258.09400  781.68690  ...  258.09400  258.09400   \n",
       "2  1584.6670  1601.0000  445.91960  193.08370  ...  511.94530   62.93250   \n",
       "3   500.1667   687.0000   41.92381   37.17257  ...   38.70518   38.58568   \n",
       "4   601.9000   928.0909   46.01075   37.85883  ...   37.46925   46.21087   \n",
       "\n",
       "     mmstdS1   minstdS2  maxstdS2    mmstdS2  posRatio  stdWavelet  \\\n",
       "0   19.31608   62.78225  79.19042   56.28153  0.260870    0.063271   \n",
       "1  258.09400  943.28040  27.57716  781.68690  0.666667    0.210681   \n",
       "2  445.91960  210.90600  50.29248   55.15433  0.250000    0.122422   \n",
       "3   35.38503   34.71087  31.92091   29.30491  0.583333    0.516152   \n",
       "4   37.83965   36.80957  31.54697   30.47039  0.000000    0.040477   \n",
       "\n",
       "   meanWavelet   class  \n",
       "0     0.006662  Normal  \n",
       "1     0.006673  Normal  \n",
       "2    -0.003863  Normal  \n",
       "3     0.039785  Normal  \n",
       "4     0.001033  Normal  \n",
       "\n",
       "[5 rows x 27 columns]"
      ]
     },
     "execution_count": 2,
     "metadata": {},
     "output_type": "execute_result"
    }
   ],
   "source": [
    "filename = '../../Dataset/heartbeatFeaturesA4.csv'\n",
    "df = pd.read_csv(filename)\n",
    "\n",
    "# Remove the extra column read\n",
    "\n",
    "toremove = df.shape[1] -1 \n",
    "df = df.iloc[:, 0:toremove]\n",
    "df.head()"
   ]
  },
  {
   "cell_type": "markdown",
   "metadata": {},
   "source": [
    "# Some stats"
   ]
  },
  {
   "cell_type": "code",
   "execution_count": 3,
   "metadata": {},
   "outputs": [
    {
     "data": {
      "text/plain": [
       "(124, 27)"
      ]
     },
     "execution_count": 3,
     "metadata": {},
     "output_type": "execute_result"
    }
   ],
   "source": [
    "df.shape"
   ]
  },
  {
   "cell_type": "code",
   "execution_count": 4,
   "metadata": {},
   "outputs": [
    {
     "data": {
      "image/png": "[encoded data removed]",
      "text/plain": [
       "<Figure size 432x288 with 1 Axes>"
      ]
     },
     "metadata": {
      "needs_background": "light"
     },
     "output_type": "display_data"
    }
   ],
   "source": [
    "plot = sns.countplot(x='class', data=df).set_title('Dataset-B Distribution').get_figure()"
   ]
  },
  {
   "cell_type": "markdown",
   "metadata": {},
   "source": [
    "### Column Selections - Inputs and Labels"
   ]
  },
  {
   "cell_type": "code",
   "execution_count": 5,
   "metadata": {},
   "outputs": [
    {
     "data": {
      "text/html": [
       "<div>\n",
       "<style scoped>\n",
       "    .dataframe tbody tr th:only-of-type {\n",
       "        vertical-align: middle;\n",
       "    }\n",
       "\n",
       "    .dataframe tbody tr th {\n",
       "        vertical-align: top;\n",
       "    }\n",
       "\n",
       "    .dataframe thead th {\n",
       "        text-align: right;\n",
       "    }\n",
       "</style>\n",
       "<table border=\"1\" class=\"dataframe\">\n",
       "  <thead>\n",
       "    <tr style=\"text-align: right;\">\n",
       "      <th></th>\n",
       "      <th>stdPCA1</th>\n",
       "      <th>stdPCA2</th>\n",
       "      <th>stdPCA3</th>\n",
       "      <th>meanPCA1</th>\n",
       "      <th>meanPCA2</th>\n",
       "      <th>meanPCA3</th>\n",
       "      <th>meanS1</th>\n",
       "      <th>meanS2</th>\n",
       "      <th>stdS1</th>\n",
       "      <th>stdS2</th>\n",
       "      <th>...</th>\n",
       "      <th>ratios</th>\n",
       "      <th>stdFFTSHA</th>\n",
       "      <th>lenFFTSHA</th>\n",
       "      <th>stdlenFFTSHA</th>\n",
       "      <th>lenstdFFTSHA</th>\n",
       "      <th>posFFT</th>\n",
       "      <th>maxstdS1</th>\n",
       "      <th>maxstdS2</th>\n",
       "      <th>mmstdS1</th>\n",
       "      <th>mmstdS2</th>\n",
       "    </tr>\n",
       "  </thead>\n",
       "  <tbody>\n",
       "    <tr>\n",
       "      <th>0</th>\n",
       "      <td>0.319128</td>\n",
       "      <td>0.725107</td>\n",
       "      <td>0.834288</td>\n",
       "      <td>0.525408</td>\n",
       "      <td>0.563569</td>\n",
       "      <td>0.483254</td>\n",
       "      <td>0.136398</td>\n",
       "      <td>0.030223</td>\n",
       "      <td>0.013630</td>\n",
       "      <td>0.008166</td>\n",
       "      <td>...</td>\n",
       "      <td>0.471032</td>\n",
       "      <td>0.149668</td>\n",
       "      <td>0.200000</td>\n",
       "      <td>0.099185</td>\n",
       "      <td>0.011421</td>\n",
       "      <td>0.416667</td>\n",
       "      <td>0.016788</td>\n",
       "      <td>0.007698</td>\n",
       "      <td>0.013665</td>\n",
       "      <td>0.005471</td>\n",
       "    </tr>\n",
       "    <tr>\n",
       "      <th>1</th>\n",
       "      <td>0.930489</td>\n",
       "      <td>0.080488</td>\n",
       "      <td>0.288644</td>\n",
       "      <td>0.511140</td>\n",
       "      <td>0.508514</td>\n",
       "      <td>0.600222</td>\n",
       "      <td>0.693966</td>\n",
       "      <td>0.126579</td>\n",
       "      <td>0.129271</td>\n",
       "      <td>0.075983</td>\n",
       "      <td>...</td>\n",
       "      <td>0.553571</td>\n",
       "      <td>0.175355</td>\n",
       "      <td>0.222222</td>\n",
       "      <td>0.101356</td>\n",
       "      <td>0.010620</td>\n",
       "      <td>0.375000</td>\n",
       "      <td>0.182591</td>\n",
       "      <td>0.002681</td>\n",
       "      <td>0.182591</td>\n",
       "      <td>0.075983</td>\n",
       "    </tr>\n",
       "    <tr>\n",
       "      <th>2</th>\n",
       "      <td>0.472147</td>\n",
       "      <td>0.603098</td>\n",
       "      <td>0.622030</td>\n",
       "      <td>0.512529</td>\n",
       "      <td>0.551461</td>\n",
       "      <td>0.517707</td>\n",
       "      <td>0.493878</td>\n",
       "      <td>0.079558</td>\n",
       "      <td>0.223347</td>\n",
       "      <td>0.018768</td>\n",
       "      <td>...</td>\n",
       "      <td>0.531235</td>\n",
       "      <td>0.096125</td>\n",
       "      <td>0.333333</td>\n",
       "      <td>0.080668</td>\n",
       "      <td>0.032069</td>\n",
       "      <td>0.125000</td>\n",
       "      <td>0.044522</td>\n",
       "      <td>0.004889</td>\n",
       "      <td>0.315471</td>\n",
       "      <td>0.005361</td>\n",
       "    </tr>\n",
       "    <tr>\n",
       "      <th>3</th>\n",
       "      <td>0.562043</td>\n",
       "      <td>0.527292</td>\n",
       "      <td>0.545267</td>\n",
       "      <td>0.592769</td>\n",
       "      <td>0.519388</td>\n",
       "      <td>0.479424</td>\n",
       "      <td>0.087394</td>\n",
       "      <td>0.024925</td>\n",
       "      <td>0.020998</td>\n",
       "      <td>0.003613</td>\n",
       "      <td>...</td>\n",
       "      <td>0.720608</td>\n",
       "      <td>0.111594</td>\n",
       "      <td>0.233333</td>\n",
       "      <td>0.087953</td>\n",
       "      <td>0.018741</td>\n",
       "      <td>0.250000</td>\n",
       "      <td>0.027298</td>\n",
       "      <td>0.003103</td>\n",
       "      <td>0.025034</td>\n",
       "      <td>0.002849</td>\n",
       "    </tr>\n",
       "    <tr>\n",
       "      <th>4</th>\n",
       "      <td>0.272438</td>\n",
       "      <td>0.713853</td>\n",
       "      <td>0.892318</td>\n",
       "      <td>0.574308</td>\n",
       "      <td>0.571406</td>\n",
       "      <td>0.468348</td>\n",
       "      <td>0.125525</td>\n",
       "      <td>0.039336</td>\n",
       "      <td>0.023045</td>\n",
       "      <td>0.003680</td>\n",
       "      <td>...</td>\n",
       "      <td>0.339286</td>\n",
       "      <td>0.562892</td>\n",
       "      <td>0.033333</td>\n",
       "      <td>0.784206</td>\n",
       "      <td>0.000460</td>\n",
       "      <td>0.500000</td>\n",
       "      <td>0.032692</td>\n",
       "      <td>0.003066</td>\n",
       "      <td>0.026770</td>\n",
       "      <td>0.002962</td>\n",
       "    </tr>\n",
       "  </tbody>\n",
       "</table>\n",
       "<p>5 rows × 21 columns</p>\n",
       "</div>"
      ],
      "text/plain": [
       "    stdPCA1   stdPCA2   stdPCA3  meanPCA1  meanPCA2  meanPCA3    meanS1  \\\n",
       "0  0.319128  0.725107  0.834288  0.525408  0.563569  0.483254  0.136398   \n",
       "1  0.930489  0.080488  0.288644  0.511140  0.508514  0.600222  0.693966   \n",
       "2  0.472147  0.603098  0.622030  0.512529  0.551461  0.517707  0.493878   \n",
       "3  0.562043  0.527292  0.545267  0.592769  0.519388  0.479424  0.087394   \n",
       "4  0.272438  0.713853  0.892318  0.574308  0.571406  0.468348  0.125525   \n",
       "\n",
       "     meanS2     stdS1     stdS2  ...    ratios  stdFFTSHA  lenFFTSHA  \\\n",
       "0  0.030223  0.013630  0.008166  ...  0.471032   0.149668   0.200000   \n",
       "1  0.126579  0.129271  0.075983  ...  0.553571   0.175355   0.222222   \n",
       "2  0.079558  0.223347  0.018768  ...  0.531235   0.096125   0.333333   \n",
       "3  0.024925  0.020998  0.003613  ...  0.720608   0.111594   0.233333   \n",
       "4  0.039336  0.023045  0.003680  ...  0.339286   0.562892   0.033333   \n",
       "\n",
       "   stdlenFFTSHA  lenstdFFTSHA    posFFT  maxstdS1  maxstdS2   mmstdS1  \\\n",
       "0      0.099185      0.011421  0.416667  0.016788  0.007698  0.013665   \n",
       "1      0.101356      0.010620  0.375000  0.182591  0.002681  0.182591   \n",
       "2      0.080668      0.032069  0.125000  0.044522  0.004889  0.315471   \n",
       "3      0.087953      0.018741  0.250000  0.027298  0.003103  0.025034   \n",
       "4      0.784206      0.000460  0.500000  0.032692  0.003066  0.026770   \n",
       "\n",
       "    mmstdS2  \n",
       "0  0.005471  \n",
       "1  0.075983  \n",
       "2  0.005361  \n",
       "3  0.002849  \n",
       "4  0.002962  \n",
       "\n",
       "[5 rows x 21 columns]"
      ]
     },
     "execution_count": 5,
     "metadata": {},
     "output_type": "execute_result"
    }
   ],
   "source": [
    "# Only take this select set of features from the Dataset A\n",
    "\n",
    "X = df.iloc[:,0:17]\n",
    "X[['maxstdS1', 'maxstdS2', 'mmstdS1', 'mmstdS2']] = df[['maxstdS1', 'maxstdS2','mmstdS1', 'mmstdS2']]\n",
    "\n",
    "# Normalise the features\n",
    "\n",
    "min_max_scaler = preprocessing.MinMaxScaler()\n",
    "x_scaled = min_max_scaler.fit_transform(X)\n",
    "X = pd.DataFrame(x_scaled)\n",
    "x_dim = X.shape[1]\n",
    "\n",
    "# Give the columns back their names....\n",
    "\n",
    "X.columns = [ 'stdPCA1', 'stdPCA2', 'stdPCA3', 'meanPCA1', \n",
    "               'meanPCA2', 'meanPCA3', 'meanS1', 'meanS2', \n",
    "          'stdS1', 'stdS2','rebuilError', 'ratios','stdFFTSHA' ,\n",
    "          'lenFFTSHA', 'stdlenFFTSHA' ,'lenstdFFTSHA' ,'posFFT',\n",
    "         'maxstdS1', 'maxstdS2', 'mmstdS1', 'mmstdS2']\n",
    "X.head()"
   ]
  },
  {
   "cell_type": "code",
   "execution_count": 6,
   "metadata": {},
   "outputs": [],
   "source": [
    "# For testing later on ....at In[25]\n",
    "\n",
    "np.set_printoptions(suppress=True)\n",
    "P = X.values[1:10,:]"
   ]
  },
  {
   "cell_type": "code",
   "execution_count": 7,
   "metadata": {},
   "outputs": [
    {
     "data": {
      "text/html": [
       "<div>\n",
       "<style scoped>\n",
       "    .dataframe tbody tr th:only-of-type {\n",
       "        vertical-align: middle;\n",
       "    }\n",
       "\n",
       "    .dataframe tbody tr th {\n",
       "        vertical-align: top;\n",
       "    }\n",
       "\n",
       "    .dataframe thead th {\n",
       "        text-align: right;\n",
       "    }\n",
       "</style>\n",
       "<table border=\"1\" class=\"dataframe\">\n",
       "  <thead>\n",
       "    <tr style=\"text-align: right;\">\n",
       "      <th></th>\n",
       "      <th>class</th>\n",
       "    </tr>\n",
       "  </thead>\n",
       "  <tbody>\n",
       "    <tr>\n",
       "      <th>0</th>\n",
       "      <td>Normal</td>\n",
       "    </tr>\n",
       "    <tr>\n",
       "      <th>1</th>\n",
       "      <td>Normal</td>\n",
       "    </tr>\n",
       "    <tr>\n",
       "      <th>2</th>\n",
       "      <td>Normal</td>\n",
       "    </tr>\n",
       "    <tr>\n",
       "      <th>3</th>\n",
       "      <td>Normal</td>\n",
       "    </tr>\n",
       "    <tr>\n",
       "      <th>4</th>\n",
       "      <td>Normal</td>\n",
       "    </tr>\n",
       "  </tbody>\n",
       "</table>\n",
       "</div>"
      ],
      "text/plain": [
       "    class\n",
       "0  Normal\n",
       "1  Normal\n",
       "2  Normal\n",
       "3  Normal\n",
       "4  Normal"
      ]
     },
     "execution_count": 7,
     "metadata": {},
     "output_type": "execute_result"
    }
   ],
   "source": [
    "# Get the classes\n",
    "\n",
    "Y = df.iloc[:,toremove-1:toremove]\n",
    "Y.head()"
   ]
  },
  {
   "cell_type": "code",
   "execution_count": 8,
   "metadata": {},
   "outputs": [
    {
     "name": "stdout",
     "output_type": "stream",
     "text": [
      "[3 3 3 3 3 3 3 3 3 3 3 3 3 3 3 3 3 3 3 3 3 3 3 3 3 3 3 3 3 3 3 2 2 2 2 2 2\n",
      " 2 2 2 2 2 2 2 2 2 2 2 2 2 2 2 2 2 2 2 2 2 2 2 2 2 2 2 2 1 1 1 1 1 1 1 1 1\n",
      " 1 1 1 1 1 1 1 1 1 1 1 1 1 1 1 1 1 0 0 0 0 0 0 0 0 0 0 0 0 0 0 0 0 0 0 0 0\n",
      " 0 0 0 0 0 0 0 0 0 0 0 0 0]\n"
     ]
    },
    {
     "name": "stderr",
     "output_type": "stream",
     "text": [
      "/usr/local/lib/python3.7/dist-packages/sklearn/preprocessing/label.py:219: DataConversionWarning: A column-vector y was passed when a 1d array was expected. Please change the shape of y to (n_samples, ), for example using ravel().\n",
      "  y = column_or_1d(y, warn=True)\n",
      "/usr/local/lib/python3.7/dist-packages/sklearn/preprocessing/label.py:252: DataConversionWarning: A column-vector y was passed when a 1d array was expected. Please change the shape of y to (n_samples, ), for example using ravel().\n",
      "  y = column_or_1d(y, warn=True)\n"
     ]
    }
   ],
   "source": [
    "# Condition the classes for Training\n",
    "\n",
    "encoder = preprocessing.LabelEncoder()\n",
    "encoder.fit(Y)\n",
    "Y = encoder.transform(Y)\n",
    "print(Y)"
   ]
  },
  {
   "cell_type": "markdown",
   "metadata": {},
   "source": [
    "## Data Split - Training and Testing Sets"
   ]
  },
  {
   "cell_type": "code",
   "execution_count": 9,
   "metadata": {},
   "outputs": [],
   "source": [
    "s_rand_state = 'NULL'\n",
    "\n",
    "# X,Y = shuffle(X,Y,random_state=s_rand_state)"
   ]
  },
  {
   "cell_type": "code",
   "execution_count": 10,
   "metadata": {},
   "outputs": [],
   "source": [
    "tt_rand_state = 0\n",
    "\n",
    "X_train,X_test, Y_train,Y_test = train_test_split(X, Y, test_size = 0.2, random_state = tt_rand_state)"
   ]
  },
  {
   "cell_type": "markdown",
   "metadata": {},
   "source": [
    "## Frequency Distribution of classes"
   ]
  },
  {
   "cell_type": "code",
   "execution_count": 11,
   "metadata": {},
   "outputs": [
    {
     "name": "stdout",
     "output_type": "stream",
     "text": [
      "Train distribution:  \n",
      " col_0  count\n",
      "row_0       \n",
      "0         27\n",
      "1         22\n",
      "2         26\n",
      "3         24 \n",
      "\n",
      "\t\n",
      "\n",
      " Test distribution:  \n",
      " col_0  count\n",
      "row_0       \n",
      "0          6\n",
      "1          4\n",
      "2          8\n",
      "3          7\n"
     ]
    }
   ],
   "source": [
    "train_outcome = pd.crosstab(index = Y_train, columns = \"count\")\n",
    "test_outcome = pd.crosstab(index = Y_test, columns = \"count\")\n",
    "\n",
    "print('Train distribution: ','\\n',train_outcome,'\\n\\n\\t\\n\\n','Test distribution: ','\\n',test_outcome)"
   ]
  },
  {
   "cell_type": "code",
   "execution_count": 12,
   "metadata": {},
   "outputs": [
    {
     "name": "stdout",
     "output_type": "stream",
     "text": [
      "Dimension of Train set (99, 21)\n",
      "Dimension of Test set (25, 21) \n",
      "\n"
     ]
    }
   ],
   "source": [
    "# Dimension of Train and Test set \n",
    "print(\"Dimension of Train set\",X_train.shape)\n",
    "print(\"Dimension of Test set\",X_test.shape,\"\\n\")\n"
   ]
  },
  {
   "cell_type": "code",
   "execution_count": 13,
   "metadata": {},
   "outputs": [
    {
     "name": "stdout",
     "output_type": "stream",
     "text": [
      "Number of numeric features: 21\n"
     ]
    }
   ],
   "source": [
    "# Total Number of Continous and Categorical features in the training set\n",
    "\n",
    "num_cols = X_train._get_numeric_data().columns\n",
    "print(\"Number of numeric features:\",num_cols.size)"
   ]
  },
  {
   "cell_type": "markdown",
   "metadata": {},
   "source": [
    "## Parameter Tuning"
   ]
  },
  {
   "cell_type": "code",
   "execution_count": 14,
   "metadata": {},
   "outputs": [],
   "source": [
    "# Hyperparameter tuning using grid search and cross validation\n",
    "\n",
    "params_grid = [{'kernel': ['rbf'], 'gamma': [1e-3, 1e-4],\n",
    "                     'C': [1, 10, 100, 1000]},\n",
    "                    {'kernel': ['linear'], 'C': [1, 10, 100, 1000]}]"
   ]
  },
  {
   "cell_type": "markdown",
   "metadata": {},
   "source": [
    "## Training SVM model using radial kernel"
   ]
  },
  {
   "cell_type": "code",
   "execution_count": 15,
   "metadata": {},
   "outputs": [
    {
     "name": "stderr",
     "output_type": "stream",
     "text": [
      "/usr/local/lib/python3.7/dist-packages/sklearn/model_selection/_search.py:813: DeprecationWarning: The default of the `iid` parameter will change from True to False in version 0.22 and will be removed in 0.24. This will change numeric results when test-set sizes are unequal.\n",
      "  DeprecationWarning)\n"
     ]
    },
    {
     "data": {
      "text/plain": [
       "GridSearchCV(cv=5, error_score='raise-deprecating',\n",
       "             estimator=SVC(C=1.0, cache_size=200, class_weight=None, coef0=0.0,\n",
       "                           decision_function_shape='ovr', degree=3,\n",
       "                           gamma='auto_deprecated', kernel='rbf', max_iter=-1,\n",
       "                           probability=True, random_state=None, shrinking=True,\n",
       "                           tol=0.001, verbose=False),\n",
       "             iid='warn', n_jobs=None,\n",
       "             param_grid=[{'C': [1, 10, 100, 1000], 'gamma': [0.001, 0.0001],\n",
       "                          'kernel': ['rbf']},\n",
       "                         {'C': [1, 10, 100, 1000], 'kernel': ['linear']}],\n",
       "             pre_dispatch='2*n_jobs', refit=True, return_train_score=False,\n",
       "             scoring=None, verbose=0)"
      ]
     },
     "execution_count": 15,
     "metadata": {},
     "output_type": "execute_result"
    }
   ],
   "source": [
    "svm_model = GridSearchCV(SVC(probability=True), params_grid, cv = 5)\n",
    "#svm_model = SVC()\n",
    "#train_sizes, train_scores, valid_scores = learning_curve(SVC(kernel = 'linear'),X_train, Y_train, cv = 5)\n",
    "svm_model.fit(X_train, Y_train)\n"
   ]
  },
  {
   "cell_type": "code",
   "execution_count": 16,
   "metadata": {},
   "outputs": [
    {
     "name": "stdout",
     "output_type": "stream",
     "text": [
      "Best C: 10 \n",
      "\n",
      "Best Kernel: linear \n",
      "\n",
      "Best Gamma: auto_deprecated \n",
      "\n"
     ]
    }
   ],
   "source": [
    "# View the accuracy score\n",
    "#print('Best score for training data:', svm_model.best_score_,\"\\n\") \n",
    "\n",
    "# View the best parameters for the model found using grid search\n",
    "print('Best C:',svm_model.best_estimator_.C,\"\\n\") \n",
    "print('Best Kernel:',svm_model.best_estimator_.kernel,\"\\n\")\n",
    "print('Best Gamma:',svm_model.best_estimator_.gamma,\"\\n\")\n"
   ]
  },
  {
   "cell_type": "code",
   "execution_count": 17,
   "metadata": {},
   "outputs": [],
   "source": [
    "# Build the final model\n",
    "\n",
    "final_model = svm_model.best_estimator_"
   ]
  },
  {
   "cell_type": "markdown",
   "metadata": {},
   "source": [
    "## Plots"
   ]
  },
  {
   "cell_type": "code",
   "execution_count": 18,
   "metadata": {},
   "outputs": [],
   "source": [
    "# plt.figure(figsize=(8, 8))\n",
    "# plt.subplot(2, 1, 1)\n",
    "# plt.plot(train_scores, label='Training Accuracy')\n",
    "# plt.plot(valid_scores, label='Validation Accuracy')\n",
    "# plt.legend(loc='upper right')\n",
    "# plt.ylabel('Accuracy')\n",
    "# plt.ylim([min(plt.ylim()),1])\n",
    "# plt.title('Training and Validation Accuracy')"
   ]
  },
  {
   "cell_type": "markdown",
   "metadata": {},
   "source": [
    "## Confusion Matrix and Accuracy score"
   ]
  },
  {
   "cell_type": "code",
   "execution_count": 19,
   "metadata": {},
   "outputs": [],
   "source": [
    "# Get the predicted scores\n",
    "#encoder = preprocessing.LabelEncoder()\n",
    "\n",
    "Y_pred = final_model.predict(X_test)\n",
    "#Y_pred_label = list(encoder.inverse_transform(Y_pred))"
   ]
  },
  {
   "cell_type": "code",
   "execution_count": 20,
   "metadata": {},
   "outputs": [
    {
     "name": "stdout",
     "output_type": "stream",
     "text": [
      "0.64\n"
     ]
    }
   ],
   "source": [
    "print(accuracy_score(Y_test,Y_pred))"
   ]
  },
  {
   "cell_type": "code",
   "execution_count": 21,
   "metadata": {},
   "outputs": [
    {
     "name": "stdout",
     "output_type": "stream",
     "text": [
      "[[4 2 0 0]\n",
      " [3 1 0 0]\n",
      " [0 0 7 1]\n",
      " [0 1 2 4]]\n",
      "\n",
      "\n",
      "              precision    recall  f1-score   support\n",
      "\n",
      "           0       0.57      0.67      0.62         6\n",
      "           1       0.25      0.25      0.25         4\n",
      "           2       0.78      0.88      0.82         8\n",
      "           3       0.80      0.57      0.67         7\n",
      "\n",
      "    accuracy                           0.64        25\n",
      "   macro avg       0.60      0.59      0.59        25\n",
      "weighted avg       0.65      0.64      0.64        25\n",
      "\n",
      "Training set score for SVM: 0.787879\n",
      "Testing  set score for SVM: 0.640000\n"
     ]
    },
    {
     "data": {
      "text/plain": [
       "<bound method BaseSearchCV.score of GridSearchCV(cv=5, error_score='raise-deprecating',\n",
       "             estimator=SVC(C=1.0, cache_size=200, class_weight=None, coef0=0.0,\n",
       "                           decision_function_shape='ovr', degree=3,\n",
       "                           gamma='auto_deprecated', kernel='rbf', max_iter=-1,\n",
       "                           probability=True, random_state=None, shrinking=True,\n",
       "                           tol=0.001, verbose=False),\n",
       "             iid='warn', n_jobs=None,\n",
       "             param_grid=[{'C': [1, 10, 100, 1000], 'gamma': [0.001, 0.0001],\n",
       "                          'kernel': ['rbf']},\n",
       "                         {'C': [1, 10, 100, 1000], 'kernel': ['linear']}],\n",
       "             pre_dispatch='2*n_jobs', refit=True, return_train_score=False,\n",
       "             scoring=None, verbose=0)>"
      ]
     },
     "execution_count": 21,
     "metadata": {},
     "output_type": "execute_result"
    }
   ],
   "source": [
    "# Making the Confusion Matrix\n",
    "#print(pd.crosstab(Y_test_label, Y_pred_label, rownames=['Actual Activity'], colnames=['Predicted Activity']))\n",
    "print(confusion_matrix(Y_test,Y_pred))\n",
    "print(\"\\n\")\n",
    "print(classification_report(Y_test,Y_pred))\n",
    "\n",
    "Training_score = final_model.score(X_train , Y_train)\n",
    "Testing_score  = final_model.score(X_test  , Y_test )\n",
    "\n",
    "print(\"Training set score for SVM: %f\" % Training_score)\n",
    "print(\"Testing  set score for SVM: %f\" % Testing_score)\n",
    "\n",
    "svm_model.score"
   ]
  },
  {
   "cell_type": "code",
   "execution_count": 22,
   "metadata": {},
   "outputs": [],
   "source": [
    "# Loggin runs....\n",
    "\n",
    "with open('./Logs/A_SVM_stats.log', 'a+') as f:\n",
    "            f.write('\\n==============================================================\\n' + filename  +'\\n\\n' + 'Shuffle rand state: '+ str(s_rand_state)+'\\n'+ 'Test Train rand state : '+ str(tt_rand_state) +'\\n\\n'+ str(confusion_matrix(Y_test,Y_pred)) +'\\n\\n' + 'Dimensions: ' + str(x_dim) + '\\n'+ 'Testing Accuracy: ' + str(final_model.score(X_test  , Y_test )) + ' Training Acc: ' + str(final_model.score(X_train , Y_train)) + '\\nTesting Score: '+ str(accuracy_score(Y_test,Y_pred)) + '\\n\\n' + classification_report(Y_test,Y_pred))"
   ]
  },
  {
   "cell_type": "markdown",
   "metadata": {},
   "source": [
    "## Saving The Model\n"
   ]
  },
  {
   "cell_type": "code",
   "execution_count": 23,
   "metadata": {},
   "outputs": [],
   "source": [
    "import pickle"
   ]
  },
  {
   "cell_type": "code",
   "execution_count": 24,
   "metadata": {},
   "outputs": [],
   "source": [
    "trs = str(int(Training_score*100))\n",
    "tss = str(int(Testing_score*100))"
   ]
  },
  {
   "cell_type": "code",
   "execution_count": 25,
   "metadata": {},
   "outputs": [
    {
     "name": "stdout",
     "output_type": "stream",
     "text": [
      "../../Models/A_SVM_tss_64_trs_78\n"
     ]
    }
   ],
   "source": [
    "model_name_ = '../../Models/A_SVM_tss_' + tss + '_trs_' + trs\n",
    "print(model_name_)"
   ]
  },
  {
   "cell_type": "code",
   "execution_count": 26,
   "metadata": {
    "scrolled": true
   },
   "outputs": [],
   "source": [
    "model = open(model_name_ + '.pkl', \"wb\")\n",
    "pickle.dump(svm_model,model)\n",
    "model_pkl = open(model_name_ + '.pkl', \"rb\")\n",
    "model_test = pickle.load(model_pkl)"
   ]
  },
  {
   "cell_type": "code",
   "execution_count": 27,
   "metadata": {},
   "outputs": [
    {
     "data": {
      "text/plain": [
       "array([[0.05121309, 0.20620764, 0.36784091, 0.37473837],\n",
       "       [0.02486628, 0.38163373, 0.17532868, 0.41817131],\n",
       "       [0.12148899, 0.17553211, 0.37133555, 0.33164334],\n",
       "       [0.12381745, 0.33914928, 0.13948614, 0.39754713],\n",
       "       [0.04119851, 0.36222928, 0.16607976, 0.43049244],\n",
       "       [0.07991038, 0.35517625, 0.09240797, 0.4725054 ],\n",
       "       [0.06279545, 0.24542579, 0.35021543, 0.34156334],\n",
       "       [0.22830459, 0.11552385, 0.43441621, 0.22175534],\n",
       "       [0.02026197, 0.42160465, 0.04730789, 0.51082548]])"
      ]
     },
     "execution_count": 27,
     "metadata": {},
     "output_type": "execute_result"
    }
   ],
   "source": [
    "model_test.predict_proba(P)"
   ]
  },
  {
   "cell_type": "code",
   "execution_count": 28,
   "metadata": {},
   "outputs": [
    {
     "data": {
      "text/plain": [
       "array([3, 3, 3, 3, 1, 3, 3, 2, 1])"
      ]
     },
     "execution_count": 28,
     "metadata": {},
     "output_type": "execute_result"
    }
   ],
   "source": [
    "model_test.predict(P)"
   ]
  }
 ],
 "metadata": {
  "kernelspec": {
   "display_name": "Python 3",
   "language": "python",
   "name": "python3"
  },
  "language_info": {
   "codemirror_mode": {
    "name": "ipython",
    "version": 3
   },
   "file_extension": ".py",
   "mimetype": "text/x-python",
   "name": "python",
   "nbconvert_exporter": "python",
   "pygments_lexer": "ipython3",
   "version": "3.7.3"
  }
 },
 "nbformat": 4,
 "nbformat_minor": 2
}
