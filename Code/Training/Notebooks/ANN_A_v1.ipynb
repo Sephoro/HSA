{
 "cells": [
  {
   "cell_type": "code",
   "execution_count": 1,
   "metadata": {},
   "outputs": [
    {
     "name": "stderr",
     "output_type": "stream",
     "text": [
      "WARNING (theano.tensor.blas): Using NumPy C-API based implementation for BLAS functions.\n"
     ]
    }
   ],
   "source": [
    "import theano\n",
    "import tensorflow\n",
    "import numpy as np\n",
    "import matplotlib.pyplot as plt\n",
    "import pandas as pd\n",
    "import seaborn as sns\n",
    "from sklearn.utils import shuffle\n",
    "from sklearn.model_selection import cross_val_score\n",
    "from sklearn.model_selection import KFold\n",
    "from sklearn import preprocessing\n",
    "\n",
    "from sklearn.metrics import confusion_matrix,classification_report, accuracy_score"
   ]
  },
  {
   "cell_type": "code",
   "execution_count": 3,
   "metadata": {
    "scrolled": true
   },
   "outputs": [
    {
     "data": {
      "text/html": [
       "<div>\n",
       "<style scoped>\n",
       "    .dataframe tbody tr th:only-of-type {\n",
       "        vertical-align: middle;\n",
       "    }\n",
       "\n",
       "    .dataframe tbody tr th {\n",
       "        vertical-align: top;\n",
       "    }\n",
       "\n",
       "    .dataframe thead th {\n",
       "        text-align: right;\n",
       "    }\n",
       "</style>\n",
       "<table border=\"1\" class=\"dataframe\">\n",
       "  <thead>\n",
       "    <tr style=\"text-align: right;\">\n",
       "      <th></th>\n",
       "      <th>stdPCA1</th>\n",
       "      <th>stdPCA2</th>\n",
       "      <th>stdPCA3</th>\n",
       "      <th>meanPCA1</th>\n",
       "      <th>meanPCA2</th>\n",
       "      <th>meanPCA3</th>\n",
       "      <th>meanS1</th>\n",
       "      <th>meanS2</th>\n",
       "      <th>stdS1</th>\n",
       "      <th>stdS2</th>\n",
       "      <th>...</th>\n",
       "      <th>minstdS1</th>\n",
       "      <th>maxstdS1</th>\n",
       "      <th>mmstdS1</th>\n",
       "      <th>minstdS2</th>\n",
       "      <th>maxstdS2</th>\n",
       "      <th>mmstdS2</th>\n",
       "      <th>posRatio</th>\n",
       "      <th>stdWavelet</th>\n",
       "      <th>meanWavelet</th>\n",
       "      <th>class</th>\n",
       "    </tr>\n",
       "  </thead>\n",
       "  <tbody>\n",
       "    <tr>\n",
       "      <th>0</th>\n",
       "      <td>2.443969</td>\n",
       "      <td>1.956057</td>\n",
       "      <td>1.419750</td>\n",
       "      <td>-1.130227e-16</td>\n",
       "      <td>2.300462e-17</td>\n",
       "      <td>-3.150633e-17</td>\n",
       "      <td>630.9091</td>\n",
       "      <td>775.6364</td>\n",
       "      <td>27.21196</td>\n",
       "      <td>84.00985</td>\n",
       "      <td>...</td>\n",
       "      <td>23.28590</td>\n",
       "      <td>23.73020</td>\n",
       "      <td>19.31608</td>\n",
       "      <td>62.78225</td>\n",
       "      <td>79.19042</td>\n",
       "      <td>56.28153</td>\n",
       "      <td>0.260870</td>\n",
       "      <td>0.063271</td>\n",
       "      <td>0.006662</td>\n",
       "      <td>Normal</td>\n",
       "    </tr>\n",
       "    <tr>\n",
       "      <th>1</th>\n",
       "      <td>3.258185</td>\n",
       "      <td>1.120398</td>\n",
       "      <td>0.830715</td>\n",
       "      <td>-1.528407e-16</td>\n",
       "      <td>-4.200344e-17</td>\n",
       "      <td>5.618962e-17</td>\n",
       "      <td>2118.5000</td>\n",
       "      <td>2387.6670</td>\n",
       "      <td>258.09400</td>\n",
       "      <td>781.68690</td>\n",
       "      <td>...</td>\n",
       "      <td>258.09400</td>\n",
       "      <td>258.09400</td>\n",
       "      <td>258.09400</td>\n",
       "      <td>943.28040</td>\n",
       "      <td>27.57716</td>\n",
       "      <td>781.68690</td>\n",
       "      <td>0.666667</td>\n",
       "      <td>0.210681</td>\n",
       "      <td>0.006673</td>\n",
       "      <td>Normal</td>\n",
       "    </tr>\n",
       "    <tr>\n",
       "      <th>2</th>\n",
       "      <td>2.647761</td>\n",
       "      <td>1.797890</td>\n",
       "      <td>1.190613</td>\n",
       "      <td>-1.489627e-16</td>\n",
       "      <td>8.707632e-18</td>\n",
       "      <td>-5.675510e-18</td>\n",
       "      <td>1584.6670</td>\n",
       "      <td>1601.0000</td>\n",
       "      <td>445.91960</td>\n",
       "      <td>193.08370</td>\n",
       "      <td>...</td>\n",
       "      <td>511.94530</td>\n",
       "      <td>62.93250</td>\n",
       "      <td>445.91960</td>\n",
       "      <td>210.90600</td>\n",
       "      <td>50.29248</td>\n",
       "      <td>55.15433</td>\n",
       "      <td>0.250000</td>\n",
       "      <td>0.122422</td>\n",
       "      <td>-0.003863</td>\n",
       "      <td>Normal</td>\n",
       "    </tr>\n",
       "    <tr>\n",
       "      <th>3</th>\n",
       "      <td>2.767485</td>\n",
       "      <td>1.699618</td>\n",
       "      <td>1.107745</td>\n",
       "      <td>7.495414e-17</td>\n",
       "      <td>-2.916449e-17</td>\n",
       "      <td>-3.437746e-17</td>\n",
       "      <td>500.1667</td>\n",
       "      <td>687.0000</td>\n",
       "      <td>41.92381</td>\n",
       "      <td>37.17257</td>\n",
       "      <td>...</td>\n",
       "      <td>38.70518</td>\n",
       "      <td>38.58568</td>\n",
       "      <td>35.38503</td>\n",
       "      <td>34.71087</td>\n",
       "      <td>31.92091</td>\n",
       "      <td>29.30491</td>\n",
       "      <td>0.583333</td>\n",
       "      <td>0.516152</td>\n",
       "      <td>0.039785</td>\n",
       "      <td>Normal</td>\n",
       "    </tr>\n",
       "    <tr>\n",
       "      <th>4</th>\n",
       "      <td>2.381787</td>\n",
       "      <td>1.941468</td>\n",
       "      <td>1.482395</td>\n",
       "      <td>2.343804e-17</td>\n",
       "      <td>3.225815e-17</td>\n",
       "      <td>-4.268191e-17</td>\n",
       "      <td>601.9000</td>\n",
       "      <td>928.0909</td>\n",
       "      <td>46.01075</td>\n",
       "      <td>37.85883</td>\n",
       "      <td>...</td>\n",
       "      <td>37.46925</td>\n",
       "      <td>46.21087</td>\n",
       "      <td>37.83965</td>\n",
       "      <td>36.80957</td>\n",
       "      <td>31.54697</td>\n",
       "      <td>30.47039</td>\n",
       "      <td>0.000000</td>\n",
       "      <td>0.040477</td>\n",
       "      <td>0.001033</td>\n",
       "      <td>Normal</td>\n",
       "    </tr>\n",
       "  </tbody>\n",
       "</table>\n",
       "<p>5 rows × 27 columns</p>\n",
       "</div>"
      ],
      "text/plain": [
       "    stdPCA1   stdPCA2   stdPCA3      meanPCA1      meanPCA2      meanPCA3  \\\n",
       "0  2.443969  1.956057  1.419750 -1.130227e-16  2.300462e-17 -3.150633e-17   \n",
       "1  3.258185  1.120398  0.830715 -1.528407e-16 -4.200344e-17  5.618962e-17   \n",
       "2  2.647761  1.797890  1.190613 -1.489627e-16  8.707632e-18 -5.675510e-18   \n",
       "3  2.767485  1.699618  1.107745  7.495414e-17 -2.916449e-17 -3.437746e-17   \n",
       "4  2.381787  1.941468  1.482395  2.343804e-17  3.225815e-17 -4.268191e-17   \n",
       "\n",
       "      meanS1     meanS2      stdS1      stdS2  ...   minstdS1   maxstdS1  \\\n",
       "0   630.9091   775.6364   27.21196   84.00985  ...   23.28590   23.73020   \n",
       "1  2118.5000  2387.6670  258.09400  781.68690  ...  258.09400  258.09400   \n",
       "2  1584.6670  1601.0000  445.91960  193.08370  ...  511.94530   62.93250   \n",
       "3   500.1667   687.0000   41.92381   37.17257  ...   38.70518   38.58568   \n",
       "4   601.9000   928.0909   46.01075   37.85883  ...   37.46925   46.21087   \n",
       "\n",
       "     mmstdS1   minstdS2  maxstdS2    mmstdS2  posRatio  stdWavelet  \\\n",
       "0   19.31608   62.78225  79.19042   56.28153  0.260870    0.063271   \n",
       "1  258.09400  943.28040  27.57716  781.68690  0.666667    0.210681   \n",
       "2  445.91960  210.90600  50.29248   55.15433  0.250000    0.122422   \n",
       "3   35.38503   34.71087  31.92091   29.30491  0.583333    0.516152   \n",
       "4   37.83965   36.80957  31.54697   30.47039  0.000000    0.040477   \n",
       "\n",
       "   meanWavelet   class  \n",
       "0     0.006662  Normal  \n",
       "1     0.006673  Normal  \n",
       "2    -0.003863  Normal  \n",
       "3     0.039785  Normal  \n",
       "4     0.001033  Normal  \n",
       "\n",
       "[5 rows x 27 columns]"
      ]
     },
     "execution_count": 3,
     "metadata": {},
     "output_type": "execute_result"
    }
   ],
   "source": [
    "filename = '../../Dataset/heartbeatFeaturesA4.csv'\n",
    "df = pd.read_csv(filename)\n",
    "\n",
    "# Remove the extra column read\n",
    "\n",
    "toremove = df.shape[1] -1 \n",
    "df = df.iloc[:, 0:toremove]\n",
    "df.head()"
   ]
  },
  {
   "cell_type": "markdown",
   "metadata": {},
   "source": [
    "# Some nice stats"
   ]
  },
  {
   "cell_type": "code",
   "execution_count": 5,
   "metadata": {},
   "outputs": [
    {
     "data": {
      "text/plain": [
       "(124, 27)"
      ]
     },
     "execution_count": 5,
     "metadata": {},
     "output_type": "execute_result"
    }
   ],
   "source": [
    "# Check the Dimensions of the data\n",
    "\n",
    "df.shape"
   ]
  },
  {
   "cell_type": "code",
   "execution_count": 6,
   "metadata": {},
   "outputs": [
    {
     "data": {
      "image/png": "[encoded data removed]",
      "text/plain": [
       "<Figure size 432x288 with 1 Axes>"
      ]
     },
     "metadata": {
      "needs_background": "light"
     },
     "output_type": "display_data"
    }
   ],
   "source": [
    "# Check the sitribution of the dataset\n",
    "\n",
    "plot = sns.countplot(x='class', data=df).set_title('Dataset-A Distribution')"
   ]
  },
  {
   "cell_type": "code",
   "execution_count": 7,
   "metadata": {},
   "outputs": [
    {
     "data": {
      "text/plain": [
       "<seaborn.axisgrid.PairGrid at 0x7f12cd5f5668>"
      ]
     },
     "execution_count": 7,
     "metadata": {},
     "output_type": "execute_result"
    },
    {
     "data": {
      "image/png": "[encoded data removed]",
      "text/plain": [
       "<Figure size 997.5x900 with 30 Axes>"
      ]
     },
     "metadata": {
      "needs_background": "light"
     },
     "output_type": "display_data"
    }
   ],
   "source": [
    "# Check some relationships of the different features\n",
    "\n",
    "sns.pairplot(df, vars=df.columns[12:17], hue='class')"
   ]
  },
  {
   "cell_type": "markdown",
   "metadata": {},
   "source": [
    "## Back to the real stuff - Conditioning the Data"
   ]
  },
  {
   "cell_type": "code",
   "execution_count": 8,
   "metadata": {},
   "outputs": [
    {
     "data": {
      "text/html": [
       "<div>\n",
       "<style scoped>\n",
       "    .dataframe tbody tr th:only-of-type {\n",
       "        vertical-align: middle;\n",
       "    }\n",
       "\n",
       "    .dataframe tbody tr th {\n",
       "        vertical-align: top;\n",
       "    }\n",
       "\n",
       "    .dataframe thead th {\n",
       "        text-align: right;\n",
       "    }\n",
       "</style>\n",
       "<table border=\"1\" class=\"dataframe\">\n",
       "  <thead>\n",
       "    <tr style=\"text-align: right;\">\n",
       "      <th></th>\n",
       "      <th>0</th>\n",
       "      <th>1</th>\n",
       "      <th>2</th>\n",
       "      <th>3</th>\n",
       "      <th>4</th>\n",
       "      <th>5</th>\n",
       "      <th>6</th>\n",
       "      <th>7</th>\n",
       "      <th>8</th>\n",
       "      <th>9</th>\n",
       "      <th>...</th>\n",
       "      <th>11</th>\n",
       "      <th>12</th>\n",
       "      <th>13</th>\n",
       "      <th>14</th>\n",
       "      <th>15</th>\n",
       "      <th>16</th>\n",
       "      <th>17</th>\n",
       "      <th>18</th>\n",
       "      <th>19</th>\n",
       "      <th>20</th>\n",
       "    </tr>\n",
       "  </thead>\n",
       "  <tbody>\n",
       "    <tr>\n",
       "      <th>0</th>\n",
       "      <td>0.319128</td>\n",
       "      <td>0.725107</td>\n",
       "      <td>0.834288</td>\n",
       "      <td>0.525408</td>\n",
       "      <td>0.563569</td>\n",
       "      <td>0.483254</td>\n",
       "      <td>0.136398</td>\n",
       "      <td>0.030223</td>\n",
       "      <td>0.013630</td>\n",
       "      <td>0.008166</td>\n",
       "      <td>...</td>\n",
       "      <td>0.471032</td>\n",
       "      <td>0.149668</td>\n",
       "      <td>0.200000</td>\n",
       "      <td>0.099185</td>\n",
       "      <td>0.011421</td>\n",
       "      <td>0.416667</td>\n",
       "      <td>0.016788</td>\n",
       "      <td>0.007698</td>\n",
       "      <td>0.013665</td>\n",
       "      <td>0.005471</td>\n",
       "    </tr>\n",
       "    <tr>\n",
       "      <th>1</th>\n",
       "      <td>0.930489</td>\n",
       "      <td>0.080488</td>\n",
       "      <td>0.288644</td>\n",
       "      <td>0.511140</td>\n",
       "      <td>0.508514</td>\n",
       "      <td>0.600222</td>\n",
       "      <td>0.693966</td>\n",
       "      <td>0.126579</td>\n",
       "      <td>0.129271</td>\n",
       "      <td>0.075983</td>\n",
       "      <td>...</td>\n",
       "      <td>0.553571</td>\n",
       "      <td>0.175355</td>\n",
       "      <td>0.222222</td>\n",
       "      <td>0.101356</td>\n",
       "      <td>0.010620</td>\n",
       "      <td>0.375000</td>\n",
       "      <td>0.182591</td>\n",
       "      <td>0.002681</td>\n",
       "      <td>0.182591</td>\n",
       "      <td>0.075983</td>\n",
       "    </tr>\n",
       "    <tr>\n",
       "      <th>2</th>\n",
       "      <td>0.472147</td>\n",
       "      <td>0.603098</td>\n",
       "      <td>0.622030</td>\n",
       "      <td>0.512529</td>\n",
       "      <td>0.551461</td>\n",
       "      <td>0.517707</td>\n",
       "      <td>0.493878</td>\n",
       "      <td>0.079558</td>\n",
       "      <td>0.223347</td>\n",
       "      <td>0.018768</td>\n",
       "      <td>...</td>\n",
       "      <td>0.531235</td>\n",
       "      <td>0.096125</td>\n",
       "      <td>0.333333</td>\n",
       "      <td>0.080668</td>\n",
       "      <td>0.032069</td>\n",
       "      <td>0.125000</td>\n",
       "      <td>0.044522</td>\n",
       "      <td>0.004889</td>\n",
       "      <td>0.315471</td>\n",
       "      <td>0.005361</td>\n",
       "    </tr>\n",
       "    <tr>\n",
       "      <th>3</th>\n",
       "      <td>0.562043</td>\n",
       "      <td>0.527292</td>\n",
       "      <td>0.545267</td>\n",
       "      <td>0.592769</td>\n",
       "      <td>0.519388</td>\n",
       "      <td>0.479424</td>\n",
       "      <td>0.087394</td>\n",
       "      <td>0.024925</td>\n",
       "      <td>0.020998</td>\n",
       "      <td>0.003613</td>\n",
       "      <td>...</td>\n",
       "      <td>0.720608</td>\n",
       "      <td>0.111594</td>\n",
       "      <td>0.233333</td>\n",
       "      <td>0.087953</td>\n",
       "      <td>0.018741</td>\n",
       "      <td>0.250000</td>\n",
       "      <td>0.027298</td>\n",
       "      <td>0.003103</td>\n",
       "      <td>0.025034</td>\n",
       "      <td>0.002849</td>\n",
       "    </tr>\n",
       "    <tr>\n",
       "      <th>4</th>\n",
       "      <td>0.272438</td>\n",
       "      <td>0.713853</td>\n",
       "      <td>0.892318</td>\n",
       "      <td>0.574308</td>\n",
       "      <td>0.571406</td>\n",
       "      <td>0.468348</td>\n",
       "      <td>0.125525</td>\n",
       "      <td>0.039336</td>\n",
       "      <td>0.023045</td>\n",
       "      <td>0.003680</td>\n",
       "      <td>...</td>\n",
       "      <td>0.339286</td>\n",
       "      <td>0.562892</td>\n",
       "      <td>0.033333</td>\n",
       "      <td>0.784206</td>\n",
       "      <td>0.000460</td>\n",
       "      <td>0.500000</td>\n",
       "      <td>0.032692</td>\n",
       "      <td>0.003066</td>\n",
       "      <td>0.026770</td>\n",
       "      <td>0.002962</td>\n",
       "    </tr>\n",
       "  </tbody>\n",
       "</table>\n",
       "<p>5 rows × 21 columns</p>\n",
       "</div>"
      ],
      "text/plain": [
       "         0         1         2         3         4         5         6   \\\n",
       "0  0.319128  0.725107  0.834288  0.525408  0.563569  0.483254  0.136398   \n",
       "1  0.930489  0.080488  0.288644  0.511140  0.508514  0.600222  0.693966   \n",
       "2  0.472147  0.603098  0.622030  0.512529  0.551461  0.517707  0.493878   \n",
       "3  0.562043  0.527292  0.545267  0.592769  0.519388  0.479424  0.087394   \n",
       "4  0.272438  0.713853  0.892318  0.574308  0.571406  0.468348  0.125525   \n",
       "\n",
       "         7         8         9   ...        11        12        13        14  \\\n",
       "0  0.030223  0.013630  0.008166  ...  0.471032  0.149668  0.200000  0.099185   \n",
       "1  0.126579  0.129271  0.075983  ...  0.553571  0.175355  0.222222  0.101356   \n",
       "2  0.079558  0.223347  0.018768  ...  0.531235  0.096125  0.333333  0.080668   \n",
       "3  0.024925  0.020998  0.003613  ...  0.720608  0.111594  0.233333  0.087953   \n",
       "4  0.039336  0.023045  0.003680  ...  0.339286  0.562892  0.033333  0.784206   \n",
       "\n",
       "         15        16        17        18        19        20  \n",
       "0  0.011421  0.416667  0.016788  0.007698  0.013665  0.005471  \n",
       "1  0.010620  0.375000  0.182591  0.002681  0.182591  0.075983  \n",
       "2  0.032069  0.125000  0.044522  0.004889  0.315471  0.005361  \n",
       "3  0.018741  0.250000  0.027298  0.003103  0.025034  0.002849  \n",
       "4  0.000460  0.500000  0.032692  0.003066  0.026770  0.002962  \n",
       "\n",
       "[5 rows x 21 columns]"
      ]
     },
     "execution_count": 8,
     "metadata": {},
     "output_type": "execute_result"
    }
   ],
   "source": [
    "# Only take this select set of features from the Dataset A\n",
    "\n",
    "X = df.iloc[:,0:17]\n",
    "X[['maxstdS1', 'maxstdS2', 'mmstdS1', 'mmstdS2']] = df[['maxstdS1', 'maxstdS2','mmstdS1', 'mmstdS2']]\n",
    "\n",
    "# Normalise the features\n",
    "\n",
    "min_max_scaler = preprocessing.MinMaxScaler()\n",
    "x_scaled = min_max_scaler.fit_transform(X)\n",
    "X = pd.DataFrame(x_scaled)\n",
    "X.head()"
   ]
  },
  {
   "cell_type": "code",
   "execution_count": 9,
   "metadata": {},
   "outputs": [],
   "source": [
    "# For testing later on ....\n",
    "P = X.values[15:22,:]"
   ]
  },
  {
   "cell_type": "code",
   "execution_count": 10,
   "metadata": {},
   "outputs": [
    {
     "name": "stdout",
     "output_type": "stream",
     "text": [
      "     Artifact  Extrasystole  Murmur  Normal\n",
      "0           0             0       0       1\n",
      "1           0             0       0       1\n",
      "2           0             0       0       1\n",
      "3           0             0       0       1\n",
      "4           0             0       0       1\n",
      "..        ...           ...     ...     ...\n",
      "119         1             0       0       0\n",
      "120         1             0       0       0\n",
      "121         1             0       0       0\n",
      "122         1             0       0       0\n",
      "123         1             0       0       0\n",
      "\n",
      "[124 rows x 4 columns]\n"
     ]
    }
   ],
   "source": [
    "# Get the classes\n",
    "\n",
    "y = df.iloc[:,toremove-1:toremove]\n",
    "y.head()\n",
    "\n",
    "Y = pd.get_dummies(y['class'])\n",
    "print(Y)"
   ]
  },
  {
   "cell_type": "code",
   "execution_count": 11,
   "metadata": {},
   "outputs": [],
   "source": [
    "# Randomise the dataset\n",
    "\n",
    "X,Y = shuffle(X,Y,random_state=100)"
   ]
  },
  {
   "cell_type": "code",
   "execution_count": 13,
   "metadata": {},
   "outputs": [
    {
     "data": {
      "text/html": [
       "<div>\n",
       "<style scoped>\n",
       "    .dataframe tbody tr th:only-of-type {\n",
       "        vertical-align: middle;\n",
       "    }\n",
       "\n",
       "    .dataframe tbody tr th {\n",
       "        vertical-align: top;\n",
       "    }\n",
       "\n",
       "    .dataframe thead th {\n",
       "        text-align: right;\n",
       "    }\n",
       "</style>\n",
       "<table border=\"1\" class=\"dataframe\">\n",
       "  <thead>\n",
       "    <tr style=\"text-align: right;\">\n",
       "      <th></th>\n",
       "      <th>0</th>\n",
       "      <th>1</th>\n",
       "      <th>2</th>\n",
       "      <th>3</th>\n",
       "      <th>4</th>\n",
       "      <th>5</th>\n",
       "      <th>6</th>\n",
       "      <th>7</th>\n",
       "      <th>8</th>\n",
       "      <th>9</th>\n",
       "      <th>...</th>\n",
       "      <th>11</th>\n",
       "      <th>12</th>\n",
       "      <th>13</th>\n",
       "      <th>14</th>\n",
       "      <th>15</th>\n",
       "      <th>16</th>\n",
       "      <th>17</th>\n",
       "      <th>18</th>\n",
       "      <th>19</th>\n",
       "      <th>20</th>\n",
       "    </tr>\n",
       "  </thead>\n",
       "  <tbody>\n",
       "    <tr>\n",
       "      <th>11</th>\n",
       "      <td>0.197452</td>\n",
       "      <td>0.934159</td>\n",
       "      <td>0.751338</td>\n",
       "      <td>0.552400</td>\n",
       "      <td>0.457282</td>\n",
       "      <td>0.397901</td>\n",
       "      <td>0.215392</td>\n",
       "      <td>0.035445</td>\n",
       "      <td>0.206511</td>\n",
       "      <td>0.028875</td>\n",
       "      <td>...</td>\n",
       "      <td>0.207125</td>\n",
       "      <td>0.017923</td>\n",
       "      <td>0.022222</td>\n",
       "      <td>0.070426</td>\n",
       "      <td>0.009328</td>\n",
       "      <td>0.166667</td>\n",
       "      <td>0.076183</td>\n",
       "      <td>0.030322</td>\n",
       "      <td>0.073149</td>\n",
       "      <td>0.009679</td>\n",
       "    </tr>\n",
       "    <tr>\n",
       "      <th>107</th>\n",
       "      <td>0.672877</td>\n",
       "      <td>0.546686</td>\n",
       "      <td>0.426881</td>\n",
       "      <td>0.525241</td>\n",
       "      <td>0.450272</td>\n",
       "      <td>1.000000</td>\n",
       "      <td>0.094228</td>\n",
       "      <td>0.025882</td>\n",
       "      <td>0.292179</td>\n",
       "      <td>0.057793</td>\n",
       "      <td>...</td>\n",
       "      <td>0.160714</td>\n",
       "      <td>0.246050</td>\n",
       "      <td>0.033333</td>\n",
       "      <td>0.369217</td>\n",
       "      <td>0.001099</td>\n",
       "      <td>0.458333</td>\n",
       "      <td>0.062177</td>\n",
       "      <td>0.020489</td>\n",
       "      <td>0.018802</td>\n",
       "      <td>0.020370</td>\n",
       "    </tr>\n",
       "    <tr>\n",
       "      <th>102</th>\n",
       "      <td>0.891815</td>\n",
       "      <td>0.182362</td>\n",
       "      <td>0.280085</td>\n",
       "      <td>0.585271</td>\n",
       "      <td>0.328197</td>\n",
       "      <td>0.469129</td>\n",
       "      <td>0.038451</td>\n",
       "      <td>0.008000</td>\n",
       "      <td>0.051915</td>\n",
       "      <td>0.011963</td>\n",
       "      <td>...</td>\n",
       "      <td>0.625000</td>\n",
       "      <td>0.191604</td>\n",
       "      <td>0.077778</td>\n",
       "      <td>0.167917</td>\n",
       "      <td>0.003369</td>\n",
       "      <td>0.291667</td>\n",
       "      <td>0.064311</td>\n",
       "      <td>0.009226</td>\n",
       "      <td>0.061593</td>\n",
       "      <td>0.009216</td>\n",
       "    </tr>\n",
       "    <tr>\n",
       "      <th>70</th>\n",
       "      <td>0.289530</td>\n",
       "      <td>0.972174</td>\n",
       "      <td>0.576681</td>\n",
       "      <td>0.619692</td>\n",
       "      <td>0.636528</td>\n",
       "      <td>0.430919</td>\n",
       "      <td>0.069238</td>\n",
       "      <td>0.013286</td>\n",
       "      <td>0.043519</td>\n",
       "      <td>0.012704</td>\n",
       "      <td>...</td>\n",
       "      <td>0.621026</td>\n",
       "      <td>0.678741</td>\n",
       "      <td>0.055556</td>\n",
       "      <td>0.589734</td>\n",
       "      <td>0.000633</td>\n",
       "      <td>0.333333</td>\n",
       "      <td>0.059113</td>\n",
       "      <td>0.008147</td>\n",
       "      <td>0.051617</td>\n",
       "      <td>0.008101</td>\n",
       "    </tr>\n",
       "    <tr>\n",
       "      <th>85</th>\n",
       "      <td>0.847793</td>\n",
       "      <td>0.428626</td>\n",
       "      <td>0.000000</td>\n",
       "      <td>0.764831</td>\n",
       "      <td>0.830965</td>\n",
       "      <td>0.849410</td>\n",
       "      <td>0.129535</td>\n",
       "      <td>0.041811</td>\n",
       "      <td>0.113535</td>\n",
       "      <td>0.121109</td>\n",
       "      <td>...</td>\n",
       "      <td>0.125000</td>\n",
       "      <td>0.060181</td>\n",
       "      <td>0.200000</td>\n",
       "      <td>0.079651</td>\n",
       "      <td>0.035608</td>\n",
       "      <td>0.250000</td>\n",
       "      <td>0.153930</td>\n",
       "      <td>0.007504</td>\n",
       "      <td>0.083924</td>\n",
       "      <td>0.008592</td>\n",
       "    </tr>\n",
       "  </tbody>\n",
       "</table>\n",
       "<p>5 rows × 21 columns</p>\n",
       "</div>"
      ],
      "text/plain": [
       "           0         1         2         3         4         5         6   \\\n",
       "11   0.197452  0.934159  0.751338  0.552400  0.457282  0.397901  0.215392   \n",
       "107  0.672877  0.546686  0.426881  0.525241  0.450272  1.000000  0.094228   \n",
       "102  0.891815  0.182362  0.280085  0.585271  0.328197  0.469129  0.038451   \n",
       "70   0.289530  0.972174  0.576681  0.619692  0.636528  0.430919  0.069238   \n",
       "85   0.847793  0.428626  0.000000  0.764831  0.830965  0.849410  0.129535   \n",
       "\n",
       "           7         8         9   ...        11        12        13  \\\n",
       "11   0.035445  0.206511  0.028875  ...  0.207125  0.017923  0.022222   \n",
       "107  0.025882  0.292179  0.057793  ...  0.160714  0.246050  0.033333   \n",
       "102  0.008000  0.051915  0.011963  ...  0.625000  0.191604  0.077778   \n",
       "70   0.013286  0.043519  0.012704  ...  0.621026  0.678741  0.055556   \n",
       "85   0.041811  0.113535  0.121109  ...  0.125000  0.060181  0.200000   \n",
       "\n",
       "           14        15        16        17        18        19        20  \n",
       "11   0.070426  0.009328  0.166667  0.076183  0.030322  0.073149  0.009679  \n",
       "107  0.369217  0.001099  0.458333  0.062177  0.020489  0.018802  0.020370  \n",
       "102  0.167917  0.003369  0.291667  0.064311  0.009226  0.061593  0.009216  \n",
       "70   0.589734  0.000633  0.333333  0.059113  0.008147  0.051617  0.008101  \n",
       "85   0.079651  0.035608  0.250000  0.153930  0.007504  0.083924  0.008592  \n",
       "\n",
       "[5 rows x 21 columns]"
      ]
     },
     "execution_count": 13,
     "metadata": {},
     "output_type": "execute_result"
    }
   ],
   "source": [
    "X.head()"
   ]
  },
  {
   "cell_type": "code",
   "execution_count": 14,
   "metadata": {},
   "outputs": [],
   "source": [
    "# Split into training & Testing\n",
    "\n",
    "from sklearn.model_selection import train_test_split\n",
    "X_train,X_test, Y_train, Y_test = train_test_split(X,Y,test_size=0.2, random_state = 100)\n"
   ]
  },
  {
   "cell_type": "code",
   "execution_count": 16,
   "metadata": {},
   "outputs": [
    {
     "name": "stdout",
     "output_type": "stream",
     "text": [
      "[[0 0 0 1]\n",
      " [0 0 1 0]\n",
      " [0 1 0 0]\n",
      " [1 0 0 0]] \n",
      "\n",
      "Training numbers :  [26 25 20 28] \n",
      "\n"
     ]
    }
   ],
   "source": [
    "# Check the proportions of classes for training\n",
    "\n",
    "classes, count = np.unique(Y_train,axis=0,return_counts=True)\n",
    "\n",
    "print(classes,'\\n')\n",
    "print(\"Training numbers : \",count, '\\n')"
   ]
  },
  {
   "cell_type": "code",
   "execution_count": 17,
   "metadata": {},
   "outputs": [
    {
     "name": "stdout",
     "output_type": "stream",
     "text": [
      "[[0 0 0 1]\n",
      " [0 0 1 0]\n",
      " [0 1 0 0]\n",
      " [1 0 0 0]] \n",
      "\n",
      "Training numbers :  [5 9 6 5] \n",
      "\n"
     ]
    }
   ],
   "source": [
    "# Check the proportions of classes for testing\n",
    "\n",
    "classes, count = np.unique(Y_test,axis=0,return_counts=True)\n",
    "\n",
    "print(classes,'\\n')\n",
    "print(\"Training numbers : \",count, '\\n')"
   ]
  },
  {
   "cell_type": "markdown",
   "metadata": {},
   "source": [
    "# Training"
   ]
  },
  {
   "cell_type": "code",
   "execution_count": 18,
   "metadata": {},
   "outputs": [
    {
     "name": "stderr",
     "output_type": "stream",
     "text": [
      "Using TensorFlow backend.\n"
     ]
    }
   ],
   "source": [
    "import keras\n",
    "from keras.models import Sequential\n",
    "from keras.layers import Dense\n",
    "from keras.layers.core import Dropout\n",
    "from keras.callbacks import EarlyStopping\n",
    "from keras.optimizers import Adam"
   ]
  },
  {
   "cell_type": "code",
   "execution_count": 19,
   "metadata": {},
   "outputs": [
    {
     "name": "stderr",
     "output_type": "stream",
     "text": [
      "WARNING: Logging before flag parsing goes to stderr.\n",
      "W0913 00:16:58.294759 139720279684928 deprecation_wrapper.py:119] From /usr/local/lib/python3.7/dist-packages/keras/backend/tensorflow_backend.py:74: The name tf.get_default_graph is deprecated. Please use tf.compat.v1.get_default_graph instead.\n",
      "\n"
     ]
    }
   ],
   "source": [
    "# Use sequential model\n",
    "clf = Sequential()"
   ]
  },
  {
   "cell_type": "code",
   "execution_count": 20,
   "metadata": {},
   "outputs": [
    {
     "name": "stdout",
     "output_type": "stream",
     "text": [
      "21 4 12\n"
     ]
    }
   ],
   "source": [
    "# Get dimension of the model from the dataset\n",
    "\n",
    "x_dim = X.shape[1]\n",
    "y_dim = Y.shape[1]\n",
    "\n",
    "n_unit = int(np.floor((x_dim + y_dim)/2))\n",
    "\n",
    "print(x_dim, y_dim,n_unit)"
   ]
  },
  {
   "cell_type": "code",
   "execution_count": 21,
   "metadata": {},
   "outputs": [
    {
     "name": "stderr",
     "output_type": "stream",
     "text": [
      "W0913 00:18:34.845509 139720279684928 deprecation_wrapper.py:119] From /usr/local/lib/python3.7/dist-packages/keras/backend/tensorflow_backend.py:517: The name tf.placeholder is deprecated. Please use tf.compat.v1.placeholder instead.\n",
      "\n",
      "W0913 00:18:35.188326 139720279684928 deprecation_wrapper.py:119] From /usr/local/lib/python3.7/dist-packages/keras/backend/tensorflow_backend.py:4138: The name tf.random_uniform is deprecated. Please use tf.random.uniform instead.\n",
      "\n"
     ]
    }
   ],
   "source": [
    "# Build the model\n",
    "\n",
    "clf.add(Dense(activation = 'relu', input_dim = x_dim, units=n_unit, kernel_initializer= 'uniform'))\n",
    "#clf.add(Dropout(0.25))"
   ]
  },
  {
   "cell_type": "code",
   "execution_count": 22,
   "metadata": {},
   "outputs": [],
   "source": [
    "# Only use one hidden layer\n",
    "\n",
    "layers = 1\n",
    "clf.add(Dense(activation= 'relu', units = n_unit, kernel_initializer='uniform'))"
   ]
  },
  {
   "cell_type": "code",
   "execution_count": 23,
   "metadata": {},
   "outputs": [],
   "source": [
    "# Adding the output layer\n",
    "\n",
    "clf.add(Dense(activation = 'softmax', units=y_dim, kernel_initializer='uniform'))"
   ]
  },
  {
   "cell_type": "code",
   "execution_count": 24,
   "metadata": {},
   "outputs": [
    {
     "name": "stderr",
     "output_type": "stream",
     "text": [
      "W0913 00:20:18.828554 139720279684928 deprecation_wrapper.py:119] From /usr/local/lib/python3.7/dist-packages/keras/optimizers.py:790: The name tf.train.Optimizer is deprecated. Please use tf.compat.v1.train.Optimizer instead.\n",
      "\n",
      "W0913 00:20:18.904931 139720279684928 deprecation_wrapper.py:119] From /usr/local/lib/python3.7/dist-packages/keras/backend/tensorflow_backend.py:3376: The name tf.log is deprecated. Please use tf.math.log instead.\n",
      "\n",
      "W0913 00:20:18.915727 139720279684928 deprecation.py:323] From /usr/local/lib/python3.7/dist-packages/tensorflow/python/ops/nn_impl.py:180: add_dispatch_support.<locals>.wrapper (from tensorflow.python.ops.array_ops) is deprecated and will be removed in a future version.\n",
      "Instructions for updating:\n",
      "Use tf.where in 2.0, which has the same broadcast rule as np.where\n"
     ]
    }
   ],
   "source": [
    "# Finalise the model\n",
    "\n",
    "clf.compile(optimizer='adam', loss = 'binary_crossentropy', metrics=['accuracy'])"
   ]
  },
  {
   "cell_type": "code",
   "execution_count": 25,
   "metadata": {},
   "outputs": [
    {
     "name": "stderr",
     "output_type": "stream",
     "text": [
      "W0913 00:20:57.764626 139720279684928 deprecation_wrapper.py:119] From /usr/local/lib/python3.7/dist-packages/keras/backend/tensorflow_backend.py:986: The name tf.assign_add is deprecated. Please use tf.compat.v1.assign_add instead.\n",
      "\n"
     ]
    },
    {
     "name": "stdout",
     "output_type": "stream",
     "text": [
      "Train on 99 samples, validate on 25 samples\n",
      "Epoch 1/100\n",
      "99/99 [==============================] - 1s 15ms/step - loss: 0.5624 - acc: 0.7500 - val_loss: 0.5625 - val_acc: 0.7500\n",
      "Epoch 2/100\n",
      "99/99 [==============================] - 0s 308us/step - loss: 0.5622 - acc: 0.7500 - val_loss: 0.5625 - val_acc: 0.7500\n",
      "Epoch 3/100\n",
      "99/99 [==============================] - 0s 197us/step - loss: 0.5620 - acc: 0.7500 - val_loss: 0.5624 - val_acc: 0.7500\n",
      "Epoch 4/100\n",
      "99/99 [==============================] - 0s 206us/step - loss: 0.5618 - acc: 0.7500 - val_loss: 0.5623 - val_acc: 0.7500\n",
      "Epoch 5/100\n",
      "99/99 [==============================] - 0s 167us/step - loss: 0.5617 - acc: 0.7500 - val_loss: 0.5622 - val_acc: 0.7500\n",
      "Epoch 6/100\n",
      "99/99 [==============================] - 0s 186us/step - loss: 0.5614 - acc: 0.7500 - val_loss: 0.5618 - val_acc: 0.7500\n",
      "Epoch 7/100\n",
      "99/99 [==============================] - 0s 240us/step - loss: 0.5610 - acc: 0.7500 - val_loss: 0.5616 - val_acc: 0.7500\n",
      "Epoch 8/100\n",
      "99/99 [==============================] - 0s 178us/step - loss: 0.5604 - acc: 0.7500 - val_loss: 0.5609 - val_acc: 0.7500\n",
      "Epoch 9/100\n",
      "99/99 [==============================] - 0s 167us/step - loss: 0.5597 - acc: 0.7500 - val_loss: 0.5601 - val_acc: 0.7500\n",
      "Epoch 10/100\n",
      "99/99 [==============================] - 0s 214us/step - loss: 0.5587 - acc: 0.7500 - val_loss: 0.5594 - val_acc: 0.7500\n",
      "Epoch 11/100\n",
      "99/99 [==============================] - 0s 182us/step - loss: 0.5575 - acc: 0.7500 - val_loss: 0.5579 - val_acc: 0.7500\n",
      "Epoch 12/100\n",
      "99/99 [==============================] - 0s 219us/step - loss: 0.5560 - acc: 0.7500 - val_loss: 0.5558 - val_acc: 0.7500\n",
      "Epoch 13/100\n",
      "99/99 [==============================] - 0s 201us/step - loss: 0.5537 - acc: 0.7500 - val_loss: 0.5540 - val_acc: 0.7500\n",
      "Epoch 14/100\n",
      "99/99 [==============================] - 0s 173us/step - loss: 0.5516 - acc: 0.7500 - val_loss: 0.5511 - val_acc: 0.7500\n",
      "Epoch 15/100\n",
      "99/99 [==============================] - 0s 199us/step - loss: 0.5488 - acc: 0.7500 - val_loss: 0.5487 - val_acc: 0.7500\n",
      "Epoch 16/100\n",
      "99/99 [==============================] - 0s 214us/step - loss: 0.5454 - acc: 0.7500 - val_loss: 0.5439 - val_acc: 0.7500\n",
      "Epoch 17/100\n",
      "99/99 [==============================] - 0s 166us/step - loss: 0.5408 - acc: 0.7500 - val_loss: 0.5404 - val_acc: 0.7500\n",
      "Epoch 18/100\n",
      "99/99 [==============================] - 0s 222us/step - loss: 0.5363 - acc: 0.7500 - val_loss: 0.5359 - val_acc: 0.7500\n",
      "Epoch 19/100\n",
      "99/99 [==============================] - 0s 219us/step - loss: 0.5313 - acc: 0.7500 - val_loss: 0.5321 - val_acc: 0.7500\n",
      "Epoch 20/100\n",
      "99/99 [==============================] - 0s 187us/step - loss: 0.5253 - acc: 0.7500 - val_loss: 0.5254 - val_acc: 0.7500\n",
      "Epoch 21/100\n",
      "99/99 [==============================] - 0s 203us/step - loss: 0.5187 - acc: 0.7500 - val_loss: 0.5205 - val_acc: 0.7600\n",
      "Epoch 22/100\n",
      "99/99 [==============================] - 0s 204us/step - loss: 0.5128 - acc: 0.7500 - val_loss: 0.5145 - val_acc: 0.7500\n",
      "Epoch 23/100\n",
      "99/99 [==============================] - 0s 188us/step - loss: 0.5052 - acc: 0.7551 - val_loss: 0.5104 - val_acc: 0.7500\n",
      "Epoch 24/100\n",
      "99/99 [==============================] - 0s 230us/step - loss: 0.4983 - acc: 0.7576 - val_loss: 0.5038 - val_acc: 0.7500\n",
      "Epoch 25/100\n",
      "99/99 [==============================] - 0s 214us/step - loss: 0.4914 - acc: 0.7601 - val_loss: 0.4998 - val_acc: 0.7600\n",
      "Epoch 26/100\n",
      "99/99 [==============================] - 0s 186us/step - loss: 0.4843 - acc: 0.7702 - val_loss: 0.4949 - val_acc: 0.7600\n",
      "Epoch 27/100\n",
      "99/99 [==============================] - 0s 215us/step - loss: 0.4779 - acc: 0.7778 - val_loss: 0.4895 - val_acc: 0.7600\n",
      "Epoch 28/100\n",
      "99/99 [==============================] - 0s 191us/step - loss: 0.4717 - acc: 0.7778 - val_loss: 0.4882 - val_acc: 0.7600\n",
      "Epoch 29/100\n",
      "99/99 [==============================] - 0s 172us/step - loss: 0.4656 - acc: 0.7828 - val_loss: 0.4827 - val_acc: 0.7600\n",
      "Epoch 30/100\n",
      "99/99 [==============================] - 0s 188us/step - loss: 0.4606 - acc: 0.7854 - val_loss: 0.4805 - val_acc: 0.7600\n",
      "Epoch 31/100\n",
      "99/99 [==============================] - 0s 187us/step - loss: 0.4557 - acc: 0.7879 - val_loss: 0.4789 - val_acc: 0.7600\n",
      "Epoch 32/100\n",
      "99/99 [==============================] - 0s 212us/step - loss: 0.4505 - acc: 0.7929 - val_loss: 0.4753 - val_acc: 0.7600\n",
      "Epoch 33/100\n",
      "99/99 [==============================] - 0s 193us/step - loss: 0.4472 - acc: 0.7955 - val_loss: 0.4743 - val_acc: 0.7700\n",
      "Epoch 34/100\n",
      "99/99 [==============================] - 0s 183us/step - loss: 0.4428 - acc: 0.7955 - val_loss: 0.4702 - val_acc: 0.7800\n",
      "Epoch 35/100\n",
      "99/99 [==============================] - 0s 203us/step - loss: 0.4390 - acc: 0.8005 - val_loss: 0.4678 - val_acc: 0.7800\n",
      "Epoch 36/100\n",
      "99/99 [==============================] - 0s 227us/step - loss: 0.4361 - acc: 0.8081 - val_loss: 0.4681 - val_acc: 0.7800\n",
      "Epoch 37/100\n",
      "99/99 [==============================] - 0s 258us/step - loss: 0.4340 - acc: 0.8106 - val_loss: 0.4649 - val_acc: 0.7900\n",
      "Epoch 38/100\n",
      "99/99 [==============================] - 0s 175us/step - loss: 0.4304 - acc: 0.8131 - val_loss: 0.4661 - val_acc: 0.7900\n",
      "Epoch 39/100\n",
      "99/99 [==============================] - 0s 201us/step - loss: 0.4283 - acc: 0.8106 - val_loss: 0.4610 - val_acc: 0.7900\n",
      "Epoch 40/100\n",
      "99/99 [==============================] - 0s 150us/step - loss: 0.4243 - acc: 0.8131 - val_loss: 0.4608 - val_acc: 0.7900\n",
      "Epoch 41/100\n",
      "99/99 [==============================] - 0s 194us/step - loss: 0.4228 - acc: 0.8157 - val_loss: 0.4580 - val_acc: 0.7900\n",
      "Epoch 42/100\n",
      "99/99 [==============================] - 0s 212us/step - loss: 0.4196 - acc: 0.8131 - val_loss: 0.4571 - val_acc: 0.7900\n",
      "Epoch 43/100\n",
      "99/99 [==============================] - 0s 224us/step - loss: 0.4177 - acc: 0.8157 - val_loss: 0.4560 - val_acc: 0.7900\n",
      "Epoch 44/100\n",
      "99/99 [==============================] - 0s 160us/step - loss: 0.4156 - acc: 0.8182 - val_loss: 0.4551 - val_acc: 0.7900\n",
      "Epoch 45/100\n",
      "99/99 [==============================] - 0s 186us/step - loss: 0.4143 - acc: 0.8157 - val_loss: 0.4527 - val_acc: 0.7900\n",
      "Epoch 46/100\n",
      "99/99 [==============================] - 0s 190us/step - loss: 0.4118 - acc: 0.8157 - val_loss: 0.4525 - val_acc: 0.7900\n",
      "Epoch 47/100\n",
      "99/99 [==============================] - 0s 190us/step - loss: 0.4105 - acc: 0.8182 - val_loss: 0.4524 - val_acc: 0.7900\n",
      "Epoch 48/100\n",
      "99/99 [==============================] - 0s 207us/step - loss: 0.4088 - acc: 0.8182 - val_loss: 0.4509 - val_acc: 0.7900\n",
      "Epoch 49/100\n",
      "99/99 [==============================] - 0s 196us/step - loss: 0.4075 - acc: 0.8182 - val_loss: 0.4487 - val_acc: 0.7900\n",
      "Epoch 50/100\n",
      "99/99 [==============================] - 0s 177us/step - loss: 0.4057 - acc: 0.8182 - val_loss: 0.4493 - val_acc: 0.7900\n",
      "Epoch 51/100\n",
      "99/99 [==============================] - 0s 186us/step - loss: 0.4044 - acc: 0.8182 - val_loss: 0.4485 - val_acc: 0.7900\n",
      "Epoch 52/100\n",
      "99/99 [==============================] - 0s 152us/step - loss: 0.4046 - acc: 0.8182 - val_loss: 0.4483 - val_acc: 0.7900\n",
      "Epoch 53/100\n",
      "99/99 [==============================] - 0s 164us/step - loss: 0.4018 - acc: 0.8232 - val_loss: 0.4457 - val_acc: 0.7900\n",
      "Epoch 54/100\n",
      "99/99 [==============================] - 0s 209us/step - loss: 0.4010 - acc: 0.8283 - val_loss: 0.4460 - val_acc: 0.7900\n",
      "Epoch 55/100\n",
      "99/99 [==============================] - 0s 167us/step - loss: 0.4000 - acc: 0.8258 - val_loss: 0.4450 - val_acc: 0.7900\n",
      "Epoch 56/100\n",
      "99/99 [==============================] - 0s 193us/step - loss: 0.3989 - acc: 0.8182 - val_loss: 0.4460 - val_acc: 0.7900\n",
      "Epoch 57/100\n",
      "99/99 [==============================] - 0s 190us/step - loss: 0.3980 - acc: 0.8207 - val_loss: 0.4432 - val_acc: 0.7900\n",
      "Epoch 58/100\n",
      "99/99 [==============================] - 0s 183us/step - loss: 0.3965 - acc: 0.8207 - val_loss: 0.4442 - val_acc: 0.7900\n",
      "Epoch 59/100\n",
      "99/99 [==============================] - 0s 208us/step - loss: 0.3962 - acc: 0.8232 - val_loss: 0.4423 - val_acc: 0.7900\n",
      "Epoch 60/100\n",
      "99/99 [==============================] - 0s 267us/step - loss: 0.3942 - acc: 0.8258 - val_loss: 0.4435 - val_acc: 0.7900\n",
      "Epoch 61/100\n",
      "99/99 [==============================] - 0s 193us/step - loss: 0.3932 - acc: 0.8258 - val_loss: 0.4427 - val_acc: 0.7900\n"
     ]
    },
    {
     "name": "stdout",
     "output_type": "stream",
     "text": [
      "Epoch 62/100\n",
      "99/99 [==============================] - 0s 183us/step - loss: 0.3919 - acc: 0.8258 - val_loss: 0.4407 - val_acc: 0.7900\n",
      "Epoch 63/100\n",
      "99/99 [==============================] - 0s 221us/step - loss: 0.3912 - acc: 0.8258 - val_loss: 0.4392 - val_acc: 0.7900\n",
      "Epoch 64/100\n",
      "99/99 [==============================] - 0s 175us/step - loss: 0.3909 - acc: 0.8232 - val_loss: 0.4413 - val_acc: 0.8000\n",
      "Epoch 65/100\n",
      "99/99 [==============================] - 0s 186us/step - loss: 0.3918 - acc: 0.8232 - val_loss: 0.4378 - val_acc: 0.7900\n",
      "Epoch 66/100\n",
      "99/99 [==============================] - 0s 176us/step - loss: 0.3893 - acc: 0.8258 - val_loss: 0.4390 - val_acc: 0.8000\n",
      "Epoch 67/100\n",
      "99/99 [==============================] - 0s 183us/step - loss: 0.3880 - acc: 0.8232 - val_loss: 0.4366 - val_acc: 0.8000\n",
      "Epoch 68/100\n",
      "99/99 [==============================] - 0s 169us/step - loss: 0.3882 - acc: 0.8258 - val_loss: 0.4360 - val_acc: 0.7900\n",
      "Epoch 69/100\n",
      "99/99 [==============================] - 0s 174us/step - loss: 0.3860 - acc: 0.8258 - val_loss: 0.4379 - val_acc: 0.8000\n",
      "Epoch 70/100\n",
      "99/99 [==============================] - 0s 182us/step - loss: 0.3857 - acc: 0.8232 - val_loss: 0.4370 - val_acc: 0.8000\n",
      "Epoch 71/100\n",
      "99/99 [==============================] - 0s 183us/step - loss: 0.3853 - acc: 0.8232 - val_loss: 0.4360 - val_acc: 0.8000\n",
      "Epoch 72/100\n",
      "99/99 [==============================] - 0s 240us/step - loss: 0.3872 - acc: 0.8207 - val_loss: 0.4335 - val_acc: 0.7900\n",
      "Epoch 73/100\n",
      "99/99 [==============================] - 0s 153us/step - loss: 0.3866 - acc: 0.8207 - val_loss: 0.4378 - val_acc: 0.8100\n",
      "Epoch 74/100\n",
      "99/99 [==============================] - 0s 203us/step - loss: 0.3831 - acc: 0.8258 - val_loss: 0.4346 - val_acc: 0.8000\n",
      "Epoch 75/100\n",
      "99/99 [==============================] - 0s 182us/step - loss: 0.3824 - acc: 0.8258 - val_loss: 0.4320 - val_acc: 0.8000\n",
      "Epoch 76/100\n",
      "99/99 [==============================] - 0s 174us/step - loss: 0.3813 - acc: 0.8232 - val_loss: 0.4331 - val_acc: 0.8000\n",
      "Epoch 77/100\n",
      "99/99 [==============================] - 0s 196us/step - loss: 0.3807 - acc: 0.8308 - val_loss: 0.4335 - val_acc: 0.8000\n",
      "Epoch 78/100\n",
      "99/99 [==============================] - 0s 148us/step - loss: 0.3799 - acc: 0.8283 - val_loss: 0.4322 - val_acc: 0.8000\n",
      "Epoch 79/100\n",
      "99/99 [==============================] - 0s 177us/step - loss: 0.3802 - acc: 0.8283 - val_loss: 0.4333 - val_acc: 0.8000\n",
      "Epoch 80/100\n",
      "99/99 [==============================] - 0s 187us/step - loss: 0.3791 - acc: 0.8308 - val_loss: 0.4306 - val_acc: 0.8000\n",
      "Epoch 81/100\n",
      "99/99 [==============================] - 0s 165us/step - loss: 0.3787 - acc: 0.8258 - val_loss: 0.4315 - val_acc: 0.8000\n",
      "Epoch 82/100\n",
      "99/99 [==============================] - 0s 190us/step - loss: 0.3777 - acc: 0.8283 - val_loss: 0.4321 - val_acc: 0.8000\n",
      "Epoch 83/100\n",
      "99/99 [==============================] - 0s 190us/step - loss: 0.3771 - acc: 0.8283 - val_loss: 0.4292 - val_acc: 0.8000\n",
      "Epoch 84/100\n",
      "99/99 [==============================] - 0s 189us/step - loss: 0.3778 - acc: 0.8308 - val_loss: 0.4282 - val_acc: 0.8000\n",
      "Epoch 85/100\n",
      "99/99 [==============================] - 0s 163us/step - loss: 0.3753 - acc: 0.8308 - val_loss: 0.4304 - val_acc: 0.8000\n",
      "Epoch 86/100\n",
      "99/99 [==============================] - 0s 181us/step - loss: 0.3747 - acc: 0.8283 - val_loss: 0.4303 - val_acc: 0.8000\n",
      "Epoch 87/100\n",
      "99/99 [==============================] - 0s 173us/step - loss: 0.3745 - acc: 0.8283 - val_loss: 0.4302 - val_acc: 0.8000\n",
      "Epoch 88/100\n",
      "99/99 [==============================] - 0s 199us/step - loss: 0.3744 - acc: 0.8258 - val_loss: 0.4306 - val_acc: 0.8000\n",
      "Epoch 89/100\n",
      "99/99 [==============================] - 0s 158us/step - loss: 0.3728 - acc: 0.8283 - val_loss: 0.4295 - val_acc: 0.8000\n",
      "Epoch 90/100\n",
      "99/99 [==============================] - 0s 193us/step - loss: 0.3730 - acc: 0.8308 - val_loss: 0.4284 - val_acc: 0.8000\n",
      "Epoch 91/100\n",
      "99/99 [==============================] - 0s 194us/step - loss: 0.3716 - acc: 0.8283 - val_loss: 0.4305 - val_acc: 0.8000\n",
      "Epoch 92/100\n",
      "99/99 [==============================] - 0s 205us/step - loss: 0.3709 - acc: 0.8283 - val_loss: 0.4279 - val_acc: 0.8000\n",
      "Epoch 93/100\n",
      "99/99 [==============================] - 0s 183us/step - loss: 0.3714 - acc: 0.8258 - val_loss: 0.4305 - val_acc: 0.8000\n",
      "Epoch 94/100\n",
      "99/99 [==============================] - 0s 189us/step - loss: 0.3697 - acc: 0.8333 - val_loss: 0.4283 - val_acc: 0.8000\n",
      "Epoch 95/100\n",
      "99/99 [==============================] - 0s 172us/step - loss: 0.3686 - acc: 0.8333 - val_loss: 0.4298 - val_acc: 0.8000\n",
      "Epoch 96/100\n",
      "99/99 [==============================] - 0s 182us/step - loss: 0.3683 - acc: 0.8283 - val_loss: 0.4290 - val_acc: 0.8000\n",
      "Epoch 97/100\n",
      "99/99 [==============================] - 0s 188us/step - loss: 0.3679 - acc: 0.8333 - val_loss: 0.4272 - val_acc: 0.8100\n",
      "Epoch 98/100\n",
      "99/99 [==============================] - 0s 190us/step - loss: 0.3689 - acc: 0.8283 - val_loss: 0.4285 - val_acc: 0.8000\n",
      "Epoch 99/100\n",
      "99/99 [==============================] - 0s 175us/step - loss: 0.3663 - acc: 0.8283 - val_loss: 0.4288 - val_acc: 0.8000\n",
      "Epoch 100/100\n",
      "99/99 [==============================] - 0s 190us/step - loss: 0.3659 - acc: 0.8384 - val_loss: 0.4271 - val_acc: 0.8100\n"
     ]
    }
   ],
   "source": [
    "# Start training\n",
    "\n",
    "history = clf.fit(X_train, Y_train, batch_size=10, epochs=100, \n",
    "validation_data=(X_test, Y_test)  ,shuffle=True)\n",
    "\n",
    "#validation_data=(X_test, Y_test) validation_split=0.2 "
   ]
  },
  {
   "cell_type": "markdown",
   "metadata": {},
   "source": [
    "### Plots"
   ]
  },
  {
   "cell_type": "code",
   "execution_count": 26,
   "metadata": {},
   "outputs": [
    {
     "data": {
      "text/plain": [
       "Text(0.5, 1.0, 'Training and Validation Loss for Dataset A')"
      ]
     },
     "execution_count": 26,
     "metadata": {},
     "output_type": "execute_result"
    },
    {
     "data": {
      "image/png": "[encoded data removed]",
      "text/plain": [
       "<Figure size 576x576 with 2 Axes>"
      ]
     },
     "metadata": {
      "needs_background": "light"
     },
     "output_type": "display_data"
    }
   ],
   "source": [
    "acc = history.history['acc']\n",
    "val_acc = history.history['val_acc']\n",
    "\n",
    "loss = history.history['loss']\n",
    "val_loss = history.history['val_loss']\n",
    "\n",
    "plt.figure(figsize=(8, 8))\n",
    "plt.subplot(2, 1, 1)\n",
    "plt.plot(acc, label='Training Accuracy')\n",
    "plt.plot(val_acc, label='Validation Accuracy')\n",
    "plt.legend(loc='upper right')\n",
    "plt.ylabel('Accuracy')\n",
    "plt.ylim([min(plt.ylim()),1])\n",
    "plt.title('Training and Validation Accuracy for Dataset A')\n",
    "\n",
    "plt.subplot(2, 1, 2)\n",
    "plt.plot(loss, label='Training Loss')\n",
    "plt.plot(val_loss, label='Validation Loss')\n",
    "plt.legend(loc='upper right')\n",
    "plt.ylabel('Cross Entropy')\n",
    "plt.ylim([0,max(plt.ylim())])\n",
    "plt.title('Training and Validation Loss for Dataset A')\n",
    "# figure_name = './Models/A_81_83_Dropout_25_Validation_split_lr_0_1'\n",
    "# plt.savefig(figure_name + '.jpg')\n",
    "# plt.savefig(figure_name + '.png')"
   ]
  },
  {
   "cell_type": "code",
   "execution_count": 27,
   "metadata": {},
   "outputs": [
    {
     "name": "stdout",
     "output_type": "stream",
     "text": [
      "Final Accuracy:  80.99999904632568 \tMean Accuracy : 78.13000016212462 \n",
      "\n",
      "Training Accuracy:  83.83838347714357 \tMean Training Accuracy : 80.17929295217148\n"
     ]
    }
   ],
   "source": [
    "print('Final Accuracy: ' ,val_acc[99]*100, '\\tMean Accuracy :', np.mean(val_acc)*100, '\\n\\nTraining Accuracy: ', acc[99]*100 ,'\\tMean Training Accuracy :', np.mean(acc)*100, )"
   ]
  },
  {
   "cell_type": "markdown",
   "metadata": {},
   "source": [
    "# Testing 123 Testing"
   ]
  },
  {
   "cell_type": "code",
   "execution_count": 28,
   "metadata": {},
   "outputs": [],
   "source": [
    "Y_pred = clf.predict(X_test)"
   ]
  },
  {
   "cell_type": "code",
   "execution_count": 29,
   "metadata": {},
   "outputs": [],
   "source": [
    "for i in range (0,Y_pred.shape[0]):\n",
    "  Y_pred[i] = (Y_pred[i] == np.max(Y_pred[i]))\n"
   ]
  },
  {
   "cell_type": "code",
   "execution_count": 30,
   "metadata": {},
   "outputs": [
    {
     "name": "stdout",
     "output_type": "stream",
     "text": [
      "[[3 1 0 1]\n",
      " [1 2 0 3]\n",
      " [0 0 6 3]\n",
      " [0 0 1 4]]\n"
     ]
    }
   ],
   "source": [
    "from sklearn.metrics import confusion_matrix\n",
    "cm = confusion_matrix(Y_test.values.argmax(axis=1),Y_pred.argmax(axis=1))\n",
    "print(cm)"
   ]
  },
  {
   "cell_type": "code",
   "execution_count": 31,
   "metadata": {},
   "outputs": [
    {
     "name": "stdout",
     "output_type": "stream",
     "text": [
      "0.6\n"
     ]
    }
   ],
   "source": [
    "score = accuracy_score(Y_test.values.argmax(axis=1),Y_pred.argmax(axis=1))\n",
    "print(score)"
   ]
  },
  {
   "cell_type": "code",
   "execution_count": 32,
   "metadata": {},
   "outputs": [
    {
     "name": "stdout",
     "output_type": "stream",
     "text": [
      "              precision    recall  f1-score   support\n",
      "\n",
      "           0       0.75      0.60      0.67         5\n",
      "           1       0.67      0.33      0.44         6\n",
      "           2       0.86      0.67      0.75         9\n",
      "           3       0.36      0.80      0.50         5\n",
      "\n",
      "    accuracy                           0.60        25\n",
      "   macro avg       0.66      0.60      0.59        25\n",
      "weighted avg       0.69      0.60      0.61        25\n",
      "\n"
     ]
    }
   ],
   "source": [
    "print(classification_report(Y_test.values.argmax(axis=1),Y_pred.argmax(axis=1)))"
   ]
  },
  {
   "cell_type": "code",
   "execution_count": 34,
   "metadata": {},
   "outputs": [],
   "source": [
    "# This is  the log file ....\n",
    "#with open('./Logs/A_ANN_stats.log', 'a+') as f:\n",
    "#           f.write('\\n==============================================================\\n' + '\\n '+ filename  +'\\n\\n' + str(cm) +'\\n\\n' + 'Dimensions: ' + str(x_dim) +' Layers: ' + str(layers) + '\\n'+ 'Testing Accuracy: ' + str(val_acc[99]*100) + ' Training Acc: ' + str(acc[99]*100) + '\\nTesting Score: '+ str(score) + '\\n\\n' + classification_report(Y_test.values.argmax(axis=1),Y_pred.argmax(axis=1)))"
   ]
  },
  {
   "cell_type": "markdown",
   "metadata": {},
   "source": [
    "# Saving The Model\n"
   ]
  },
  {
   "cell_type": "code",
   "execution_count": 33,
   "metadata": {},
   "outputs": [],
   "source": [
    "# import pickle"
   ]
  },
  {
   "cell_type": "code",
   "execution_count": 34,
   "metadata": {},
   "outputs": [],
   "source": [
    "# model_name_ = '../../Models/ANN_DatasetA_81_83_Dropout_25_Validation_split_lr_0_1v3'\n",
    "# model = open(model_name_ + '.pkl', \"wb\")\n",
    "# pickle.dump(clf,model)\n",
    "# model_pkl = open(model_name_ + '.pkl', \"rb\")\n",
    "# model_test = pickle.load(model_pkl)\n",
    "# model_test.summary()"
   ]
  },
  {
   "cell_type": "code",
   "execution_count": 35,
   "metadata": {},
   "outputs": [],
   "source": [
    "#  model_test.predict_proba(P)"
   ]
  },
  {
   "cell_type": "markdown",
   "metadata": {},
   "source": [
    "# Another way of Saving"
   ]
  },
  {
   "cell_type": "code",
   "execution_count": 36,
   "metadata": {},
   "outputs": [],
   "source": [
    "\n",
    "# clf.save(model_name_ + '.h5')\n",
    "# new_model = keras.models.load_model(model_name_ + '.h5')\n",
    "# new_model.summary()"
   ]
  },
  {
   "cell_type": "code",
   "execution_count": 40,
   "metadata": {},
   "outputs": [],
   "source": [
    "# new_predictions = new_model.predict(P)\n",
    "# print(new_predictions )"
   ]
  }
 ],
 "metadata": {
  "kernelspec": {
   "display_name": "Python 3",
   "language": "python",
   "name": "python3"
  },
  "language_info": {
   "codemirror_mode": {
    "name": "ipython",
    "version": 3
   },
   "file_extension": ".py",
   "mimetype": "text/x-python",
   "name": "python",
   "nbconvert_exporter": "python",
   "pygments_lexer": "ipython3",
   "version": "3.8.5"
  }
 },
 "nbformat": 4,
 "nbformat_minor": 2
}
